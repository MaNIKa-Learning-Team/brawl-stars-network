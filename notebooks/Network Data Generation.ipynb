{
 "cells": [
  {
   "cell_type": "markdown",
   "id": "13c13972-c2f2-4c44-bdd1-91d440b994de",
   "metadata": {},
   "source": [
    "# Network Data Generation\n",
    "\n",
    "### Purpose\n",
    "This notebook was created to generate the data for a network of brawlers who are likely to win with each other.\n",
    "\n",
    "### Data Used\n",
    "This notebook will use game data of pairs of brawlers who won/lost together. This data was collected by both team members.\n",
    "\n",
    "### Approach\n",
    "This project will feature the following networks:\n",
    "- a network of brawlers who are more likely to win with each other\n",
    "- a network of brawlers who are more likely to lose with each other\n",
    "\n",
    "#### Why not a Network with Weighted Edges\n",
    "A network with weighted edges will be extremely sparse. Thus, connecting brawlers who are likely to win/lose together may make more sense for this project."
   ]
  },
  {
   "cell_type": "markdown",
   "id": "e5b0fe9c-6905-4022-b87d-c050bfeebcab",
   "metadata": {},
   "source": [
    "## Importing Libraries"
   ]
  },
  {
   "cell_type": "code",
   "execution_count": 1,
   "id": "d0976568-32fa-4256-9dc4-500495fee5f1",
   "metadata": {
    "execution": {
     "iopub.execute_input": "2025-08-14T11:58:17.894773Z",
     "iopub.status.busy": "2025-08-14T11:58:17.894573Z",
     "iopub.status.idle": "2025-08-14T11:58:18.490618Z",
     "shell.execute_reply": "2025-08-14T11:58:18.490131Z",
     "shell.execute_reply.started": "2025-08-14T11:58:17.894753Z"
    }
   },
   "outputs": [],
   "source": [
    "import pandas as pd\n",
    "import networkx\n",
    "from scipy.stats import binomtest"
   ]
  },
  {
   "cell_type": "markdown",
   "id": "931cd6a2-7725-4904-9bdc-e65167cf9893",
   "metadata": {},
   "source": [
    "## Writing Constants for this Notebook"
   ]
  },
  {
   "cell_type": "code",
   "execution_count": 2,
   "id": "b6e2e73d-a58d-48d5-b772-1d1daed0e5cc",
   "metadata": {
    "execution": {
     "iopub.execute_input": "2025-08-14T11:58:18.491849Z",
     "iopub.status.busy": "2025-08-14T11:58:18.491413Z",
     "iopub.status.idle": "2025-08-14T11:58:18.500335Z",
     "shell.execute_reply": "2025-08-14T11:58:18.499917Z",
     "shell.execute_reply.started": "2025-08-14T11:58:18.491831Z"
    }
   },
   "outputs": [],
   "source": [
    "ALPHA = 0.05"
   ]
  },
  {
   "cell_type": "markdown",
   "id": "daf99cde-2e1b-45fe-a6ad-845c1fea02e6",
   "metadata": {},
   "source": [
    "## Downloading Edge Data"
   ]
  },
  {
   "cell_type": "markdown",
   "id": "7e25516d-39db-4eb5-b1d9-e092c6ff1da8",
   "metadata": {},
   "source": [
    "### Getting Times Brawler Pairs Won"
   ]
  },
  {
   "cell_type": "code",
   "execution_count": 3,
   "id": "eec7b85f-1e81-467c-b615-43619fd203ee",
   "metadata": {
    "execution": {
     "iopub.execute_input": "2025-08-14T11:58:18.500822Z",
     "iopub.status.busy": "2025-08-14T11:58:18.500737Z",
     "iopub.status.idle": "2025-08-14T11:58:18.505584Z",
     "shell.execute_reply": "2025-08-14T11:58:18.505337Z",
     "shell.execute_reply.started": "2025-08-14T11:58:18.500814Z"
    }
   },
   "outputs": [],
   "source": [
    "df_wins_aldous = pd.read_csv(\n",
    "    \"../outputs/victory-brawler-edges-from-aldous.csv\"\n",
    ")\n",
    "df_wins_nash = pd.read_csv(\"../outputs/victory-brawler-edges-from-username.csv\")"
   ]
  },
  {
   "cell_type": "code",
   "execution_count": 4,
   "id": "42e04581-e1e3-4982-a91f-d1cf0e330b5e",
   "metadata": {
    "execution": {
     "iopub.execute_input": "2025-08-14T11:58:18.506986Z",
     "iopub.status.busy": "2025-08-14T11:58:18.506894Z",
     "iopub.status.idle": "2025-08-14T11:58:18.513826Z",
     "shell.execute_reply": "2025-08-14T11:58:18.513627Z",
     "shell.execute_reply.started": "2025-08-14T11:58:18.506979Z"
    }
   },
   "outputs": [
    {
     "data": {
      "text/html": [
       "<div>\n",
       "<style scoped>\n",
       "    .dataframe tbody tr th:only-of-type {\n",
       "        vertical-align: middle;\n",
       "    }\n",
       "\n",
       "    .dataframe tbody tr th {\n",
       "        vertical-align: top;\n",
       "    }\n",
       "\n",
       "    .dataframe thead th {\n",
       "        text-align: right;\n",
       "    }\n",
       "</style>\n",
       "<table border=\"1\" class=\"dataframe\">\n",
       "  <thead>\n",
       "    <tr style=\"text-align: right;\">\n",
       "      <th></th>\n",
       "      <th>Brawler_1</th>\n",
       "      <th>Brawler_2</th>\n",
       "      <th>Wins</th>\n",
       "    </tr>\n",
       "  </thead>\n",
       "  <tbody>\n",
       "    <tr>\n",
       "      <th>0</th>\n",
       "      <td>8-BIT</td>\n",
       "      <td>8-BIT</td>\n",
       "      <td>14</td>\n",
       "    </tr>\n",
       "    <tr>\n",
       "      <th>1</th>\n",
       "      <td>8-BIT</td>\n",
       "      <td>ALLI</td>\n",
       "      <td>40</td>\n",
       "    </tr>\n",
       "    <tr>\n",
       "      <th>2</th>\n",
       "      <td>8-BIT</td>\n",
       "      <td>AMBER</td>\n",
       "      <td>23</td>\n",
       "    </tr>\n",
       "    <tr>\n",
       "      <th>3</th>\n",
       "      <td>8-BIT</td>\n",
       "      <td>ANGELO</td>\n",
       "      <td>21</td>\n",
       "    </tr>\n",
       "    <tr>\n",
       "      <th>4</th>\n",
       "      <td>8-BIT</td>\n",
       "      <td>ASH</td>\n",
       "      <td>11</td>\n",
       "    </tr>\n",
       "  </tbody>\n",
       "</table>\n",
       "</div>"
      ],
      "text/plain": [
       "  Brawler_1 Brawler_2  Wins\n",
       "0     8-BIT     8-BIT    14\n",
       "1     8-BIT      ALLI    40\n",
       "2     8-BIT     AMBER    23\n",
       "3     8-BIT    ANGELO    21\n",
       "4     8-BIT       ASH    11"
      ]
     },
     "execution_count": 4,
     "metadata": {},
     "output_type": "execute_result"
    }
   ],
   "source": [
    "# Combine the DataFrames\n",
    "df_wins_concatted = pd.concat([df_wins_aldous, df_wins_nash])\n",
    "\n",
    "# Group by Brawler_1 and Brawler_2, summing the Weight column\n",
    "df_wins = (\n",
    "    df_wins_concatted.groupby(\n",
    "        ['Brawler_1', 'Brawler_2'], \n",
    "        as_index=False\n",
    "    )['Weight'].sum()\n",
    ")\n",
    "\n",
    "# Renaming weight column\n",
    "df_wins = df_wins.rename(\n",
    "    columns={'Weight': 'Wins'}\n",
    ")\n",
    "\n",
    "df_wins.head()"
   ]
  },
  {
   "cell_type": "markdown",
   "id": "526b3de9-a32c-4532-857f-4be56d44c277",
   "metadata": {},
   "source": [
    "### Getting Times Brawler Pairs Lost"
   ]
  },
  {
   "cell_type": "code",
   "execution_count": 5,
   "id": "51935257-ccd5-46ad-8d61-f007d1185a89",
   "metadata": {
    "execution": {
     "iopub.execute_input": "2025-08-14T11:58:18.514321Z",
     "iopub.status.busy": "2025-08-14T11:58:18.514229Z",
     "iopub.status.idle": "2025-08-14T11:58:18.519204Z",
     "shell.execute_reply": "2025-08-14T11:58:18.518962Z",
     "shell.execute_reply.started": "2025-08-14T11:58:18.514314Z"
    }
   },
   "outputs": [],
   "source": [
    "df_loses_aldous = pd.read_csv(\n",
    "    \"../outputs/defeat-brawler-edges-from-aldous.csv\"\n",
    ")\n",
    "df_loses_nash = pd.read_csv(\n",
    "    \"../outputs/defeat-brawler-edges-from-username.csv\"\n",
    ")"
   ]
  },
  {
   "cell_type": "code",
   "execution_count": 6,
   "id": "be80be6e-14cf-4282-9c24-88036089938d",
   "metadata": {
    "execution": {
     "iopub.execute_input": "2025-08-14T11:58:18.519704Z",
     "iopub.status.busy": "2025-08-14T11:58:18.519622Z",
     "iopub.status.idle": "2025-08-14T11:58:18.524500Z",
     "shell.execute_reply": "2025-08-14T11:58:18.524308Z",
     "shell.execute_reply.started": "2025-08-14T11:58:18.519696Z"
    }
   },
   "outputs": [
    {
     "data": {
      "text/html": [
       "<div>\n",
       "<style scoped>\n",
       "    .dataframe tbody tr th:only-of-type {\n",
       "        vertical-align: middle;\n",
       "    }\n",
       "\n",
       "    .dataframe tbody tr th {\n",
       "        vertical-align: top;\n",
       "    }\n",
       "\n",
       "    .dataframe thead th {\n",
       "        text-align: right;\n",
       "    }\n",
       "</style>\n",
       "<table border=\"1\" class=\"dataframe\">\n",
       "  <thead>\n",
       "    <tr style=\"text-align: right;\">\n",
       "      <th></th>\n",
       "      <th>Brawler_1</th>\n",
       "      <th>Brawler_2</th>\n",
       "      <th>Loses</th>\n",
       "    </tr>\n",
       "  </thead>\n",
       "  <tbody>\n",
       "    <tr>\n",
       "      <th>0</th>\n",
       "      <td>8-BIT</td>\n",
       "      <td>8-BIT</td>\n",
       "      <td>1</td>\n",
       "    </tr>\n",
       "    <tr>\n",
       "      <th>1</th>\n",
       "      <td>8-BIT</td>\n",
       "      <td>ALLI</td>\n",
       "      <td>44</td>\n",
       "    </tr>\n",
       "    <tr>\n",
       "      <th>2</th>\n",
       "      <td>8-BIT</td>\n",
       "      <td>AMBER</td>\n",
       "      <td>38</td>\n",
       "    </tr>\n",
       "    <tr>\n",
       "      <th>3</th>\n",
       "      <td>8-BIT</td>\n",
       "      <td>ANGELO</td>\n",
       "      <td>15</td>\n",
       "    </tr>\n",
       "    <tr>\n",
       "      <th>4</th>\n",
       "      <td>8-BIT</td>\n",
       "      <td>ASH</td>\n",
       "      <td>17</td>\n",
       "    </tr>\n",
       "  </tbody>\n",
       "</table>\n",
       "</div>"
      ],
      "text/plain": [
       "  Brawler_1 Brawler_2  Loses\n",
       "0     8-BIT     8-BIT      1\n",
       "1     8-BIT      ALLI     44\n",
       "2     8-BIT     AMBER     38\n",
       "3     8-BIT    ANGELO     15\n",
       "4     8-BIT       ASH     17"
      ]
     },
     "execution_count": 6,
     "metadata": {},
     "output_type": "execute_result"
    }
   ],
   "source": [
    "# Combine the DataFrames\n",
    "df_loses_concatted = pd.concat([df_loses_aldous, df_loses_nash])\n",
    "\n",
    "# Group by Brawler_1 and Brawler_2, summing the Weight column\n",
    "df_loses = (\n",
    "    df_loses_concatted.groupby(\n",
    "        ['Brawler_1', 'Brawler_2'], \n",
    "        as_index=False\n",
    "    )['Weight'].sum()\n",
    ")\n",
    "\n",
    "# Renaming weight column\n",
    "df_loses = df_loses.rename(\n",
    "    columns={'Weight': 'Loses'}\n",
    ")\n",
    "\n",
    "df_loses.head()"
   ]
  },
  {
   "cell_type": "markdown",
   "id": "dcc63c35-9459-4510-9d9c-1548d4db1e17",
   "metadata": {},
   "source": [
    "### Data Engineering"
   ]
  },
  {
   "cell_type": "markdown",
   "id": "90e7cd5f-3dd1-49e3-beff-edccbf4a62d6",
   "metadata": {},
   "source": [
    "#### Combining Win and Loss Data"
   ]
  },
  {
   "cell_type": "code",
   "execution_count": 7,
   "id": "81c0640c-c5da-4dbc-ad2b-91a5102ed5cd",
   "metadata": {
    "execution": {
     "iopub.execute_input": "2025-08-14T11:58:18.524928Z",
     "iopub.status.busy": "2025-08-14T11:58:18.524857Z",
     "iopub.status.idle": "2025-08-14T11:58:18.531223Z",
     "shell.execute_reply": "2025-08-14T11:58:18.531034Z",
     "shell.execute_reply.started": "2025-08-14T11:58:18.524921Z"
    }
   },
   "outputs": [
    {
     "data": {
      "text/html": [
       "<div>\n",
       "<style scoped>\n",
       "    .dataframe tbody tr th:only-of-type {\n",
       "        vertical-align: middle;\n",
       "    }\n",
       "\n",
       "    .dataframe tbody tr th {\n",
       "        vertical-align: top;\n",
       "    }\n",
       "\n",
       "    .dataframe thead th {\n",
       "        text-align: right;\n",
       "    }\n",
       "</style>\n",
       "<table border=\"1\" class=\"dataframe\">\n",
       "  <thead>\n",
       "    <tr style=\"text-align: right;\">\n",
       "      <th></th>\n",
       "      <th>Brawler_1</th>\n",
       "      <th>Brawler_2</th>\n",
       "      <th>Wins</th>\n",
       "      <th>Loses</th>\n",
       "      <th>Observations</th>\n",
       "    </tr>\n",
       "  </thead>\n",
       "  <tbody>\n",
       "    <tr>\n",
       "      <th>0</th>\n",
       "      <td>8-BIT</td>\n",
       "      <td>8-BIT</td>\n",
       "      <td>14</td>\n",
       "      <td>1</td>\n",
       "      <td>15</td>\n",
       "    </tr>\n",
       "    <tr>\n",
       "      <th>1</th>\n",
       "      <td>8-BIT</td>\n",
       "      <td>ALLI</td>\n",
       "      <td>40</td>\n",
       "      <td>44</td>\n",
       "      <td>84</td>\n",
       "    </tr>\n",
       "    <tr>\n",
       "      <th>2</th>\n",
       "      <td>8-BIT</td>\n",
       "      <td>AMBER</td>\n",
       "      <td>23</td>\n",
       "      <td>38</td>\n",
       "      <td>61</td>\n",
       "    </tr>\n",
       "    <tr>\n",
       "      <th>3</th>\n",
       "      <td>8-BIT</td>\n",
       "      <td>ANGELO</td>\n",
       "      <td>21</td>\n",
       "      <td>15</td>\n",
       "      <td>36</td>\n",
       "    </tr>\n",
       "    <tr>\n",
       "      <th>4</th>\n",
       "      <td>8-BIT</td>\n",
       "      <td>ASH</td>\n",
       "      <td>11</td>\n",
       "      <td>17</td>\n",
       "      <td>28</td>\n",
       "    </tr>\n",
       "  </tbody>\n",
       "</table>\n",
       "</div>"
      ],
      "text/plain": [
       "  Brawler_1 Brawler_2  Wins  Loses  Observations\n",
       "0     8-BIT     8-BIT    14      1            15\n",
       "1     8-BIT      ALLI    40     44            84\n",
       "2     8-BIT     AMBER    23     38            61\n",
       "3     8-BIT    ANGELO    21     15            36\n",
       "4     8-BIT       ASH    11     17            28"
      ]
     },
     "execution_count": 7,
     "metadata": {},
     "output_type": "execute_result"
    }
   ],
   "source": [
    "# Merge df_wins and df_loses on Brawler_1 and Brawler_2\n",
    "df_brawler_pairs = pd.merge(\n",
    "    df_wins,\n",
    "    df_loses,\n",
    "    on=['Brawler_1', 'Brawler_2'],\n",
    "    how='outer'\n",
    ").fillna(0)  # Fill NaN with 0 for pairs that only appear in one DataFrame\n",
    "\n",
    "# Ensure wins and loses columns are integers\n",
    "df_brawler_pairs['Wins'] = df_brawler_pairs['Wins'].astype(int)\n",
    "df_brawler_pairs['Loses'] = df_brawler_pairs['Loses'].astype(int)\n",
    "\n",
    "# Counting total brawler pairs found\n",
    "df_brawler_pairs[\"Observations\"] = (\n",
    "    df_brawler_pairs['Wins'] + df_brawler_pairs['Loses']\n",
    ")\n",
    "\n",
    "# Display the first few rows\n",
    "df_brawler_pairs.head()"
   ]
  },
  {
   "cell_type": "code",
   "execution_count": 18,
   "id": "b8a67a88-26fa-4f8f-96df-02ca5df579b4",
   "metadata": {
    "execution": {
     "iopub.execute_input": "2025-08-14T12:16:06.314774Z",
     "iopub.status.busy": "2025-08-14T12:16:06.312775Z",
     "iopub.status.idle": "2025-08-14T12:16:06.319510Z",
     "shell.execute_reply": "2025-08-14T12:16:06.318787Z",
     "shell.execute_reply.started": "2025-08-14T12:16:06.314739Z"
    }
   },
   "outputs": [
    {
     "data": {
      "text/plain": [
       "0.5214738605096303"
      ]
     },
     "execution_count": 18,
     "metadata": {},
     "output_type": "execute_result"
    }
   ],
   "source": [
    "len(df_brawler_pairs) / 8359"
   ]
  },
  {
   "cell_type": "code",
   "execution_count": null,
   "id": "3d76dfbc-2c55-4cd5-90b4-1d4a04cd80d3",
   "metadata": {},
   "outputs": [],
   "source": []
  },
  {
   "cell_type": "markdown",
   "id": "e6a5d068-ce5e-43ae-9c74-2b9ffe8a06ca",
   "metadata": {},
   "source": [
    "### Setting Data for Gephi"
   ]
  },
  {
   "cell_type": "markdown",
   "id": "90529872-1079-418b-a778-6bb242f7d28e",
   "metadata": {},
   "source": [
    "#### Connection Type"
   ]
  },
  {
   "cell_type": "code",
   "execution_count": 8,
   "id": "f7dff3d6-1369-4610-8604-56d8b069cc20",
   "metadata": {
    "execution": {
     "iopub.execute_input": "2025-08-14T11:58:18.531737Z",
     "iopub.status.busy": "2025-08-14T11:58:18.531635Z",
     "iopub.status.idle": "2025-08-14T11:58:18.533284Z",
     "shell.execute_reply": "2025-08-14T11:58:18.533071Z",
     "shell.execute_reply.started": "2025-08-14T11:58:18.531731Z"
    }
   },
   "outputs": [],
   "source": [
    "df_brawler_pairs[\"Type\"] = \"Undirected\""
   ]
  },
  {
   "cell_type": "markdown",
   "id": "9585be08-1304-49f0-8b33-015251f1e711",
   "metadata": {},
   "source": [
    "#### Weight"
   ]
  },
  {
   "cell_type": "code",
   "execution_count": 9,
   "id": "39f5363e-6872-464a-bbec-eabb8796c633",
   "metadata": {
    "execution": {
     "iopub.execute_input": "2025-08-14T11:58:18.533670Z",
     "iopub.status.busy": "2025-08-14T11:58:18.533610Z",
     "iopub.status.idle": "2025-08-14T11:58:18.535764Z",
     "shell.execute_reply": "2025-08-14T11:58:18.535534Z",
     "shell.execute_reply.started": "2025-08-14T11:58:18.533664Z"
    }
   },
   "outputs": [],
   "source": [
    "df_brawler_pairs[\"Weight\"] = 1"
   ]
  },
  {
   "cell_type": "markdown",
   "id": "2240cef2-ce91-48cf-9546-1c906b85035e",
   "metadata": {},
   "source": [
    "### Determining Connections with Statistical Tests"
   ]
  },
  {
   "cell_type": "markdown",
   "id": "fd6973ae-3341-4e2d-b03f-93cd2909bb6d",
   "metadata": {},
   "source": [
    "#### Finding Winning Brawler Pairs"
   ]
  },
  {
   "cell_type": "code",
   "execution_count": 10,
   "id": "1d7deba4-3af8-4089-9aac-a038c8e73202",
   "metadata": {
    "execution": {
     "iopub.execute_input": "2025-08-14T11:58:18.536360Z",
     "iopub.status.busy": "2025-08-14T11:58:18.536210Z",
     "iopub.status.idle": "2025-08-14T11:58:18.709454Z",
     "shell.execute_reply": "2025-08-14T11:58:18.709209Z",
     "shell.execute_reply.started": "2025-08-14T11:58:18.536352Z"
    }
   },
   "outputs": [],
   "source": [
    "def run_win_hypothesis_test(x):\n",
    "    p_val = binomtest(\n",
    "        x[\"Wins\"], x[\"Observations\"], p=0.5, alternative=\"greater\"\n",
    "    ).pvalue\n",
    "    return p_val < ALPHA\n",
    "\n",
    "df_brawler_pairs[\"Winning_Pair\"] = df_brawler_pairs.apply(\n",
    "    run_win_hypothesis_test, axis = \"columns\"\n",
    ")"
   ]
  },
  {
   "cell_type": "markdown",
   "id": "658dde34-b81e-42ce-8f17-eb96bd65b7e0",
   "metadata": {},
   "source": [
    "#### Finding Losing Brawler Pairs"
   ]
  },
  {
   "cell_type": "code",
   "execution_count": 11,
   "id": "865d7500-a379-4660-beea-c02ff1d8dccb",
   "metadata": {
    "execution": {
     "iopub.execute_input": "2025-08-14T11:58:18.709848Z",
     "iopub.status.busy": "2025-08-14T11:58:18.709783Z",
     "iopub.status.idle": "2025-08-14T11:58:18.857501Z",
     "shell.execute_reply": "2025-08-14T11:58:18.857170Z",
     "shell.execute_reply.started": "2025-08-14T11:58:18.709841Z"
    }
   },
   "outputs": [],
   "source": [
    "def run_loss_hypothesis_test(x):\n",
    "    p_val = binomtest(\n",
    "        x[\"Loses\"], x[\"Observations\"], p=0.5, alternative=\"greater\"\n",
    "    ).pvalue\n",
    "    return p_val < ALPHA\n",
    "\n",
    "df_brawler_pairs[\"Losing_Pair\"] = df_brawler_pairs.apply(\n",
    "    run_loss_hypothesis_test, axis = \"columns\"\n",
    ")"
   ]
  },
  {
   "cell_type": "markdown",
   "id": "94863bc0-aa8d-4ba4-83fe-0e9161ca3057",
   "metadata": {},
   "source": [
    "#### Evaluating Results"
   ]
  },
  {
   "cell_type": "code",
   "execution_count": 12,
   "id": "bfe1b029-c010-4eb7-ac28-2c412b6f6f93",
   "metadata": {
    "execution": {
     "iopub.execute_input": "2025-08-14T11:58:18.857893Z",
     "iopub.status.busy": "2025-08-14T11:58:18.857820Z",
     "iopub.status.idle": "2025-08-14T11:58:18.859902Z",
     "shell.execute_reply": "2025-08-14T11:58:18.859664Z",
     "shell.execute_reply.started": "2025-08-14T11:58:18.857886Z"
    }
   },
   "outputs": [
    {
     "name": "stdout",
     "output_type": "stream",
     "text": [
      "Winning pair edges: 551\n",
      "Losing pair edges: 455\n"
     ]
    }
   ],
   "source": [
    "print(f\"Winning pair edges: {df_brawler_pairs[\"Winning_Pair\"].sum()}\")\n",
    "print(f\"Losing pair edges: {df_brawler_pairs[\"Losing_Pair\"].sum()}\")"
   ]
  },
  {
   "cell_type": "markdown",
   "id": "7adc60e9-bac4-42ef-8d85-5801982350d7",
   "metadata": {},
   "source": [
    "### Saving Edge Data"
   ]
  },
  {
   "cell_type": "markdown",
   "id": "47b7e669-78bc-4e63-bf63-d09f25481022",
   "metadata": {},
   "source": [
    "#### Winning Edges"
   ]
  },
  {
   "cell_type": "code",
   "execution_count": 13,
   "id": "a9aeaeaf-0f45-4a78-a409-b44ff997b26c",
   "metadata": {
    "execution": {
     "iopub.execute_input": "2025-08-14T11:58:18.860425Z",
     "iopub.status.busy": "2025-08-14T11:58:18.860351Z",
     "iopub.status.idle": "2025-08-14T11:58:18.863141Z",
     "shell.execute_reply": "2025-08-14T11:58:18.862922Z",
     "shell.execute_reply.started": "2025-08-14T11:58:18.860418Z"
    }
   },
   "outputs": [],
   "source": [
    "# Getting only winning edges\n",
    "df_winning_edges = df_brawler_pairs[\n",
    "    df_brawler_pairs[\"Winning_Pair\"] == True\n",
    "]\n",
    "\n",
    "# Renaming columns\n",
    "df_winning_edges = df_winning_edges.rename(\n",
    "    columns={\n",
    "        'Brawler_1': 'Source', \n",
    "        'Brawler_2': 'Target'\n",
    "    }\n",
    ")\n",
    "\n",
    "# Getting relevant edge information\n",
    "df_winning_edges = df_winning_edges[[\n",
    "    \"Source\", \"Target\", \"Wins\", \"Loses\", \"Observations\"\n",
    "]]"
   ]
  },
  {
   "cell_type": "code",
   "execution_count": 14,
   "id": "d5119ef8-30f7-4021-891c-3287954d72ab",
   "metadata": {
    "execution": {
     "iopub.execute_input": "2025-08-14T11:58:18.863551Z",
     "iopub.status.busy": "2025-08-14T11:58:18.863482Z",
     "iopub.status.idle": "2025-08-14T11:58:18.867010Z",
     "shell.execute_reply": "2025-08-14T11:58:18.866798Z",
     "shell.execute_reply.started": "2025-08-14T11:58:18.863545Z"
    }
   },
   "outputs": [],
   "source": [
    "df_winning_edges.to_csv(\n",
    "    \"../outputs/graph-data/winning-edges.csv\", \n",
    "    index = False\n",
    ")"
   ]
  },
  {
   "cell_type": "markdown",
   "id": "5949ba28-3f49-45a5-b88f-5dfadbdc7a83",
   "metadata": {},
   "source": [
    "#### Losing Edges"
   ]
  },
  {
   "cell_type": "code",
   "execution_count": 15,
   "id": "0f0bf850-e341-4411-a3e6-295012df43e6",
   "metadata": {
    "execution": {
     "iopub.execute_input": "2025-08-14T11:58:18.867567Z",
     "iopub.status.busy": "2025-08-14T11:58:18.867460Z",
     "iopub.status.idle": "2025-08-14T11:58:18.869949Z",
     "shell.execute_reply": "2025-08-14T11:58:18.869758Z",
     "shell.execute_reply.started": "2025-08-14T11:58:18.867560Z"
    }
   },
   "outputs": [],
   "source": [
    "# Getting only winning edges\n",
    "df_losing_edges = df_brawler_pairs[\n",
    "    df_brawler_pairs[\"Losing_Pair\"] == True\n",
    "]\n",
    "\n",
    "df_losing_edges = df_losing_edges.rename(\n",
    "    columns={\n",
    "        'Brawler_1': 'Source', \n",
    "        'Brawler_2': 'Target'\n",
    "    }\n",
    ")\n",
    "\n",
    "# Getting relevant edge information\n",
    "df_losing_edges = df_losing_edges[[\n",
    "    \"Source\", \"Target\", \"Wins\", \"Loses\", \"Observations\"\n",
    "]]"
   ]
  },
  {
   "cell_type": "code",
   "execution_count": 16,
   "id": "96f7c9c0-b2be-4395-81ad-f86358324f1b",
   "metadata": {
    "execution": {
     "iopub.execute_input": "2025-08-14T11:58:18.870334Z",
     "iopub.status.busy": "2025-08-14T11:58:18.870246Z",
     "iopub.status.idle": "2025-08-14T11:58:18.872444Z",
     "shell.execute_reply": "2025-08-14T11:58:18.872250Z",
     "shell.execute_reply.started": "2025-08-14T11:58:18.870328Z"
    }
   },
   "outputs": [],
   "source": [
    "df_losing_edges.to_csv(\n",
    "    \"../outputs/graph-data/losing-edges.csv\", \n",
    "    index = False\n",
    ")"
   ]
  }
 ],
 "metadata": {
  "kernelspec": {
   "display_name": "Python 3 (ipykernel)",
   "language": "python",
   "name": "python3"
  },
  "language_info": {
   "codemirror_mode": {
    "name": "ipython",
    "version": 3
   },
   "file_extension": ".py",
   "mimetype": "text/x-python",
   "name": "python",
   "nbconvert_exporter": "python",
   "pygments_lexer": "ipython3",
   "version": "3.12.4"
  }
 },
 "nbformat": 4,
 "nbformat_minor": 5
}
