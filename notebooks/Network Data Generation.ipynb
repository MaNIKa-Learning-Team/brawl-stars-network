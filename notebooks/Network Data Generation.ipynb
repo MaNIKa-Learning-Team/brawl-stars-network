{
 "cells": [
  {
   "cell_type": "markdown",
   "id": "13c13972-c2f2-4c44-bdd1-91d440b994de",
   "metadata": {},
   "source": [
    "# Network Data Generation\n",
    "\n",
    "### Purpose\n",
    "This notebook was created to generate the data for a network of brawlers who are likely to win with each other.\n",
    "\n",
    "### Data Used\n",
    "This notebook will use game data of pairs of brawlers who won/lost together. This data was collected by both team members.\n",
    "\n",
    "### Approach\n",
    "This project will feature the following networks:\n",
    "- a network of brawlers who are more likely to win with each other\n",
    "- a network of brawlers who are more likely to lose with each other\n",
    "\n",
    "#### Why not a Network with Weighted Edges\n",
    "A network with weighted edges will be extremely sparse. Thus, connecting brawlers who are likely to win/lose together may make more sense for this project."
   ]
  },
  {
   "cell_type": "markdown",
   "id": "e5b0fe9c-6905-4022-b87d-c050bfeebcab",
   "metadata": {},
   "source": [
    "## Importing Libraries"
   ]
  },
  {
   "cell_type": "code",
   "execution_count": 1,
   "id": "d0976568-32fa-4256-9dc4-500495fee5f1",
   "metadata": {
    "execution": {
     "iopub.execute_input": "2025-08-14T13:22:30.553632Z",
     "iopub.status.busy": "2025-08-14T13:22:30.553515Z",
     "iopub.status.idle": "2025-08-14T13:22:31.794615Z",
     "shell.execute_reply": "2025-08-14T13:22:31.794395Z",
     "shell.execute_reply.started": "2025-08-14T13:22:30.553620Z"
    }
   },
   "outputs": [],
   "source": [
    "import pandas as pd\n",
    "import networkx\n",
    "from scipy.stats import binomtest"
   ]
  },
  {
   "cell_type": "markdown",
   "id": "931cd6a2-7725-4904-9bdc-e65167cf9893",
   "metadata": {},
   "source": [
    "## Writing Constants for this Notebook"
   ]
  },
  {
   "cell_type": "code",
   "execution_count": 2,
   "id": "b6e2e73d-a58d-48d5-b772-1d1daed0e5cc",
   "metadata": {
    "execution": {
     "iopub.execute_input": "2025-08-14T13:22:31.795209Z",
     "iopub.status.busy": "2025-08-14T13:22:31.795019Z",
     "iopub.status.idle": "2025-08-14T13:22:31.796733Z",
     "shell.execute_reply": "2025-08-14T13:22:31.796528Z",
     "shell.execute_reply.started": "2025-08-14T13:22:31.795197Z"
    }
   },
   "outputs": [],
   "source": [
    "ALPHA = 0.05"
   ]
  },
  {
   "cell_type": "markdown",
   "id": "daf99cde-2e1b-45fe-a6ad-845c1fea02e6",
   "metadata": {},
   "source": [
    "## Downloading Edge Data"
   ]
  },
  {
   "cell_type": "markdown",
   "id": "7e25516d-39db-4eb5-b1d9-e092c6ff1da8",
   "metadata": {},
   "source": [
    "### Getting Times Brawler Pairs Won"
   ]
  },
  {
   "cell_type": "code",
   "execution_count": 3,
   "id": "eec7b85f-1e81-467c-b615-43619fd203ee",
   "metadata": {
    "execution": {
     "iopub.execute_input": "2025-08-14T13:22:31.797296Z",
     "iopub.status.busy": "2025-08-14T13:22:31.797122Z",
     "iopub.status.idle": "2025-08-14T13:22:31.805863Z",
     "shell.execute_reply": "2025-08-14T13:22:31.805578Z",
     "shell.execute_reply.started": "2025-08-14T13:22:31.797289Z"
    }
   },
   "outputs": [],
   "source": [
    "df_wins_aldous = pd.read_csv(\n",
    "    \"../outputs/victory-brawler-edges-from-aldous.csv\"\n",
    ")\n",
    "df_wins_nash = pd.read_csv(\"../outputs/victory-brawler-edges-from-username.csv\")"
   ]
  },
  {
   "cell_type": "code",
   "execution_count": 4,
   "id": "42e04581-e1e3-4982-a91f-d1cf0e330b5e",
   "metadata": {
    "execution": {
     "iopub.execute_input": "2025-08-14T13:22:31.806419Z",
     "iopub.status.busy": "2025-08-14T13:22:31.806306Z",
     "iopub.status.idle": "2025-08-14T13:22:31.818161Z",
     "shell.execute_reply": "2025-08-14T13:22:31.817970Z",
     "shell.execute_reply.started": "2025-08-14T13:22:31.806402Z"
    }
   },
   "outputs": [
    {
     "data": {
      "text/html": [
       "<div>\n",
       "<style scoped>\n",
       "    .dataframe tbody tr th:only-of-type {\n",
       "        vertical-align: middle;\n",
       "    }\n",
       "\n",
       "    .dataframe tbody tr th {\n",
       "        vertical-align: top;\n",
       "    }\n",
       "\n",
       "    .dataframe thead th {\n",
       "        text-align: right;\n",
       "    }\n",
       "</style>\n",
       "<table border=\"1\" class=\"dataframe\">\n",
       "  <thead>\n",
       "    <tr style=\"text-align: right;\">\n",
       "      <th></th>\n",
       "      <th>Brawler_1</th>\n",
       "      <th>Brawler_2</th>\n",
       "      <th>Wins</th>\n",
       "    </tr>\n",
       "  </thead>\n",
       "  <tbody>\n",
       "    <tr>\n",
       "      <th>0</th>\n",
       "      <td>8-BIT</td>\n",
       "      <td>8-BIT</td>\n",
       "      <td>17</td>\n",
       "    </tr>\n",
       "    <tr>\n",
       "      <th>1</th>\n",
       "      <td>8-BIT</td>\n",
       "      <td>ALLI</td>\n",
       "      <td>72</td>\n",
       "    </tr>\n",
       "    <tr>\n",
       "      <th>2</th>\n",
       "      <td>8-BIT</td>\n",
       "      <td>AMBER</td>\n",
       "      <td>38</td>\n",
       "    </tr>\n",
       "    <tr>\n",
       "      <th>3</th>\n",
       "      <td>8-BIT</td>\n",
       "      <td>ANGELO</td>\n",
       "      <td>35</td>\n",
       "    </tr>\n",
       "    <tr>\n",
       "      <th>4</th>\n",
       "      <td>8-BIT</td>\n",
       "      <td>ASH</td>\n",
       "      <td>21</td>\n",
       "    </tr>\n",
       "  </tbody>\n",
       "</table>\n",
       "</div>"
      ],
      "text/plain": [
       "  Brawler_1 Brawler_2  Wins\n",
       "0     8-BIT     8-BIT    17\n",
       "1     8-BIT      ALLI    72\n",
       "2     8-BIT     AMBER    38\n",
       "3     8-BIT    ANGELO    35\n",
       "4     8-BIT       ASH    21"
      ]
     },
     "execution_count": 4,
     "metadata": {},
     "output_type": "execute_result"
    }
   ],
   "source": [
    "# Combine the DataFrames\n",
    "df_wins_concatted = pd.concat([df_wins_aldous, df_wins_nash])\n",
    "\n",
    "# Group by Brawler_1 and Brawler_2, summing the Weight column\n",
    "df_wins = (\n",
    "    df_wins_concatted.groupby(\n",
    "        ['Brawler_1', 'Brawler_2'], \n",
    "        as_index=False\n",
    "    )['Weight'].sum()\n",
    ")\n",
    "\n",
    "# Renaming weight column\n",
    "df_wins = df_wins.rename(\n",
    "    columns={'Weight': 'Wins'}\n",
    ")\n",
    "\n",
    "df_wins.head()"
   ]
  },
  {
   "cell_type": "markdown",
   "id": "526b3de9-a32c-4532-857f-4be56d44c277",
   "metadata": {},
   "source": [
    "### Getting Times Brawler Pairs Lost"
   ]
  },
  {
   "cell_type": "code",
   "execution_count": 5,
   "id": "51935257-ccd5-46ad-8d61-f007d1185a89",
   "metadata": {
    "execution": {
     "iopub.execute_input": "2025-08-14T13:22:31.818710Z",
     "iopub.status.busy": "2025-08-14T13:22:31.818595Z",
     "iopub.status.idle": "2025-08-14T13:22:31.822779Z",
     "shell.execute_reply": "2025-08-14T13:22:31.822542Z",
     "shell.execute_reply.started": "2025-08-14T13:22:31.818701Z"
    }
   },
   "outputs": [],
   "source": [
    "df_loses_aldous = pd.read_csv(\n",
    "    \"../outputs/defeat-brawler-edges-from-aldous.csv\"\n",
    ")\n",
    "df_loses_nash = pd.read_csv(\n",
    "    \"../outputs/defeat-brawler-edges-from-username.csv\"\n",
    ")"
   ]
  },
  {
   "cell_type": "code",
   "execution_count": 6,
   "id": "be80be6e-14cf-4282-9c24-88036089938d",
   "metadata": {
    "execution": {
     "iopub.execute_input": "2025-08-14T13:22:31.825994Z",
     "iopub.status.busy": "2025-08-14T13:22:31.825820Z",
     "iopub.status.idle": "2025-08-14T13:22:31.832410Z",
     "shell.execute_reply": "2025-08-14T13:22:31.832207Z",
     "shell.execute_reply.started": "2025-08-14T13:22:31.825983Z"
    }
   },
   "outputs": [
    {
     "data": {
      "text/html": [
       "<div>\n",
       "<style scoped>\n",
       "    .dataframe tbody tr th:only-of-type {\n",
       "        vertical-align: middle;\n",
       "    }\n",
       "\n",
       "    .dataframe tbody tr th {\n",
       "        vertical-align: top;\n",
       "    }\n",
       "\n",
       "    .dataframe thead th {\n",
       "        text-align: right;\n",
       "    }\n",
       "</style>\n",
       "<table border=\"1\" class=\"dataframe\">\n",
       "  <thead>\n",
       "    <tr style=\"text-align: right;\">\n",
       "      <th></th>\n",
       "      <th>Brawler_1</th>\n",
       "      <th>Brawler_2</th>\n",
       "      <th>Loses</th>\n",
       "    </tr>\n",
       "  </thead>\n",
       "  <tbody>\n",
       "    <tr>\n",
       "      <th>0</th>\n",
       "      <td>8-BIT</td>\n",
       "      <td>8-BIT</td>\n",
       "      <td>3</td>\n",
       "    </tr>\n",
       "    <tr>\n",
       "      <th>1</th>\n",
       "      <td>8-BIT</td>\n",
       "      <td>ALLI</td>\n",
       "      <td>75</td>\n",
       "    </tr>\n",
       "    <tr>\n",
       "      <th>2</th>\n",
       "      <td>8-BIT</td>\n",
       "      <td>AMBER</td>\n",
       "      <td>61</td>\n",
       "    </tr>\n",
       "    <tr>\n",
       "      <th>3</th>\n",
       "      <td>8-BIT</td>\n",
       "      <td>ANGELO</td>\n",
       "      <td>52</td>\n",
       "    </tr>\n",
       "    <tr>\n",
       "      <th>4</th>\n",
       "      <td>8-BIT</td>\n",
       "      <td>ASH</td>\n",
       "      <td>25</td>\n",
       "    </tr>\n",
       "  </tbody>\n",
       "</table>\n",
       "</div>"
      ],
      "text/plain": [
       "  Brawler_1 Brawler_2  Loses\n",
       "0     8-BIT     8-BIT      3\n",
       "1     8-BIT      ALLI     75\n",
       "2     8-BIT     AMBER     61\n",
       "3     8-BIT    ANGELO     52\n",
       "4     8-BIT       ASH     25"
      ]
     },
     "execution_count": 6,
     "metadata": {},
     "output_type": "execute_result"
    }
   ],
   "source": [
    "# Combine the DataFrames\n",
    "df_loses_concatted = pd.concat([df_loses_aldous, df_loses_nash])\n",
    "\n",
    "# Group by Brawler_1 and Brawler_2, summing the Weight column\n",
    "df_loses = (\n",
    "    df_loses_concatted.groupby(\n",
    "        ['Brawler_1', 'Brawler_2'], \n",
    "        as_index=False\n",
    "    )['Weight'].sum()\n",
    ")\n",
    "\n",
    "# Renaming weight column\n",
    "df_loses = df_loses.rename(\n",
    "    columns={'Weight': 'Loses'}\n",
    ")\n",
    "\n",
    "df_loses.head()"
   ]
  },
  {
   "cell_type": "markdown",
   "id": "dcc63c35-9459-4510-9d9c-1548d4db1e17",
   "metadata": {},
   "source": [
    "### Data Engineering"
   ]
  },
  {
   "cell_type": "markdown",
   "id": "90e7cd5f-3dd1-49e3-beff-edccbf4a62d6",
   "metadata": {},
   "source": [
    "#### Combining Win and Loss Data"
   ]
  },
  {
   "cell_type": "code",
   "execution_count": 7,
   "id": "81c0640c-c5da-4dbc-ad2b-91a5102ed5cd",
   "metadata": {
    "execution": {
     "iopub.execute_input": "2025-08-14T13:22:31.832959Z",
     "iopub.status.busy": "2025-08-14T13:22:31.832852Z",
     "iopub.status.idle": "2025-08-14T13:22:31.840875Z",
     "shell.execute_reply": "2025-08-14T13:22:31.840649Z",
     "shell.execute_reply.started": "2025-08-14T13:22:31.832952Z"
    }
   },
   "outputs": [
    {
     "data": {
      "text/html": [
       "<div>\n",
       "<style scoped>\n",
       "    .dataframe tbody tr th:only-of-type {\n",
       "        vertical-align: middle;\n",
       "    }\n",
       "\n",
       "    .dataframe tbody tr th {\n",
       "        vertical-align: top;\n",
       "    }\n",
       "\n",
       "    .dataframe thead th {\n",
       "        text-align: right;\n",
       "    }\n",
       "</style>\n",
       "<table border=\"1\" class=\"dataframe\">\n",
       "  <thead>\n",
       "    <tr style=\"text-align: right;\">\n",
       "      <th></th>\n",
       "      <th>Brawler_1</th>\n",
       "      <th>Brawler_2</th>\n",
       "      <th>Wins</th>\n",
       "      <th>Loses</th>\n",
       "      <th>Observations</th>\n",
       "    </tr>\n",
       "  </thead>\n",
       "  <tbody>\n",
       "    <tr>\n",
       "      <th>0</th>\n",
       "      <td>8-BIT</td>\n",
       "      <td>8-BIT</td>\n",
       "      <td>17</td>\n",
       "      <td>3</td>\n",
       "      <td>20</td>\n",
       "    </tr>\n",
       "    <tr>\n",
       "      <th>1</th>\n",
       "      <td>8-BIT</td>\n",
       "      <td>ALLI</td>\n",
       "      <td>72</td>\n",
       "      <td>75</td>\n",
       "      <td>147</td>\n",
       "    </tr>\n",
       "    <tr>\n",
       "      <th>2</th>\n",
       "      <td>8-BIT</td>\n",
       "      <td>AMBER</td>\n",
       "      <td>38</td>\n",
       "      <td>61</td>\n",
       "      <td>99</td>\n",
       "    </tr>\n",
       "    <tr>\n",
       "      <th>3</th>\n",
       "      <td>8-BIT</td>\n",
       "      <td>ANGELO</td>\n",
       "      <td>35</td>\n",
       "      <td>52</td>\n",
       "      <td>87</td>\n",
       "    </tr>\n",
       "    <tr>\n",
       "      <th>4</th>\n",
       "      <td>8-BIT</td>\n",
       "      <td>ASH</td>\n",
       "      <td>21</td>\n",
       "      <td>25</td>\n",
       "      <td>46</td>\n",
       "    </tr>\n",
       "  </tbody>\n",
       "</table>\n",
       "</div>"
      ],
      "text/plain": [
       "  Brawler_1 Brawler_2  Wins  Loses  Observations\n",
       "0     8-BIT     8-BIT    17      3            20\n",
       "1     8-BIT      ALLI    72     75           147\n",
       "2     8-BIT     AMBER    38     61            99\n",
       "3     8-BIT    ANGELO    35     52            87\n",
       "4     8-BIT       ASH    21     25            46"
      ]
     },
     "execution_count": 7,
     "metadata": {},
     "output_type": "execute_result"
    }
   ],
   "source": [
    "# Merge df_wins and df_loses on Brawler_1 and Brawler_2\n",
    "df_brawler_pairs = pd.merge(\n",
    "    df_wins,\n",
    "    df_loses,\n",
    "    on=['Brawler_1', 'Brawler_2'],\n",
    "    how='outer'\n",
    ").fillna(0)  # Fill NaN with 0 for pairs that only appear in one DataFrame\n",
    "\n",
    "# Ensure wins and loses columns are integers\n",
    "df_brawler_pairs['Wins'] = df_brawler_pairs['Wins'].astype(int)\n",
    "df_brawler_pairs['Loses'] = df_brawler_pairs['Loses'].astype(int)\n",
    "\n",
    "# Counting total brawler pairs found\n",
    "df_brawler_pairs[\"Observations\"] = (\n",
    "    df_brawler_pairs['Wins'] + df_brawler_pairs['Loses']\n",
    ")\n",
    "\n",
    "# Display the first few rows\n",
    "df_brawler_pairs.head()"
   ]
  },
  {
   "cell_type": "code",
   "execution_count": 8,
   "id": "b8a67a88-26fa-4f8f-96df-02ca5df579b4",
   "metadata": {
    "execution": {
     "iopub.execute_input": "2025-08-14T13:22:31.841590Z",
     "iopub.status.busy": "2025-08-14T13:22:31.841519Z",
     "iopub.status.idle": "2025-08-14T13:22:31.843456Z",
     "shell.execute_reply": "2025-08-14T13:22:31.843277Z",
     "shell.execute_reply.started": "2025-08-14T13:22:31.841583Z"
    }
   },
   "outputs": [
    {
     "data": {
      "text/plain": [
       "0.5225505443234837"
      ]
     },
     "execution_count": 8,
     "metadata": {},
     "output_type": "execute_result"
    }
   ],
   "source": [
    "len(df_brawler_pairs) / 8359"
   ]
  },
  {
   "cell_type": "code",
   "execution_count": null,
   "id": "3d76dfbc-2c55-4cd5-90b4-1d4a04cd80d3",
   "metadata": {},
   "outputs": [],
   "source": []
  },
  {
   "cell_type": "markdown",
   "id": "e6a5d068-ce5e-43ae-9c74-2b9ffe8a06ca",
   "metadata": {},
   "source": [
    "### Setting Data for Gephi"
   ]
  },
  {
   "cell_type": "markdown",
   "id": "90529872-1079-418b-a778-6bb242f7d28e",
   "metadata": {},
   "source": [
    "#### Connection Type"
   ]
  },
  {
   "cell_type": "code",
   "execution_count": 9,
   "id": "f7dff3d6-1369-4610-8604-56d8b069cc20",
   "metadata": {
    "execution": {
     "iopub.execute_input": "2025-08-14T13:22:31.843827Z",
     "iopub.status.busy": "2025-08-14T13:22:31.843775Z",
     "iopub.status.idle": "2025-08-14T13:22:31.845528Z",
     "shell.execute_reply": "2025-08-14T13:22:31.845290Z",
     "shell.execute_reply.started": "2025-08-14T13:22:31.843821Z"
    }
   },
   "outputs": [],
   "source": [
    "df_brawler_pairs[\"Type\"] = \"Undirected\""
   ]
  },
  {
   "cell_type": "markdown",
   "id": "9585be08-1304-49f0-8b33-015251f1e711",
   "metadata": {},
   "source": [
    "#### Weight"
   ]
  },
  {
   "cell_type": "code",
   "execution_count": 10,
   "id": "39f5363e-6872-464a-bbec-eabb8796c633",
   "metadata": {
    "execution": {
     "iopub.execute_input": "2025-08-14T13:22:31.845874Z",
     "iopub.status.busy": "2025-08-14T13:22:31.845817Z",
     "iopub.status.idle": "2025-08-14T13:22:31.848176Z",
     "shell.execute_reply": "2025-08-14T13:22:31.847983Z",
     "shell.execute_reply.started": "2025-08-14T13:22:31.845868Z"
    }
   },
   "outputs": [],
   "source": [
    "df_brawler_pairs[\"Weight\"] = 1"
   ]
  },
  {
   "cell_type": "markdown",
   "id": "2240cef2-ce91-48cf-9546-1c906b85035e",
   "metadata": {},
   "source": [
    "### Determining Connections with Statistical Tests"
   ]
  },
  {
   "cell_type": "markdown",
   "id": "fd6973ae-3341-4e2d-b03f-93cd2909bb6d",
   "metadata": {},
   "source": [
    "#### Finding Winning Brawler Pairs"
   ]
  },
  {
   "cell_type": "code",
   "execution_count": 11,
   "id": "1d7deba4-3af8-4089-9aac-a038c8e73202",
   "metadata": {
    "execution": {
     "iopub.execute_input": "2025-08-14T13:22:31.848867Z",
     "iopub.status.busy": "2025-08-14T13:22:31.848768Z",
     "iopub.status.idle": "2025-08-14T13:22:32.002808Z",
     "shell.execute_reply": "2025-08-14T13:22:32.002495Z",
     "shell.execute_reply.started": "2025-08-14T13:22:31.848859Z"
    }
   },
   "outputs": [],
   "source": [
    "def run_win_hypothesis_test(x):\n",
    "    p_val = binomtest(\n",
    "        x[\"Wins\"], x[\"Observations\"], p=0.5, alternative=\"greater\"\n",
    "    ).pvalue\n",
    "    return p_val < ALPHA\n",
    "\n",
    "df_brawler_pairs[\"Winning_Pair\"] = df_brawler_pairs.apply(\n",
    "    run_win_hypothesis_test, axis = \"columns\"\n",
    ")"
   ]
  },
  {
   "cell_type": "markdown",
   "id": "658dde34-b81e-42ce-8f17-eb96bd65b7e0",
   "metadata": {},
   "source": [
    "#### Finding Losing Brawler Pairs"
   ]
  },
  {
   "cell_type": "code",
   "execution_count": 12,
   "id": "865d7500-a379-4660-beea-c02ff1d8dccb",
   "metadata": {
    "execution": {
     "iopub.execute_input": "2025-08-14T13:22:32.003304Z",
     "iopub.status.busy": "2025-08-14T13:22:32.003223Z",
     "iopub.status.idle": "2025-08-14T13:22:32.154636Z",
     "shell.execute_reply": "2025-08-14T13:22:32.154367Z",
     "shell.execute_reply.started": "2025-08-14T13:22:32.003295Z"
    }
   },
   "outputs": [],
   "source": [
    "def run_loss_hypothesis_test(x):\n",
    "    p_val = binomtest(\n",
    "        x[\"Loses\"], x[\"Observations\"], p=0.5, alternative=\"greater\"\n",
    "    ).pvalue\n",
    "    return p_val < ALPHA\n",
    "\n",
    "df_brawler_pairs[\"Losing_Pair\"] = df_brawler_pairs.apply(\n",
    "    run_loss_hypothesis_test, axis = \"columns\"\n",
    ")"
   ]
  },
  {
   "cell_type": "markdown",
   "id": "94863bc0-aa8d-4ba4-83fe-0e9161ca3057",
   "metadata": {},
   "source": [
    "#### Evaluating Results"
   ]
  },
  {
   "cell_type": "code",
   "execution_count": 13,
   "id": "bfe1b029-c010-4eb7-ac28-2c412b6f6f93",
   "metadata": {
    "execution": {
     "iopub.execute_input": "2025-08-14T13:22:32.155080Z",
     "iopub.status.busy": "2025-08-14T13:22:32.155012Z",
     "iopub.status.idle": "2025-08-14T13:22:32.156858Z",
     "shell.execute_reply": "2025-08-14T13:22:32.156656Z",
     "shell.execute_reply.started": "2025-08-14T13:22:32.155073Z"
    }
   },
   "outputs": [
    {
     "name": "stdout",
     "output_type": "stream",
     "text": [
      "Winning pair edges: 864\n",
      "Losing pair edges: 642\n"
     ]
    }
   ],
   "source": [
    "print(f\"Winning pair edges: {df_brawler_pairs[\"Winning_Pair\"].sum()}\")\n",
    "print(f\"Losing pair edges: {df_brawler_pairs[\"Losing_Pair\"].sum()}\")"
   ]
  },
  {
   "cell_type": "code",
   "execution_count": 21,
   "id": "2b232706-0553-4a5b-959e-ee4f8c9c93f7",
   "metadata": {
    "execution": {
     "iopub.execute_input": "2025-08-14T13:31:15.424987Z",
     "iopub.status.busy": "2025-08-14T13:31:15.423764Z",
     "iopub.status.idle": "2025-08-14T13:31:15.457762Z",
     "shell.execute_reply": "2025-08-14T13:31:15.457356Z",
     "shell.execute_reply.started": "2025-08-14T13:31:15.424936Z"
    }
   },
   "outputs": [
    {
     "data": {
      "text/html": [
       "<div>\n",
       "<style scoped>\n",
       "    .dataframe tbody tr th:only-of-type {\n",
       "        vertical-align: middle;\n",
       "    }\n",
       "\n",
       "    .dataframe tbody tr th {\n",
       "        vertical-align: top;\n",
       "    }\n",
       "\n",
       "    .dataframe thead th {\n",
       "        text-align: right;\n",
       "    }\n",
       "</style>\n",
       "<table border=\"1\" class=\"dataframe\">\n",
       "  <thead>\n",
       "    <tr style=\"text-align: right;\">\n",
       "      <th></th>\n",
       "      <th>Brawler_1</th>\n",
       "      <th>Brawler_2</th>\n",
       "      <th>Wins</th>\n",
       "      <th>Loses</th>\n",
       "      <th>Observations</th>\n",
       "      <th>Type</th>\n",
       "      <th>Weight</th>\n",
       "      <th>Winning_Pair</th>\n",
       "      <th>Losing_Pair</th>\n",
       "    </tr>\n",
       "  </thead>\n",
       "  <tbody>\n",
       "    <tr>\n",
       "      <th>159</th>\n",
       "      <td>ALLI</td>\n",
       "      <td>MR. P</td>\n",
       "      <td>75</td>\n",
       "      <td>44</td>\n",
       "      <td>119</td>\n",
       "      <td>Undirected</td>\n",
       "      <td>1</td>\n",
       "      <td>True</td>\n",
       "      <td>False</td>\n",
       "    </tr>\n",
       "    <tr>\n",
       "      <th>160</th>\n",
       "      <td>ALLI</td>\n",
       "      <td>NANI</td>\n",
       "      <td>83</td>\n",
       "      <td>60</td>\n",
       "      <td>143</td>\n",
       "      <td>Undirected</td>\n",
       "      <td>1</td>\n",
       "      <td>True</td>\n",
       "      <td>False</td>\n",
       "    </tr>\n",
       "    <tr>\n",
       "      <th>162</th>\n",
       "      <td>ALLI</td>\n",
       "      <td>OLLIE</td>\n",
       "      <td>38</td>\n",
       "      <td>22</td>\n",
       "      <td>60</td>\n",
       "      <td>Undirected</td>\n",
       "      <td>1</td>\n",
       "      <td>True</td>\n",
       "      <td>False</td>\n",
       "    </tr>\n",
       "    <tr>\n",
       "      <th>165</th>\n",
       "      <td>ALLI</td>\n",
       "      <td>PEARL</td>\n",
       "      <td>62</td>\n",
       "      <td>23</td>\n",
       "      <td>85</td>\n",
       "      <td>Undirected</td>\n",
       "      <td>1</td>\n",
       "      <td>True</td>\n",
       "      <td>False</td>\n",
       "    </tr>\n",
       "    <tr>\n",
       "      <th>166</th>\n",
       "      <td>ALLI</td>\n",
       "      <td>PENNY</td>\n",
       "      <td>102</td>\n",
       "      <td>65</td>\n",
       "      <td>167</td>\n",
       "      <td>Undirected</td>\n",
       "      <td>1</td>\n",
       "      <td>True</td>\n",
       "      <td>False</td>\n",
       "    </tr>\n",
       "  </tbody>\n",
       "</table>\n",
       "</div>"
      ],
      "text/plain": [
       "    Brawler_1 Brawler_2  Wins  Loses  Observations        Type  Weight  \\\n",
       "159      ALLI     MR. P    75     44           119  Undirected       1   \n",
       "160      ALLI      NANI    83     60           143  Undirected       1   \n",
       "162      ALLI     OLLIE    38     22            60  Undirected       1   \n",
       "165      ALLI     PEARL    62     23            85  Undirected       1   \n",
       "166      ALLI     PENNY   102     65           167  Undirected       1   \n",
       "\n",
       "     Winning_Pair  Losing_Pair  \n",
       "159          True        False  \n",
       "160          True        False  \n",
       "162          True        False  \n",
       "165          True        False  \n",
       "166          True        False  "
      ]
     },
     "execution_count": 21,
     "metadata": {},
     "output_type": "execute_result"
    }
   ],
   "source": [
    "df_brawler_pairs[df_brawler_pairs[\"Winning_Pair\"] == True].head(40).tail(5)"
   ]
  },
  {
   "cell_type": "markdown",
   "id": "7adc60e9-bac4-42ef-8d85-5801982350d7",
   "metadata": {},
   "source": [
    "### Saving Edge Data"
   ]
  },
  {
   "cell_type": "markdown",
   "id": "47b7e669-78bc-4e63-bf63-d09f25481022",
   "metadata": {},
   "source": [
    "#### Winning Edges"
   ]
  },
  {
   "cell_type": "code",
   "execution_count": 15,
   "id": "a9aeaeaf-0f45-4a78-a409-b44ff997b26c",
   "metadata": {
    "execution": {
     "iopub.execute_input": "2025-08-14T13:22:32.163092Z",
     "iopub.status.busy": "2025-08-14T13:22:32.162968Z",
     "iopub.status.idle": "2025-08-14T13:22:32.165872Z",
     "shell.execute_reply": "2025-08-14T13:22:32.165457Z",
     "shell.execute_reply.started": "2025-08-14T13:22:32.163084Z"
    }
   },
   "outputs": [],
   "source": [
    "# Getting only winning edges\n",
    "df_winning_edges = df_brawler_pairs[\n",
    "    df_brawler_pairs[\"Winning_Pair\"] == True\n",
    "]\n",
    "\n",
    "# Renaming columns\n",
    "df_winning_edges = df_winning_edges.rename(\n",
    "    columns={\n",
    "        'Brawler_1': 'Source', \n",
    "        'Brawler_2': 'Target'\n",
    "    }\n",
    ")\n",
    "\n",
    "# Getting relevant edge information\n",
    "df_winning_edges = df_winning_edges[[\n",
    "    \"Source\", \"Target\", \"Wins\", \"Loses\", \"Observations\"\n",
    "]]"
   ]
  },
  {
   "cell_type": "code",
   "execution_count": 16,
   "id": "d5119ef8-30f7-4021-891c-3287954d72ab",
   "metadata": {
    "execution": {
     "iopub.execute_input": "2025-08-14T13:22:32.166654Z",
     "iopub.status.busy": "2025-08-14T13:22:32.166572Z",
     "iopub.status.idle": "2025-08-14T13:22:32.171379Z",
     "shell.execute_reply": "2025-08-14T13:22:32.171078Z",
     "shell.execute_reply.started": "2025-08-14T13:22:32.166647Z"
    }
   },
   "outputs": [],
   "source": [
    "df_winning_edges.to_csv(\n",
    "    \"../outputs/graph-data/winning-edges.csv\", \n",
    "    index = False\n",
    ")"
   ]
  },
  {
   "cell_type": "markdown",
   "id": "5949ba28-3f49-45a5-b88f-5dfadbdc7a83",
   "metadata": {},
   "source": [
    "#### Losing Edges"
   ]
  },
  {
   "cell_type": "code",
   "execution_count": 17,
   "id": "0f0bf850-e341-4411-a3e6-295012df43e6",
   "metadata": {
    "execution": {
     "iopub.execute_input": "2025-08-14T13:22:32.171751Z",
     "iopub.status.busy": "2025-08-14T13:22:32.171678Z",
     "iopub.status.idle": "2025-08-14T13:22:32.175124Z",
     "shell.execute_reply": "2025-08-14T13:22:32.174830Z",
     "shell.execute_reply.started": "2025-08-14T13:22:32.171743Z"
    }
   },
   "outputs": [],
   "source": [
    "# Getting only winning edges\n",
    "df_losing_edges = df_brawler_pairs[\n",
    "    df_brawler_pairs[\"Losing_Pair\"] == True\n",
    "]\n",
    "\n",
    "df_losing_edges = df_losing_edges.rename(\n",
    "    columns={\n",
    "        'Brawler_1': 'Source', \n",
    "        'Brawler_2': 'Target'\n",
    "    }\n",
    ")\n",
    "\n",
    "# Getting relevant edge information\n",
    "df_losing_edges = df_losing_edges[[\n",
    "    \"Source\", \"Target\", \"Wins\", \"Loses\", \"Observations\"\n",
    "]]"
   ]
  },
  {
   "cell_type": "code",
   "execution_count": 18,
   "id": "96f7c9c0-b2be-4395-81ad-f86358324f1b",
   "metadata": {
    "execution": {
     "iopub.execute_input": "2025-08-14T13:22:32.175638Z",
     "iopub.status.busy": "2025-08-14T13:22:32.175556Z",
     "iopub.status.idle": "2025-08-14T13:22:32.179465Z",
     "shell.execute_reply": "2025-08-14T13:22:32.179230Z",
     "shell.execute_reply.started": "2025-08-14T13:22:32.175630Z"
    }
   },
   "outputs": [],
   "source": [
    "df_losing_edges.to_csv(\n",
    "    \"../outputs/graph-data/losing-edges.csv\", \n",
    "    index = False\n",
    ")"
   ]
  }
 ],
 "metadata": {
  "kernelspec": {
   "display_name": "Python 3 (ipykernel)",
   "language": "python",
   "name": "python3"
  },
  "language_info": {
   "codemirror_mode": {
    "name": "ipython",
    "version": 3
   },
   "file_extension": ".py",
   "mimetype": "text/x-python",
   "name": "python",
   "nbconvert_exporter": "python",
   "pygments_lexer": "ipython3",
   "version": "3.12.4"
  }
 },
 "nbformat": 4,
 "nbformat_minor": 5
}
