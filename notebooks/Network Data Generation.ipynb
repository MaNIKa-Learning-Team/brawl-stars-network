{
 "cells": [
  {
   "cell_type": "markdown",
   "id": "13c13972-c2f2-4c44-bdd1-91d440b994de",
   "metadata": {},
   "source": [
    "# Network Data Generation\n",
    "\n",
    "### Purpose\n",
    "This notebook was created to generate the data for a network of brawlers who are likely to win with each other.\n",
    "\n",
    "### Data Used\n",
    "This notebook will use game data of pairs of brawlers who won/lost together. This data was collected by both team members.\n",
    "\n",
    "### Approach\n",
    "This project will feature the following networks:\n",
    "- a network of brawlers who are more likely to win with each other\n",
    "- a network of brawlers who are more likely to lose with each other\n",
    "\n",
    "#### Why not a Network with Weighted Edges\n",
    "A network with weighted edges will be extremely sparse. Thus, connecting brawlers who are likely to win/lose together may make more sense for this project."
   ]
  },
  {
   "cell_type": "markdown",
   "id": "e5b0fe9c-6905-4022-b87d-c050bfeebcab",
   "metadata": {},
   "source": [
    "## Importing Libraries"
   ]
  },
  {
   "cell_type": "code",
   "execution_count": 1,
   "id": "d0976568-32fa-4256-9dc4-500495fee5f1",
   "metadata": {
    "execution": {
     "iopub.execute_input": "2025-08-19T02:45:44.009379Z",
     "iopub.status.busy": "2025-08-19T02:45:44.009283Z",
     "iopub.status.idle": "2025-08-19T02:45:44.668718Z",
     "shell.execute_reply": "2025-08-19T02:45:44.668460Z",
     "shell.execute_reply.started": "2025-08-19T02:45:44.009367Z"
    }
   },
   "outputs": [],
   "source": [
    "import pandas as pd\n",
    "import networkx\n",
    "from scipy.stats import binomtest"
   ]
  },
  {
   "cell_type": "markdown",
   "id": "931cd6a2-7725-4904-9bdc-e65167cf9893",
   "metadata": {},
   "source": [
    "## Writing Constants for this Notebook"
   ]
  },
  {
   "cell_type": "code",
   "execution_count": 2,
   "id": "b6e2e73d-a58d-48d5-b772-1d1daed0e5cc",
   "metadata": {
    "execution": {
     "iopub.execute_input": "2025-08-19T02:45:44.669293Z",
     "iopub.status.busy": "2025-08-19T02:45:44.669171Z",
     "iopub.status.idle": "2025-08-19T02:45:44.670829Z",
     "shell.execute_reply": "2025-08-19T02:45:44.670633Z",
     "shell.execute_reply.started": "2025-08-19T02:45:44.669286Z"
    }
   },
   "outputs": [],
   "source": [
    "BRAWLER_PAIR_VICTORIES_FILEPATH = (\n",
    "    \"../outputs/graph-data/brawler-pair-victories-beginner.csv\"\n",
    ")\n",
    "BRAWLER_PAIR_DEFEATS_FILEPATH = (\n",
    "    \"../outputs/graph-data/brawler-pair-defeats-beginner.csv\"\n",
    ")\n",
    "\n",
    "WINNING_EDGES_FILEPATH = (\n",
    "    \"../outputs/graph-data/edges/winning-edges-beginners.csv\"\n",
    ")\n",
    "LOSING_EDGES_FILEPATH = (\n",
    "    \"../outputs/graph-data/edges/losing-edges-beginners.csv\"\n",
    ")\n",
    "\n",
    "ALPHA = 0.05"
   ]
  },
  {
   "cell_type": "markdown",
   "id": "daf99cde-2e1b-45fe-a6ad-845c1fea02e6",
   "metadata": {},
   "source": [
    "## Downloading Edge Data"
   ]
  },
  {
   "cell_type": "markdown",
   "id": "7e25516d-39db-4eb5-b1d9-e092c6ff1da8",
   "metadata": {},
   "source": [
    "### Getting Times Brawler Pairs Won"
   ]
  },
  {
   "cell_type": "code",
   "execution_count": 3,
   "id": "42e04581-e1e3-4982-a91f-d1cf0e330b5e",
   "metadata": {
    "execution": {
     "iopub.execute_input": "2025-08-19T02:45:44.671197Z",
     "iopub.status.busy": "2025-08-19T02:45:44.671130Z",
     "iopub.status.idle": "2025-08-19T02:45:44.680151Z",
     "shell.execute_reply": "2025-08-19T02:45:44.679979Z",
     "shell.execute_reply.started": "2025-08-19T02:45:44.671191Z"
    }
   },
   "outputs": [
    {
     "data": {
      "text/html": [
       "<div>\n",
       "<style scoped>\n",
       "    .dataframe tbody tr th:only-of-type {\n",
       "        vertical-align: middle;\n",
       "    }\n",
       "\n",
       "    .dataframe tbody tr th {\n",
       "        vertical-align: top;\n",
       "    }\n",
       "\n",
       "    .dataframe thead th {\n",
       "        text-align: right;\n",
       "    }\n",
       "</style>\n",
       "<table border=\"1\" class=\"dataframe\">\n",
       "  <thead>\n",
       "    <tr style=\"text-align: right;\">\n",
       "      <th></th>\n",
       "      <th>Brawler_1</th>\n",
       "      <th>Brawler_2</th>\n",
       "      <th>Wins</th>\n",
       "    </tr>\n",
       "  </thead>\n",
       "  <tbody>\n",
       "    <tr>\n",
       "      <th>0</th>\n",
       "      <td>8-BIT</td>\n",
       "      <td>8-BIT</td>\n",
       "      <td>32</td>\n",
       "    </tr>\n",
       "    <tr>\n",
       "      <th>1</th>\n",
       "      <td>8-BIT</td>\n",
       "      <td>ALLI</td>\n",
       "      <td>14</td>\n",
       "    </tr>\n",
       "    <tr>\n",
       "      <th>2</th>\n",
       "      <td>8-BIT</td>\n",
       "      <td>AMBER</td>\n",
       "      <td>12</td>\n",
       "    </tr>\n",
       "    <tr>\n",
       "      <th>3</th>\n",
       "      <td>8-BIT</td>\n",
       "      <td>ANGELO</td>\n",
       "      <td>10</td>\n",
       "    </tr>\n",
       "    <tr>\n",
       "      <th>4</th>\n",
       "      <td>8-BIT</td>\n",
       "      <td>ASH</td>\n",
       "      <td>3</td>\n",
       "    </tr>\n",
       "  </tbody>\n",
       "</table>\n",
       "</div>"
      ],
      "text/plain": [
       "  Brawler_1 Brawler_2  Wins\n",
       "0     8-BIT     8-BIT    32\n",
       "1     8-BIT      ALLI    14\n",
       "2     8-BIT     AMBER    12\n",
       "3     8-BIT    ANGELO    10\n",
       "4     8-BIT       ASH     3"
      ]
     },
     "execution_count": 3,
     "metadata": {},
     "output_type": "execute_result"
    }
   ],
   "source": [
    "df_wins = pd.read_csv(BRAWLER_PAIR_VICTORIES_FILEPATH)\n",
    "\n",
    "# Group by Brawler_1 and Brawler_2, summing the Weight column\n",
    "df_wins = (\n",
    "    df_wins.groupby(\n",
    "        ['Brawler_1', 'Brawler_2'], \n",
    "        as_index=False\n",
    "    )['Weight'].sum()\n",
    ")\n",
    "\n",
    "# Renaming weight column\n",
    "df_wins = df_wins.rename(\n",
    "    columns={'Weight': 'Wins'}\n",
    ")\n",
    "\n",
    "df_wins.head()"
   ]
  },
  {
   "cell_type": "markdown",
   "id": "526b3de9-a32c-4532-857f-4be56d44c277",
   "metadata": {},
   "source": [
    "### Getting Times Brawler Pairs Lost"
   ]
  },
  {
   "cell_type": "code",
   "execution_count": 4,
   "id": "be80be6e-14cf-4282-9c24-88036089938d",
   "metadata": {
    "execution": {
     "iopub.execute_input": "2025-08-19T02:45:44.680669Z",
     "iopub.status.busy": "2025-08-19T02:45:44.680569Z",
     "iopub.status.idle": "2025-08-19T02:45:44.707283Z",
     "shell.execute_reply": "2025-08-19T02:45:44.707086Z",
     "shell.execute_reply.started": "2025-08-19T02:45:44.680663Z"
    }
   },
   "outputs": [
    {
     "data": {
      "text/html": [
       "<div>\n",
       "<style scoped>\n",
       "    .dataframe tbody tr th:only-of-type {\n",
       "        vertical-align: middle;\n",
       "    }\n",
       "\n",
       "    .dataframe tbody tr th {\n",
       "        vertical-align: top;\n",
       "    }\n",
       "\n",
       "    .dataframe thead th {\n",
       "        text-align: right;\n",
       "    }\n",
       "</style>\n",
       "<table border=\"1\" class=\"dataframe\">\n",
       "  <thead>\n",
       "    <tr style=\"text-align: right;\">\n",
       "      <th></th>\n",
       "      <th>Brawler_1</th>\n",
       "      <th>Brawler_2</th>\n",
       "      <th>Losses</th>\n",
       "    </tr>\n",
       "  </thead>\n",
       "  <tbody>\n",
       "    <tr>\n",
       "      <th>0</th>\n",
       "      <td>8-BIT</td>\n",
       "      <td>8-BIT</td>\n",
       "      <td>1</td>\n",
       "    </tr>\n",
       "    <tr>\n",
       "      <th>1</th>\n",
       "      <td>8-BIT</td>\n",
       "      <td>ALLI</td>\n",
       "      <td>11</td>\n",
       "    </tr>\n",
       "    <tr>\n",
       "      <th>2</th>\n",
       "      <td>8-BIT</td>\n",
       "      <td>AMBER</td>\n",
       "      <td>18</td>\n",
       "    </tr>\n",
       "    <tr>\n",
       "      <th>3</th>\n",
       "      <td>8-BIT</td>\n",
       "      <td>ANGELO</td>\n",
       "      <td>7</td>\n",
       "    </tr>\n",
       "    <tr>\n",
       "      <th>4</th>\n",
       "      <td>8-BIT</td>\n",
       "      <td>ASH</td>\n",
       "      <td>4</td>\n",
       "    </tr>\n",
       "  </tbody>\n",
       "</table>\n",
       "</div>"
      ],
      "text/plain": [
       "  Brawler_1 Brawler_2  Losses\n",
       "0     8-BIT     8-BIT       1\n",
       "1     8-BIT      ALLI      11\n",
       "2     8-BIT     AMBER      18\n",
       "3     8-BIT    ANGELO       7\n",
       "4     8-BIT       ASH       4"
      ]
     },
     "execution_count": 4,
     "metadata": {},
     "output_type": "execute_result"
    }
   ],
   "source": [
    "df_losses = pd.read_csv(BRAWLER_PAIR_DEFEATS_FILEPATH)\n",
    "\n",
    "# Group by Brawler_1 and Brawler_2, summing the Weight column\n",
    "df_losses = (\n",
    "    df_losses.groupby(\n",
    "        ['Brawler_1', 'Brawler_2'], \n",
    "        as_index=False\n",
    "    )['Weight'].sum()\n",
    ")\n",
    "\n",
    "# Renaming weight column\n",
    "df_losses = df_losses.rename(\n",
    "    columns={'Weight': 'Losses'}\n",
    ")\n",
    "\n",
    "df_losses.head()"
   ]
  },
  {
   "cell_type": "markdown",
   "id": "dcc63c35-9459-4510-9d9c-1548d4db1e17",
   "metadata": {},
   "source": [
    "### Data Engineering"
   ]
  },
  {
   "cell_type": "markdown",
   "id": "90e7cd5f-3dd1-49e3-beff-edccbf4a62d6",
   "metadata": {},
   "source": [
    "#### Combining Win and Loss Data"
   ]
  },
  {
   "cell_type": "code",
   "execution_count": 5,
   "id": "81c0640c-c5da-4dbc-ad2b-91a5102ed5cd",
   "metadata": {
    "execution": {
     "iopub.execute_input": "2025-08-19T02:45:44.707727Z",
     "iopub.status.busy": "2025-08-19T02:45:44.707655Z",
     "iopub.status.idle": "2025-08-19T02:45:44.712580Z",
     "shell.execute_reply": "2025-08-19T02:45:44.712418Z",
     "shell.execute_reply.started": "2025-08-19T02:45:44.707720Z"
    }
   },
   "outputs": [
    {
     "data": {
      "text/html": [
       "<div>\n",
       "<style scoped>\n",
       "    .dataframe tbody tr th:only-of-type {\n",
       "        vertical-align: middle;\n",
       "    }\n",
       "\n",
       "    .dataframe tbody tr th {\n",
       "        vertical-align: top;\n",
       "    }\n",
       "\n",
       "    .dataframe thead th {\n",
       "        text-align: right;\n",
       "    }\n",
       "</style>\n",
       "<table border=\"1\" class=\"dataframe\">\n",
       "  <thead>\n",
       "    <tr style=\"text-align: right;\">\n",
       "      <th></th>\n",
       "      <th>Brawler_1</th>\n",
       "      <th>Brawler_2</th>\n",
       "      <th>Wins</th>\n",
       "      <th>Losses</th>\n",
       "      <th>Observations</th>\n",
       "    </tr>\n",
       "  </thead>\n",
       "  <tbody>\n",
       "    <tr>\n",
       "      <th>0</th>\n",
       "      <td>8-BIT</td>\n",
       "      <td>8-BIT</td>\n",
       "      <td>32</td>\n",
       "      <td>1</td>\n",
       "      <td>33</td>\n",
       "    </tr>\n",
       "    <tr>\n",
       "      <th>1</th>\n",
       "      <td>8-BIT</td>\n",
       "      <td>ALLI</td>\n",
       "      <td>14</td>\n",
       "      <td>11</td>\n",
       "      <td>25</td>\n",
       "    </tr>\n",
       "    <tr>\n",
       "      <th>2</th>\n",
       "      <td>8-BIT</td>\n",
       "      <td>AMBER</td>\n",
       "      <td>12</td>\n",
       "      <td>18</td>\n",
       "      <td>30</td>\n",
       "    </tr>\n",
       "    <tr>\n",
       "      <th>3</th>\n",
       "      <td>8-BIT</td>\n",
       "      <td>ANGELO</td>\n",
       "      <td>10</td>\n",
       "      <td>7</td>\n",
       "      <td>17</td>\n",
       "    </tr>\n",
       "    <tr>\n",
       "      <th>4</th>\n",
       "      <td>8-BIT</td>\n",
       "      <td>ASH</td>\n",
       "      <td>3</td>\n",
       "      <td>4</td>\n",
       "      <td>7</td>\n",
       "    </tr>\n",
       "  </tbody>\n",
       "</table>\n",
       "</div>"
      ],
      "text/plain": [
       "  Brawler_1 Brawler_2  Wins  Losses  Observations\n",
       "0     8-BIT     8-BIT    32       1            33\n",
       "1     8-BIT      ALLI    14      11            25\n",
       "2     8-BIT     AMBER    12      18            30\n",
       "3     8-BIT    ANGELO    10       7            17\n",
       "4     8-BIT       ASH     3       4             7"
      ]
     },
     "execution_count": 5,
     "metadata": {},
     "output_type": "execute_result"
    }
   ],
   "source": [
    "# Merge df_wins and df_losses on Brawler_1 and Brawler_2\n",
    "df_brawler_pairs = pd.merge(\n",
    "    df_wins,\n",
    "    df_losses,\n",
    "    on=['Brawler_1', 'Brawler_2'],\n",
    "    how='outer'\n",
    ").fillna(0)  # Fill NaN with 0 for pairs that only appear in one DataFrame\n",
    "\n",
    "# Ensure wins and Losses columns are integers\n",
    "df_brawler_pairs['Wins'] = df_brawler_pairs['Wins'].astype(int)\n",
    "df_brawler_pairs['Losses'] = df_brawler_pairs['Losses'].astype(int)\n",
    "\n",
    "# Counting total brawler pairs found\n",
    "df_brawler_pairs[\"Observations\"] = (\n",
    "    df_brawler_pairs['Wins'] + df_brawler_pairs['Losses']\n",
    ")\n",
    "\n",
    "# Display the first few rows\n",
    "df_brawler_pairs.head()"
   ]
  },
  {
   "cell_type": "markdown",
   "id": "e6a5d068-ce5e-43ae-9c74-2b9ffe8a06ca",
   "metadata": {},
   "source": [
    "### Setting Data for Gephi"
   ]
  },
  {
   "cell_type": "markdown",
   "id": "90529872-1079-418b-a778-6bb242f7d28e",
   "metadata": {},
   "source": [
    "#### Connection Type"
   ]
  },
  {
   "cell_type": "code",
   "execution_count": 6,
   "id": "f7dff3d6-1369-4610-8604-56d8b069cc20",
   "metadata": {
    "execution": {
     "iopub.execute_input": "2025-08-19T02:45:44.713779Z",
     "iopub.status.busy": "2025-08-19T02:45:44.713711Z",
     "iopub.status.idle": "2025-08-19T02:45:44.715252Z",
     "shell.execute_reply": "2025-08-19T02:45:44.715079Z",
     "shell.execute_reply.started": "2025-08-19T02:45:44.713773Z"
    }
   },
   "outputs": [],
   "source": [
    "df_brawler_pairs[\"Type\"] = \"Undirected\""
   ]
  },
  {
   "cell_type": "markdown",
   "id": "9585be08-1304-49f0-8b33-015251f1e711",
   "metadata": {},
   "source": [
    "#### Weight"
   ]
  },
  {
   "cell_type": "code",
   "execution_count": 7,
   "id": "39f5363e-6872-464a-bbec-eabb8796c633",
   "metadata": {
    "execution": {
     "iopub.execute_input": "2025-08-19T02:45:44.715545Z",
     "iopub.status.busy": "2025-08-19T02:45:44.715495Z",
     "iopub.status.idle": "2025-08-19T02:45:44.716901Z",
     "shell.execute_reply": "2025-08-19T02:45:44.716729Z",
     "shell.execute_reply.started": "2025-08-19T02:45:44.715540Z"
    }
   },
   "outputs": [],
   "source": [
    "df_brawler_pairs[\"Weight\"] = 1"
   ]
  },
  {
   "cell_type": "markdown",
   "id": "2240cef2-ce91-48cf-9546-1c906b85035e",
   "metadata": {},
   "source": [
    "### Determining Connections with Statistical Tests"
   ]
  },
  {
   "cell_type": "markdown",
   "id": "fd6973ae-3341-4e2d-b03f-93cd2909bb6d",
   "metadata": {},
   "source": [
    "#### Finding Winning Brawler Pairs"
   ]
  },
  {
   "cell_type": "code",
   "execution_count": 8,
   "id": "1d7deba4-3af8-4089-9aac-a038c8e73202",
   "metadata": {
    "execution": {
     "iopub.execute_input": "2025-08-19T02:45:44.717226Z",
     "iopub.status.busy": "2025-08-19T02:45:44.717177Z",
     "iopub.status.idle": "2025-08-19T02:45:44.841614Z",
     "shell.execute_reply": "2025-08-19T02:45:44.841380Z",
     "shell.execute_reply.started": "2025-08-19T02:45:44.717221Z"
    }
   },
   "outputs": [],
   "source": [
    "def run_win_hypothesis_test(x):\n",
    "    p_val = binomtest(\n",
    "        x[\"Wins\"], x[\"Observations\"], p=0.5, alternative=\"greater\"\n",
    "    ).pvalue\n",
    "    return p_val < ALPHA\n",
    "\n",
    "df_brawler_pairs[\"Winning_Pair\"] = df_brawler_pairs.apply(\n",
    "    run_win_hypothesis_test, axis = \"columns\"\n",
    ")"
   ]
  },
  {
   "cell_type": "markdown",
   "id": "658dde34-b81e-42ce-8f17-eb96bd65b7e0",
   "metadata": {},
   "source": [
    "#### Finding Losing Brawler Pairs"
   ]
  },
  {
   "cell_type": "code",
   "execution_count": 9,
   "id": "865d7500-a379-4660-beea-c02ff1d8dccb",
   "metadata": {
    "execution": {
     "iopub.execute_input": "2025-08-19T02:45:44.841902Z",
     "iopub.status.busy": "2025-08-19T02:45:44.841854Z",
     "iopub.status.idle": "2025-08-19T02:45:44.988696Z",
     "shell.execute_reply": "2025-08-19T02:45:44.988518Z",
     "shell.execute_reply.started": "2025-08-19T02:45:44.841897Z"
    }
   },
   "outputs": [],
   "source": [
    "def run_loss_hypothesis_test(x):\n",
    "    p_val = binomtest(\n",
    "        x[\"Losses\"], x[\"Observations\"], p=0.5, alternative=\"greater\"\n",
    "    ).pvalue\n",
    "    return p_val < ALPHA\n",
    "\n",
    "df_brawler_pairs[\"Losing_Pair\"] = df_brawler_pairs.apply(\n",
    "    run_loss_hypothesis_test, axis = \"columns\"\n",
    ")"
   ]
  },
  {
   "cell_type": "markdown",
   "id": "94863bc0-aa8d-4ba4-83fe-0e9161ca3057",
   "metadata": {},
   "source": [
    "#### Evaluating Results"
   ]
  },
  {
   "cell_type": "code",
   "execution_count": 10,
   "id": "bfe1b029-c010-4eb7-ac28-2c412b6f6f93",
   "metadata": {
    "execution": {
     "iopub.execute_input": "2025-08-19T02:45:44.988996Z",
     "iopub.status.busy": "2025-08-19T02:45:44.988938Z",
     "iopub.status.idle": "2025-08-19T02:45:44.990440Z",
     "shell.execute_reply": "2025-08-19T02:45:44.990271Z",
     "shell.execute_reply.started": "2025-08-19T02:45:44.988989Z"
    }
   },
   "outputs": [
    {
     "name": "stdout",
     "output_type": "stream",
     "text": [
      "Winning pair edges: 276\n",
      "Losing pair edges: 232\n"
     ]
    }
   ],
   "source": [
    "print(f\"Winning pair edges: {df_brawler_pairs[\"Winning_Pair\"].sum()}\")\n",
    "print(f\"Losing pair edges: {df_brawler_pairs[\"Losing_Pair\"].sum()}\")"
   ]
  },
  {
   "cell_type": "code",
   "execution_count": 11,
   "id": "2b232706-0553-4a5b-959e-ee4f8c9c93f7",
   "metadata": {
    "execution": {
     "iopub.execute_input": "2025-08-19T02:45:44.990735Z",
     "iopub.status.busy": "2025-08-19T02:45:44.990681Z",
     "iopub.status.idle": "2025-08-19T02:45:44.993859Z",
     "shell.execute_reply": "2025-08-19T02:45:44.993671Z",
     "shell.execute_reply.started": "2025-08-19T02:45:44.990729Z"
    }
   },
   "outputs": [
    {
     "data": {
      "text/html": [
       "<div>\n",
       "<style scoped>\n",
       "    .dataframe tbody tr th:only-of-type {\n",
       "        vertical-align: middle;\n",
       "    }\n",
       "\n",
       "    .dataframe tbody tr th {\n",
       "        vertical-align: top;\n",
       "    }\n",
       "\n",
       "    .dataframe thead th {\n",
       "        text-align: right;\n",
       "    }\n",
       "</style>\n",
       "<table border=\"1\" class=\"dataframe\">\n",
       "  <thead>\n",
       "    <tr style=\"text-align: right;\">\n",
       "      <th></th>\n",
       "      <th>Brawler_1</th>\n",
       "      <th>Brawler_2</th>\n",
       "      <th>Wins</th>\n",
       "      <th>Losses</th>\n",
       "      <th>Observations</th>\n",
       "      <th>Type</th>\n",
       "      <th>Weight</th>\n",
       "      <th>Winning_Pair</th>\n",
       "      <th>Losing_Pair</th>\n",
       "    </tr>\n",
       "  </thead>\n",
       "  <tbody>\n",
       "    <tr>\n",
       "      <th>646</th>\n",
       "      <td>BELLE</td>\n",
       "      <td>CORDELIUS</td>\n",
       "      <td>17</td>\n",
       "      <td>2</td>\n",
       "      <td>19</td>\n",
       "      <td>Undirected</td>\n",
       "      <td>1</td>\n",
       "      <td>True</td>\n",
       "      <td>False</td>\n",
       "    </tr>\n",
       "    <tr>\n",
       "      <th>649</th>\n",
       "      <td>BELLE</td>\n",
       "      <td>DOUG</td>\n",
       "      <td>21</td>\n",
       "      <td>10</td>\n",
       "      <td>31</td>\n",
       "      <td>Undirected</td>\n",
       "      <td>1</td>\n",
       "      <td>True</td>\n",
       "      <td>False</td>\n",
       "    </tr>\n",
       "    <tr>\n",
       "      <th>654</th>\n",
       "      <td>BELLE</td>\n",
       "      <td>EMZ</td>\n",
       "      <td>45</td>\n",
       "      <td>29</td>\n",
       "      <td>74</td>\n",
       "      <td>Undirected</td>\n",
       "      <td>1</td>\n",
       "      <td>True</td>\n",
       "      <td>False</td>\n",
       "    </tr>\n",
       "    <tr>\n",
       "      <th>660</th>\n",
       "      <td>BELLE</td>\n",
       "      <td>GENE</td>\n",
       "      <td>20</td>\n",
       "      <td>8</td>\n",
       "      <td>28</td>\n",
       "      <td>Undirected</td>\n",
       "      <td>1</td>\n",
       "      <td>True</td>\n",
       "      <td>False</td>\n",
       "    </tr>\n",
       "    <tr>\n",
       "      <th>672</th>\n",
       "      <td>BELLE</td>\n",
       "      <td>KENJI</td>\n",
       "      <td>24</td>\n",
       "      <td>9</td>\n",
       "      <td>33</td>\n",
       "      <td>Undirected</td>\n",
       "      <td>1</td>\n",
       "      <td>True</td>\n",
       "      <td>False</td>\n",
       "    </tr>\n",
       "  </tbody>\n",
       "</table>\n",
       "</div>"
      ],
      "text/plain": [
       "    Brawler_1  Brawler_2  Wins  Losses  Observations        Type  Weight  \\\n",
       "646     BELLE  CORDELIUS    17       2            19  Undirected       1   \n",
       "649     BELLE       DOUG    21      10            31  Undirected       1   \n",
       "654     BELLE        EMZ    45      29            74  Undirected       1   \n",
       "660     BELLE       GENE    20       8            28  Undirected       1   \n",
       "672     BELLE      KENJI    24       9            33  Undirected       1   \n",
       "\n",
       "     Winning_Pair  Losing_Pair  \n",
       "646          True        False  \n",
       "649          True        False  \n",
       "654          True        False  \n",
       "660          True        False  \n",
       "672          True        False  "
      ]
     },
     "execution_count": 11,
     "metadata": {},
     "output_type": "execute_result"
    }
   ],
   "source": [
    "df_brawler_pairs[df_brawler_pairs[\"Winning_Pair\"] == True].head(40).tail(5)"
   ]
  },
  {
   "cell_type": "code",
   "execution_count": 12,
   "id": "54c664f5-6c8f-42cb-ab52-76fd443e4abd",
   "metadata": {
    "execution": {
     "iopub.execute_input": "2025-08-19T02:45:44.994240Z",
     "iopub.status.busy": "2025-08-19T02:45:44.994150Z",
     "iopub.status.idle": "2025-08-19T02:45:44.997281Z",
     "shell.execute_reply": "2025-08-19T02:45:44.997112Z",
     "shell.execute_reply.started": "2025-08-19T02:45:44.994235Z"
    }
   },
   "outputs": [
    {
     "data": {
      "text/html": [
       "<div>\n",
       "<style scoped>\n",
       "    .dataframe tbody tr th:only-of-type {\n",
       "        vertical-align: middle;\n",
       "    }\n",
       "\n",
       "    .dataframe tbody tr th {\n",
       "        vertical-align: top;\n",
       "    }\n",
       "\n",
       "    .dataframe thead th {\n",
       "        text-align: right;\n",
       "    }\n",
       "</style>\n",
       "<table border=\"1\" class=\"dataframe\">\n",
       "  <thead>\n",
       "    <tr style=\"text-align: right;\">\n",
       "      <th></th>\n",
       "      <th>Brawler_1</th>\n",
       "      <th>Brawler_2</th>\n",
       "      <th>Wins</th>\n",
       "      <th>Losses</th>\n",
       "      <th>Observations</th>\n",
       "      <th>Type</th>\n",
       "      <th>Weight</th>\n",
       "      <th>Winning_Pair</th>\n",
       "      <th>Losing_Pair</th>\n",
       "    </tr>\n",
       "  </thead>\n",
       "  <tbody>\n",
       "    <tr>\n",
       "      <th>534</th>\n",
       "      <td>BARLEY</td>\n",
       "      <td>SHELLY</td>\n",
       "      <td>15</td>\n",
       "      <td>45</td>\n",
       "      <td>60</td>\n",
       "      <td>Undirected</td>\n",
       "      <td>1</td>\n",
       "      <td>False</td>\n",
       "      <td>True</td>\n",
       "    </tr>\n",
       "    <tr>\n",
       "      <th>538</th>\n",
       "      <td>BARLEY</td>\n",
       "      <td>STU</td>\n",
       "      <td>12</td>\n",
       "      <td>31</td>\n",
       "      <td>43</td>\n",
       "      <td>Undirected</td>\n",
       "      <td>1</td>\n",
       "      <td>False</td>\n",
       "      <td>True</td>\n",
       "    </tr>\n",
       "    <tr>\n",
       "      <th>542</th>\n",
       "      <td>BARLEY</td>\n",
       "      <td>WILLOW</td>\n",
       "      <td>0</td>\n",
       "      <td>6</td>\n",
       "      <td>6</td>\n",
       "      <td>Undirected</td>\n",
       "      <td>1</td>\n",
       "      <td>False</td>\n",
       "      <td>True</td>\n",
       "    </tr>\n",
       "    <tr>\n",
       "      <th>567</th>\n",
       "      <td>BEA</td>\n",
       "      <td>EDGAR</td>\n",
       "      <td>78</td>\n",
       "      <td>113</td>\n",
       "      <td>191</td>\n",
       "      <td>Undirected</td>\n",
       "      <td>1</td>\n",
       "      <td>False</td>\n",
       "      <td>True</td>\n",
       "    </tr>\n",
       "    <tr>\n",
       "      <th>568</th>\n",
       "      <td>BEA</td>\n",
       "      <td>EL PRIMO</td>\n",
       "      <td>11</td>\n",
       "      <td>29</td>\n",
       "      <td>40</td>\n",
       "      <td>Undirected</td>\n",
       "      <td>1</td>\n",
       "      <td>False</td>\n",
       "      <td>True</td>\n",
       "    </tr>\n",
       "  </tbody>\n",
       "</table>\n",
       "</div>"
      ],
      "text/plain": [
       "    Brawler_1 Brawler_2  Wins  Losses  Observations        Type  Weight  \\\n",
       "534    BARLEY    SHELLY    15      45            60  Undirected       1   \n",
       "538    BARLEY       STU    12      31            43  Undirected       1   \n",
       "542    BARLEY    WILLOW     0       6             6  Undirected       1   \n",
       "567       BEA     EDGAR    78     113           191  Undirected       1   \n",
       "568       BEA  EL PRIMO    11      29            40  Undirected       1   \n",
       "\n",
       "     Winning_Pair  Losing_Pair  \n",
       "534         False         True  \n",
       "538         False         True  \n",
       "542         False         True  \n",
       "567         False         True  \n",
       "568         False         True  "
      ]
     },
     "execution_count": 12,
     "metadata": {},
     "output_type": "execute_result"
    }
   ],
   "source": [
    "df_brawler_pairs[df_brawler_pairs[\"Losing_Pair\"] == True].head(40).tail(5)"
   ]
  },
  {
   "cell_type": "markdown",
   "id": "7adc60e9-bac4-42ef-8d85-5801982350d7",
   "metadata": {},
   "source": [
    "### Saving Edge Data"
   ]
  },
  {
   "cell_type": "markdown",
   "id": "47b7e669-78bc-4e63-bf63-d09f25481022",
   "metadata": {},
   "source": [
    "#### Winning Edges"
   ]
  },
  {
   "cell_type": "code",
   "execution_count": 13,
   "id": "a9aeaeaf-0f45-4a78-a409-b44ff997b26c",
   "metadata": {
    "execution": {
     "iopub.execute_input": "2025-08-19T02:45:44.997655Z",
     "iopub.status.busy": "2025-08-19T02:45:44.997599Z",
     "iopub.status.idle": "2025-08-19T02:45:44.999928Z",
     "shell.execute_reply": "2025-08-19T02:45:44.999762Z",
     "shell.execute_reply.started": "2025-08-19T02:45:44.997648Z"
    }
   },
   "outputs": [],
   "source": [
    "# Getting only winning edges\n",
    "df_winning_edges = df_brawler_pairs[\n",
    "    df_brawler_pairs[\"Winning_Pair\"] == True\n",
    "]\n",
    "\n",
    "# Renaming columns\n",
    "df_winning_edges = df_winning_edges.rename(\n",
    "    columns={\n",
    "        'Brawler_1': 'Source', \n",
    "        'Brawler_2': 'Target'\n",
    "    }\n",
    ")\n",
    "\n",
    "# Setting weights to probability of winning\n",
    "df_winning_edges[\"Weight\"] = (\n",
    "    df_winning_edges[\"Wins\"] / df_winning_edges[\"Observations\"]\n",
    ")\n",
    "\n",
    "# Getting relevant edge information\n",
    "df_winning_edges = df_winning_edges[[\n",
    "    \"Source\", \"Target\", \"Type\", \"Weight\"\n",
    "]]"
   ]
  },
  {
   "cell_type": "code",
   "execution_count": 14,
   "id": "d5119ef8-30f7-4021-891c-3287954d72ab",
   "metadata": {
    "execution": {
     "iopub.execute_input": "2025-08-19T02:45:45.000338Z",
     "iopub.status.busy": "2025-08-19T02:45:45.000211Z",
     "iopub.status.idle": "2025-08-19T02:45:45.002669Z",
     "shell.execute_reply": "2025-08-19T02:45:45.002462Z",
     "shell.execute_reply.started": "2025-08-19T02:45:45.000332Z"
    }
   },
   "outputs": [],
   "source": [
    "df_winning_edges.to_csv(\n",
    "    WINNING_EDGES_FILEPATH, \n",
    "    index = False\n",
    ")"
   ]
  },
  {
   "cell_type": "markdown",
   "id": "5949ba28-3f49-45a5-b88f-5dfadbdc7a83",
   "metadata": {},
   "source": [
    "#### Losing Edges"
   ]
  },
  {
   "cell_type": "code",
   "execution_count": 15,
   "id": "0f0bf850-e341-4411-a3e6-295012df43e6",
   "metadata": {
    "execution": {
     "iopub.execute_input": "2025-08-19T02:45:45.003011Z",
     "iopub.status.busy": "2025-08-19T02:45:45.002952Z",
     "iopub.status.idle": "2025-08-19T02:45:45.005226Z",
     "shell.execute_reply": "2025-08-19T02:45:45.005021Z",
     "shell.execute_reply.started": "2025-08-19T02:45:45.003006Z"
    }
   },
   "outputs": [],
   "source": [
    "# Getting only winning edges\n",
    "df_losing_edges = df_brawler_pairs[\n",
    "    df_brawler_pairs[\"Losing_Pair\"] == True\n",
    "]\n",
    "\n",
    "df_losing_edges = df_losing_edges.rename(\n",
    "    columns={\n",
    "        'Brawler_1': 'Source', \n",
    "        'Brawler_2': 'Target'\n",
    "    }\n",
    ")\n",
    "\n",
    "# Setting weights to probability of winning\n",
    "df_losing_edges[\"Weight\"] = (\n",
    "    df_losing_edges[\"Losses\"] / df_losing_edges[\"Observations\"]\n",
    ")\n",
    "\n",
    "# Getting relevant edge information\n",
    "df_losing_edges = df_losing_edges[[\n",
    "    \"Source\", \"Target\", \"Type\", \"Weight\"\n",
    "]]"
   ]
  },
  {
   "cell_type": "code",
   "execution_count": 16,
   "id": "96f7c9c0-b2be-4395-81ad-f86358324f1b",
   "metadata": {
    "execution": {
     "iopub.execute_input": "2025-08-19T02:45:45.005560Z",
     "iopub.status.busy": "2025-08-19T02:45:45.005500Z",
     "iopub.status.idle": "2025-08-19T02:45:45.007836Z",
     "shell.execute_reply": "2025-08-19T02:45:45.007634Z",
     "shell.execute_reply.started": "2025-08-19T02:45:45.005554Z"
    }
   },
   "outputs": [],
   "source": [
    "df_losing_edges.to_csv(\n",
    "    LOSING_EDGES_FILEPATH, \n",
    "    index = False\n",
    ")"
   ]
  }
 ],
 "metadata": {
  "kernelspec": {
   "display_name": "Python 3 (ipykernel)",
   "language": "python",
   "name": "python3"
  },
  "language_info": {
   "codemirror_mode": {
    "name": "ipython",
    "version": 3
   },
   "file_extension": ".py",
   "mimetype": "text/x-python",
   "name": "python",
   "nbconvert_exporter": "python",
   "pygments_lexer": "ipython3",
   "version": "3.12.9"
  }
 },
 "nbformat": 4,
 "nbformat_minor": 5
}
