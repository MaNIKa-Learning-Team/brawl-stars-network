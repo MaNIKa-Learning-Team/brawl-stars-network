{
 "cells": [
  {
   "cell_type": "markdown",
   "id": "a8076ffc-0431-49de-a5e5-1a07240d4b88",
   "metadata": {},
   "source": [
    "# Looking for Needed Balance Changes\n",
    "\n",
    "### Purpose\n",
    "This notebook was created to find OP and UP brawlers based on betweenness centrality."
   ]
  },
  {
   "cell_type": "markdown",
   "id": "b27e7792-37f0-47ab-921b-99d1118ce7e8",
   "metadata": {},
   "source": [
    "## Importing Libraries"
   ]
  },
  {
   "cell_type": "code",
   "execution_count": 1,
   "id": "f5f1003b-5e66-4254-a7c3-29b8e8d09202",
   "metadata": {
    "execution": {
     "iopub.execute_input": "2025-08-30T07:56:50.903194Z",
     "iopub.status.busy": "2025-08-30T07:56:50.902733Z",
     "iopub.status.idle": "2025-08-30T07:56:51.819365Z",
     "shell.execute_reply": "2025-08-30T07:56:51.819048Z",
     "shell.execute_reply.started": "2025-08-30T07:56:50.903109Z"
    }
   },
   "outputs": [],
   "source": [
    "import matplotlib.pyplot as plt\n",
    "import networkx as nx\n",
    "import numpy as np\n",
    "import pandas as pd\n",
    "import powerlaw\n",
    "from scipy.stats import skew"
   ]
  },
  {
   "cell_type": "markdown",
   "id": "1a7bc064-6b00-445f-b967-f40759f7cb37",
   "metadata": {},
   "source": [
    "## Downloading Data"
   ]
  },
  {
   "cell_type": "markdown",
   "id": "188375a5-1665-4cec-aaab-d1f54007901c",
   "metadata": {},
   "source": [
    "### Brawler Nodes"
   ]
  },
  {
   "cell_type": "code",
   "execution_count": 2,
   "id": "ca2bce70-3112-4645-9bc6-3a4ec7e53fb3",
   "metadata": {
    "execution": {
     "iopub.execute_input": "2025-08-30T07:56:51.819700Z",
     "iopub.status.busy": "2025-08-30T07:56:51.819590Z",
     "iopub.status.idle": "2025-08-30T07:56:51.827274Z",
     "shell.execute_reply": "2025-08-30T07:56:51.827077Z",
     "shell.execute_reply.started": "2025-08-30T07:56:51.819692Z"
    }
   },
   "outputs": [
    {
     "data": {
      "text/html": [
       "<div>\n",
       "<style scoped>\n",
       "    .dataframe tbody tr th:only-of-type {\n",
       "        vertical-align: middle;\n",
       "    }\n",
       "\n",
       "    .dataframe tbody tr th {\n",
       "        vertical-align: top;\n",
       "    }\n",
       "\n",
       "    .dataframe thead th {\n",
       "        text-align: right;\n",
       "    }\n",
       "</style>\n",
       "<table border=\"1\" class=\"dataframe\">\n",
       "  <thead>\n",
       "    <tr style=\"text-align: right;\">\n",
       "      <th></th>\n",
       "      <th>Id</th>\n",
       "      <th>Label</th>\n",
       "    </tr>\n",
       "  </thead>\n",
       "  <tbody>\n",
       "    <tr>\n",
       "      <th>0</th>\n",
       "      <td>SHELLY</td>\n",
       "      <td>SHELLY</td>\n",
       "    </tr>\n",
       "    <tr>\n",
       "      <th>1</th>\n",
       "      <td>COLT</td>\n",
       "      <td>COLT</td>\n",
       "    </tr>\n",
       "    <tr>\n",
       "      <th>2</th>\n",
       "      <td>BULL</td>\n",
       "      <td>BULL</td>\n",
       "    </tr>\n",
       "    <tr>\n",
       "      <th>3</th>\n",
       "      <td>BROCK</td>\n",
       "      <td>BROCK</td>\n",
       "    </tr>\n",
       "    <tr>\n",
       "      <th>4</th>\n",
       "      <td>RICO</td>\n",
       "      <td>RICO</td>\n",
       "    </tr>\n",
       "  </tbody>\n",
       "</table>\n",
       "</div>"
      ],
      "text/plain": [
       "       Id   Label\n",
       "0  SHELLY  SHELLY\n",
       "1    COLT    COLT\n",
       "2    BULL    BULL\n",
       "3   BROCK   BROCK\n",
       "4    RICO    RICO"
      ]
     },
     "execution_count": 2,
     "metadata": {},
     "output_type": "execute_result"
    }
   ],
   "source": [
    "df_brawlers = pd.read_csv(\"../outputs/graph-data/brawlers.csv\")\n",
    "df_brawlers.head()"
   ]
  },
  {
   "cell_type": "markdown",
   "id": "0aa4503d-a5cb-40df-ad57-6b9abec16c60",
   "metadata": {},
   "source": [
    "## Utility Functions"
   ]
  },
  {
   "cell_type": "markdown",
   "id": "c6b44a7b-848e-44d0-a062-be7dcbf3a3b3",
   "metadata": {},
   "source": [
    "### Computing Weighted Betweenness Centrality"
   ]
  },
  {
   "cell_type": "code",
   "execution_count": 3,
   "id": "45dfd316-cb28-4b37-b851-5dd389b6c541",
   "metadata": {
    "execution": {
     "iopub.execute_input": "2025-08-30T07:56:51.827621Z",
     "iopub.status.busy": "2025-08-30T07:56:51.827559Z",
     "iopub.status.idle": "2025-08-30T07:56:51.829395Z",
     "shell.execute_reply": "2025-08-30T07:56:51.829183Z",
     "shell.execute_reply.started": "2025-08-30T07:56:51.827614Z"
    }
   },
   "outputs": [],
   "source": [
    "def weighted_betweenness_centrality(G: nx.Graph) -> pd.DataFrame:\n",
    "    \"\"\"\n",
    "    Computes the weighted betweenness centrality of nodes in a graph.\n",
    "\n",
    "    Args:\n",
    "        G (nx.Graph): A NetworkX graph with edge weights.\n",
    "\n",
    "    Returns:\n",
    "        pd.DataFrame: A DataFrame with two columns:\n",
    "                      - 'brawler': Node ID\n",
    "                      - 'Weighted Betweenness Centrality': Centrality value\n",
    "    \"\"\"\n",
    "    centrality = nx.betweenness_centrality(G, weight='weight', normalized=True)\n",
    "    \n",
    "    df = pd.DataFrame({\n",
    "        'brawler': list(centrality.keys()),\n",
    "        'Weighted Betweenness Centrality': list(centrality.values())\n",
    "    })\n",
    "\n",
    "    return df\n"
   ]
  },
  {
   "cell_type": "markdown",
   "id": "7bce9b76-c4f8-4d6d-9676-86885b9f275f",
   "metadata": {},
   "source": [
    "### Attacking Node"
   ]
  },
  {
   "cell_type": "code",
   "execution_count": 4,
   "id": "70dad188-ff79-400c-b1c0-4fb29429f40d",
   "metadata": {
    "execution": {
     "iopub.execute_input": "2025-08-30T07:56:51.829649Z",
     "iopub.status.busy": "2025-08-30T07:56:51.829590Z",
     "iopub.status.idle": "2025-08-30T07:56:51.831168Z",
     "shell.execute_reply": "2025-08-30T07:56:51.830973Z",
     "shell.execute_reply.started": "2025-08-30T07:56:51.829642Z"
    }
   },
   "outputs": [],
   "source": [
    "def attack(G: nx.Graph, id_of_node_to_attack: str) -> nx.Graph:\n",
    "    \"\"\"\n",
    "    Get the graph after a node is attacked.\n",
    "\n",
    "    Args:\n",
    "        G (nx.Graph): NetworkX graph.\n",
    "        id_of_node_to_attack (str): ID of node to attack.\n",
    "    Returns\n",
    "        G_attacked (nx.Graph): Graph without attacked node.\n",
    "    \"\"\"\n",
    "    G_attacked = G.copy()\n",
    "    G_attacked.remove_node(id_of_node_to_attack)\n",
    "    return G_attacked"
   ]
  },
  {
   "cell_type": "markdown",
   "id": "5d4ea808-9728-4a62-b558-6f34757b04bf",
   "metadata": {},
   "source": [
    "### Getting Change in Mean Weighted Betweenness Centrality when Attacked"
   ]
  },
  {
   "cell_type": "code",
   "execution_count": 5,
   "id": "0b640572-ab83-4ad7-9180-619ad4b50193",
   "metadata": {
    "execution": {
     "iopub.execute_input": "2025-08-30T07:56:51.831447Z",
     "iopub.status.busy": "2025-08-30T07:56:51.831392Z",
     "iopub.status.idle": "2025-08-30T07:56:51.833254Z",
     "shell.execute_reply": "2025-08-30T07:56:51.833060Z",
     "shell.execute_reply.started": "2025-08-30T07:56:51.831441Z"
    }
   },
   "outputs": [],
   "source": [
    "def delta_mean_betweenness_centrality(\n",
    "    G: nx.graph, id_of_node_to_attack: str\n",
    ") -> float:\n",
    "    \"\"\"\n",
    "    Get the change in mean betweenness centrality of a graph after \n",
    "    attacking a node.\n",
    "\n",
    "    Args:\n",
    "        G (nx.Graph): NetworkX graph.\n",
    "        id_of_node_to_attack (str): ID of node to attack.\n",
    "    Returns\n",
    "        change (float): Change in betweenness centrality.\n",
    "    \"\"\"\n",
    "    # Get initial mean betweenness centrality (mbc)\n",
    "    bc_initial = weighted_betweenness_centrality(G)\n",
    "    mbc_initial = bc_initial[\"Weighted Betweenness Centrality\"].mean()\n",
    "\n",
    "    # Get mean betweenness centrality after attack\n",
    "    G_after_attack = attack(G, id_of_node_to_attack)\n",
    "    bc_after_attack = weighted_betweenness_centrality(G_after_attack)\n",
    "    mbc_after_attack = bc_after_attack[\n",
    "        \"Weighted Betweenness Centrality\"\n",
    "    ].mean()\n",
    "\n",
    "    # Get change in betweenness centrality\n",
    "    change = mbc_after_attack - mbc_initial\n",
    "    return change"
   ]
  },
  {
   "cell_type": "markdown",
   "id": "a9f20d6f-85e0-4145-a6e1-832fd7b7cb4d",
   "metadata": {},
   "source": [
    "### Getting Outliers"
   ]
  },
  {
   "cell_type": "code",
   "execution_count": 6,
   "id": "2cb6f722-a824-4eaa-85e5-c779223187bd",
   "metadata": {
    "execution": {
     "iopub.execute_input": "2025-08-30T07:56:51.834538Z",
     "iopub.status.busy": "2025-08-30T07:56:51.834477Z",
     "iopub.status.idle": "2025-08-30T07:56:51.836394Z",
     "shell.execute_reply": "2025-08-30T07:56:51.836212Z",
     "shell.execute_reply.started": "2025-08-30T07:56:51.834531Z"
    }
   },
   "outputs": [],
   "source": [
    "def extract_outliers(df: pd.DataFrame, col_name: str):\n",
    "    \"\"\"\n",
    "    Get the outliers in a pandas DataFrame based on a column.\n",
    "\n",
    "    Args:\n",
    "        df (pd.DataFrame): Pandas DataFrame that contains the data.\n",
    "        col_name (str): Name of the column that will determine outliers.\n",
    "    Returns:\n",
    "        df_outliers (pd.DataFrame): Pandas DataFrame with outliers.\n",
    "    \"\"\"\n",
    "    # Describe the dataframe\n",
    "    df_describe = df.describe()\n",
    "\n",
    "    # Compute iqr\n",
    "    iqr = df_describe[col_name][\"75%\"] - df_describe[col_name][\"25%\"]\n",
    "\n",
    "    # Get range of inliers\n",
    "    max_inlier_val = df_describe[col_name][\"75%\"] + (1.5 * iqr)\n",
    "    min_inlier_val = df_describe[col_name][\"25%\"] - (1.5 * iqr)\n",
    "\n",
    "    # Get outliers\n",
    "    df_outliers = df[\n",
    "        (df[col_name] < min_inlier_val) |\n",
    "        (df[col_name] > max_inlier_val)\n",
    "    ]\n",
    "    return df_outliers"
   ]
  },
  {
   "cell_type": "markdown",
   "id": "8ac714f7-20d4-4229-b05c-ada45c7f0d5f",
   "metadata": {},
   "source": [
    "## Creating Graphs"
   ]
  },
  {
   "cell_type": "markdown",
   "id": "e85a1c58-1b42-4d60-b97c-367253b5fbd2",
   "metadata": {},
   "source": [
    "### Victory Graph"
   ]
  },
  {
   "cell_type": "markdown",
   "id": "49011cc7-0ca4-47f2-8872-ee843109e714",
   "metadata": {},
   "source": [
    "#### Getting Victory Graph Edges"
   ]
  },
  {
   "cell_type": "code",
   "execution_count": 7,
   "id": "40a690cc-bca8-401d-92a0-ca5fcb6c2bad",
   "metadata": {
    "execution": {
     "iopub.execute_input": "2025-08-30T07:56:51.836694Z",
     "iopub.status.busy": "2025-08-30T07:56:51.836633Z",
     "iopub.status.idle": "2025-08-30T07:56:51.840822Z",
     "shell.execute_reply": "2025-08-30T07:56:51.840639Z",
     "shell.execute_reply.started": "2025-08-30T07:56:51.836687Z"
    }
   },
   "outputs": [],
   "source": [
    "df_win_edges = pd.read_csv(\n",
    "    \"../outputs/graph-data/edges/winning-edges-beginners.csv\"\n",
    ")"
   ]
  },
  {
   "cell_type": "markdown",
   "id": "26bed66c-9a4b-4316-a274-fb892c9380e7",
   "metadata": {},
   "source": [
    "#### Creating NetworkX Graph"
   ]
  },
  {
   "cell_type": "code",
   "execution_count": 8,
   "id": "f2dcf7d2-e294-49b0-8d63-d71cfb37e62d",
   "metadata": {
    "execution": {
     "iopub.execute_input": "2025-08-30T07:56:51.841096Z",
     "iopub.status.busy": "2025-08-30T07:56:51.841034Z",
     "iopub.status.idle": "2025-08-30T07:56:51.847625Z",
     "shell.execute_reply": "2025-08-30T07:56:51.847237Z",
     "shell.execute_reply.started": "2025-08-30T07:56:51.841089Z"
    }
   },
   "outputs": [],
   "source": [
    "G_win = nx.Graph() # Initialize graph\n",
    "\n",
    "# Adding brawler nodes\n",
    "for brawler in df_brawlers[\"Id\"]:\n",
    "    G_win.add_node(brawler)\n",
    "\n",
    "# Add weighted edges to the victory graph\n",
    "for index, row in df_win_edges.iterrows():\n",
    "    G_win.add_edge(row['Source'], row['Target'], weight=row['Weight'])"
   ]
  },
  {
   "cell_type": "markdown",
   "id": "52df0cb8-983e-469c-97c5-3ad49e607632",
   "metadata": {},
   "source": [
    "#### Getting Weighted Betweenness Centrality of Brawlers"
   ]
  },
  {
   "cell_type": "code",
   "execution_count": 9,
   "id": "a2655047-a68f-471e-a973-818e1300b13f",
   "metadata": {
    "execution": {
     "iopub.execute_input": "2025-08-30T07:56:51.847989Z",
     "iopub.status.busy": "2025-08-30T07:56:51.847923Z",
     "iopub.status.idle": "2025-08-30T07:56:51.868026Z",
     "shell.execute_reply": "2025-08-30T07:56:51.867796Z",
     "shell.execute_reply.started": "2025-08-30T07:56:51.847982Z"
    }
   },
   "outputs": [
    {
     "data": {
      "text/html": [
       "<div>\n",
       "<style scoped>\n",
       "    .dataframe tbody tr th:only-of-type {\n",
       "        vertical-align: middle;\n",
       "    }\n",
       "\n",
       "    .dataframe tbody tr th {\n",
       "        vertical-align: top;\n",
       "    }\n",
       "\n",
       "    .dataframe thead th {\n",
       "        text-align: right;\n",
       "    }\n",
       "</style>\n",
       "<table border=\"1\" class=\"dataframe\">\n",
       "  <thead>\n",
       "    <tr style=\"text-align: right;\">\n",
       "      <th></th>\n",
       "      <th>brawler</th>\n",
       "      <th>Weighted Betweenness Centrality</th>\n",
       "    </tr>\n",
       "  </thead>\n",
       "  <tbody>\n",
       "    <tr>\n",
       "      <th>0</th>\n",
       "      <td>SHELLY</td>\n",
       "      <td>0.000000</td>\n",
       "    </tr>\n",
       "    <tr>\n",
       "      <th>1</th>\n",
       "      <td>COLT</td>\n",
       "      <td>0.000000</td>\n",
       "    </tr>\n",
       "    <tr>\n",
       "      <th>2</th>\n",
       "      <td>BULL</td>\n",
       "      <td>0.000234</td>\n",
       "    </tr>\n",
       "    <tr>\n",
       "      <th>3</th>\n",
       "      <td>BROCK</td>\n",
       "      <td>0.000701</td>\n",
       "    </tr>\n",
       "    <tr>\n",
       "      <th>4</th>\n",
       "      <td>RICO</td>\n",
       "      <td>0.011454</td>\n",
       "    </tr>\n",
       "  </tbody>\n",
       "</table>\n",
       "</div>"
      ],
      "text/plain": [
       "  brawler  Weighted Betweenness Centrality\n",
       "0  SHELLY                         0.000000\n",
       "1    COLT                         0.000000\n",
       "2    BULL                         0.000234\n",
       "3   BROCK                         0.000701\n",
       "4    RICO                         0.011454"
      ]
     },
     "execution_count": 9,
     "metadata": {},
     "output_type": "execute_result"
    }
   ],
   "source": [
    "# Create a dataframe for analyzing brawlers\n",
    "df_wins = weighted_betweenness_centrality(G_win)\n",
    "\n",
    "# Preview df_wins\n",
    "df_wins.head()"
   ]
  },
  {
   "cell_type": "markdown",
   "id": "86a7a6c4-61b4-4aba-b8de-fc20cd249448",
   "metadata": {},
   "source": [
    "#### Getting Change in Mean Weighted Betweenness Centrality when Attacked"
   ]
  },
  {
   "cell_type": "code",
   "execution_count": 10,
   "id": "dedba830-53e2-44e9-ac0d-aacc6bd958e7",
   "metadata": {
    "execution": {
     "iopub.execute_input": "2025-08-30T07:56:51.868319Z",
     "iopub.status.busy": "2025-08-30T07:56:51.868259Z",
     "iopub.status.idle": "2025-08-30T07:56:55.039716Z",
     "shell.execute_reply": "2025-08-30T07:56:55.039456Z",
     "shell.execute_reply.started": "2025-08-30T07:56:51.868312Z"
    }
   },
   "outputs": [
    {
     "data": {
      "text/html": [
       "<div>\n",
       "<style scoped>\n",
       "    .dataframe tbody tr th:only-of-type {\n",
       "        vertical-align: middle;\n",
       "    }\n",
       "\n",
       "    .dataframe tbody tr th {\n",
       "        vertical-align: top;\n",
       "    }\n",
       "\n",
       "    .dataframe thead th {\n",
       "        text-align: right;\n",
       "    }\n",
       "</style>\n",
       "<table border=\"1\" class=\"dataframe\">\n",
       "  <thead>\n",
       "    <tr style=\"text-align: right;\">\n",
       "      <th></th>\n",
       "      <th>brawler</th>\n",
       "      <th>Weighted Betweenness Centrality</th>\n",
       "      <th>Change in Weighted Betweenness Centrality</th>\n",
       "    </tr>\n",
       "  </thead>\n",
       "  <tbody>\n",
       "    <tr>\n",
       "      <th>0</th>\n",
       "      <td>SHELLY</td>\n",
       "      <td>0.000000</td>\n",
       "      <td>-0.000045</td>\n",
       "    </tr>\n",
       "    <tr>\n",
       "      <th>1</th>\n",
       "      <td>COLT</td>\n",
       "      <td>0.000000</td>\n",
       "      <td>-0.000125</td>\n",
       "    </tr>\n",
       "    <tr>\n",
       "      <th>2</th>\n",
       "      <td>BULL</td>\n",
       "      <td>0.000234</td>\n",
       "      <td>0.000152</td>\n",
       "    </tr>\n",
       "    <tr>\n",
       "      <th>3</th>\n",
       "      <td>BROCK</td>\n",
       "      <td>0.000701</td>\n",
       "      <td>0.000101</td>\n",
       "    </tr>\n",
       "    <tr>\n",
       "      <th>4</th>\n",
       "      <td>RICO</td>\n",
       "      <td>0.011454</td>\n",
       "      <td>0.000335</td>\n",
       "    </tr>\n",
       "  </tbody>\n",
       "</table>\n",
       "</div>"
      ],
      "text/plain": [
       "  brawler  Weighted Betweenness Centrality  \\\n",
       "0  SHELLY                         0.000000   \n",
       "1    COLT                         0.000000   \n",
       "2    BULL                         0.000234   \n",
       "3   BROCK                         0.000701   \n",
       "4    RICO                         0.011454   \n",
       "\n",
       "   Change in Weighted Betweenness Centrality  \n",
       "0                                  -0.000045  \n",
       "1                                  -0.000125  \n",
       "2                                   0.000152  \n",
       "3                                   0.000101  \n",
       "4                                   0.000335  "
      ]
     },
     "execution_count": 10,
     "metadata": {},
     "output_type": "execute_result"
    }
   ],
   "source": [
    "df_wins[\"Change in Weighted Betweenness Centrality\"] = (\n",
    "    df_wins[\"brawler\"].apply(\n",
    "        lambda brawler: delta_mean_betweenness_centrality(G_win, brawler)\n",
    "    )\n",
    ")\n",
    "\n",
    "df_wins.head()"
   ]
  },
  {
   "cell_type": "code",
   "execution_count": 11,
   "id": "982562ad-789b-4a18-8ce0-4fe6a3038d72",
   "metadata": {
    "execution": {
     "iopub.execute_input": "2025-08-30T07:56:55.040126Z",
     "iopub.status.busy": "2025-08-30T07:56:55.040057Z",
     "iopub.status.idle": "2025-08-30T07:56:55.044189Z",
     "shell.execute_reply": "2025-08-30T07:56:55.043986Z",
     "shell.execute_reply.started": "2025-08-30T07:56:55.040119Z"
    }
   },
   "outputs": [],
   "source": [
    "df_wins.to_csv(\"../outputs/graph-data/winner-brawler-nodes.csv\", index = False)"
   ]
  },
  {
   "cell_type": "markdown",
   "id": "e61757d8-a07d-4f8c-8742-5026e8a9b185",
   "metadata": {},
   "source": [
    "### Defeat Graph"
   ]
  },
  {
   "cell_type": "markdown",
   "id": "d306f87e-985f-40b0-92b9-4eb1e26bf8b2",
   "metadata": {},
   "source": [
    "#### Getting Defeat Graph Edges"
   ]
  },
  {
   "cell_type": "code",
   "execution_count": 12,
   "id": "f5b78b8a-652a-4acd-83b3-e246421ad391",
   "metadata": {
    "execution": {
     "iopub.execute_input": "2025-08-30T07:56:55.044549Z",
     "iopub.status.busy": "2025-08-30T07:56:55.044477Z",
     "iopub.status.idle": "2025-08-30T07:56:55.047984Z",
     "shell.execute_reply": "2025-08-30T07:56:55.047815Z",
     "shell.execute_reply.started": "2025-08-30T07:56:55.044541Z"
    }
   },
   "outputs": [
    {
     "data": {
      "text/html": [
       "<div>\n",
       "<style scoped>\n",
       "    .dataframe tbody tr th:only-of-type {\n",
       "        vertical-align: middle;\n",
       "    }\n",
       "\n",
       "    .dataframe tbody tr th {\n",
       "        vertical-align: top;\n",
       "    }\n",
       "\n",
       "    .dataframe thead th {\n",
       "        text-align: right;\n",
       "    }\n",
       "</style>\n",
       "<table border=\"1\" class=\"dataframe\">\n",
       "  <thead>\n",
       "    <tr style=\"text-align: right;\">\n",
       "      <th></th>\n",
       "      <th>Source</th>\n",
       "      <th>Target</th>\n",
       "      <th>Type</th>\n",
       "      <th>Weight</th>\n",
       "      <th>probability</th>\n",
       "    </tr>\n",
       "  </thead>\n",
       "  <tbody>\n",
       "    <tr>\n",
       "      <th>0</th>\n",
       "      <td>8-BIT</td>\n",
       "      <td>BEA</td>\n",
       "      <td>Undirected</td>\n",
       "      <td>1.521749</td>\n",
       "      <td>0.657143</td>\n",
       "    </tr>\n",
       "    <tr>\n",
       "      <th>1</th>\n",
       "      <td>8-BIT</td>\n",
       "      <td>BYRON</td>\n",
       "      <td>Undirected</td>\n",
       "      <td>1.388899</td>\n",
       "      <td>0.720000</td>\n",
       "    </tr>\n",
       "    <tr>\n",
       "      <th>2</th>\n",
       "      <td>8-BIT</td>\n",
       "      <td>MAX</td>\n",
       "      <td>Undirected</td>\n",
       "      <td>1.384625</td>\n",
       "      <td>0.722222</td>\n",
       "    </tr>\n",
       "    <tr>\n",
       "      <th>3</th>\n",
       "      <td>8-BIT</td>\n",
       "      <td>ROSA</td>\n",
       "      <td>Undirected</td>\n",
       "      <td>1.384625</td>\n",
       "      <td>0.722222</td>\n",
       "    </tr>\n",
       "    <tr>\n",
       "      <th>4</th>\n",
       "      <td>8-BIT</td>\n",
       "      <td>RUFFS</td>\n",
       "      <td>Undirected</td>\n",
       "      <td>1.000010</td>\n",
       "      <td>1.000000</td>\n",
       "    </tr>\n",
       "  </tbody>\n",
       "</table>\n",
       "</div>"
      ],
      "text/plain": [
       "  Source Target        Type    Weight  probability\n",
       "0  8-BIT    BEA  Undirected  1.521749     0.657143\n",
       "1  8-BIT  BYRON  Undirected  1.388899     0.720000\n",
       "2  8-BIT    MAX  Undirected  1.384625     0.722222\n",
       "3  8-BIT   ROSA  Undirected  1.384625     0.722222\n",
       "4  8-BIT  RUFFS  Undirected  1.000010     1.000000"
      ]
     },
     "execution_count": 12,
     "metadata": {},
     "output_type": "execute_result"
    }
   ],
   "source": [
    "df_lose_edges = pd.read_csv(\n",
    "    \"../outputs/graph-data/edges/losing-edges-beginners.csv\"\n",
    ")\n",
    "df_lose_edges.head()"
   ]
  },
  {
   "cell_type": "markdown",
   "id": "5f28b354-9e80-4704-864f-9e6bfa2daedc",
   "metadata": {},
   "source": [
    "#### Creating NetworkX Graph"
   ]
  },
  {
   "cell_type": "code",
   "execution_count": 13,
   "id": "a5ee5f2f-e0df-41e2-ac33-d2df0b0a613e",
   "metadata": {
    "execution": {
     "iopub.execute_input": "2025-08-30T07:56:55.048300Z",
     "iopub.status.busy": "2025-08-30T07:56:55.048238Z",
     "iopub.status.idle": "2025-08-30T07:56:55.053070Z",
     "shell.execute_reply": "2025-08-30T07:56:55.052891Z",
     "shell.execute_reply.started": "2025-08-30T07:56:55.048293Z"
    }
   },
   "outputs": [],
   "source": [
    "G_lose = nx.Graph() # Initialize graph\n",
    "\n",
    "# Adding brawler nodes\n",
    "for brawler in df_brawlers[\"Id\"]:\n",
    "    G_lose.add_node(brawler)\n",
    "\n",
    "# Add weighted edges to the victory graph\n",
    "for index, row in df_lose_edges.iterrows():\n",
    "    G_lose.add_edge(row['Source'], row['Target'], weight=row['Weight'])"
   ]
  },
  {
   "cell_type": "markdown",
   "id": "27a1563e-29e0-49ea-b588-cc9cd3e90428",
   "metadata": {},
   "source": [
    "#### Getting Weighted Betweenness Centrality of Brawlers"
   ]
  },
  {
   "cell_type": "code",
   "execution_count": 14,
   "id": "d1c3d39a-8df4-471e-8906-ed48f30028bd",
   "metadata": {
    "execution": {
     "iopub.execute_input": "2025-08-30T07:56:55.053356Z",
     "iopub.status.busy": "2025-08-30T07:56:55.053286Z",
     "iopub.status.idle": "2025-08-30T07:56:55.074400Z",
     "shell.execute_reply": "2025-08-30T07:56:55.073829Z",
     "shell.execute_reply.started": "2025-08-30T07:56:55.053349Z"
    }
   },
   "outputs": [
    {
     "data": {
      "text/html": [
       "<div>\n",
       "<style scoped>\n",
       "    .dataframe tbody tr th:only-of-type {\n",
       "        vertical-align: middle;\n",
       "    }\n",
       "\n",
       "    .dataframe tbody tr th {\n",
       "        vertical-align: top;\n",
       "    }\n",
       "\n",
       "    .dataframe thead th {\n",
       "        text-align: right;\n",
       "    }\n",
       "</style>\n",
       "<table border=\"1\" class=\"dataframe\">\n",
       "  <thead>\n",
       "    <tr style=\"text-align: right;\">\n",
       "      <th></th>\n",
       "      <th>brawler</th>\n",
       "      <th>Weighted Betweenness Centrality</th>\n",
       "    </tr>\n",
       "  </thead>\n",
       "  <tbody>\n",
       "    <tr>\n",
       "      <th>0</th>\n",
       "      <td>SHELLY</td>\n",
       "      <td>0.092567</td>\n",
       "    </tr>\n",
       "    <tr>\n",
       "      <th>1</th>\n",
       "      <td>COLT</td>\n",
       "      <td>0.031791</td>\n",
       "    </tr>\n",
       "    <tr>\n",
       "      <th>2</th>\n",
       "      <td>BULL</td>\n",
       "      <td>0.034128</td>\n",
       "    </tr>\n",
       "    <tr>\n",
       "      <th>3</th>\n",
       "      <td>BROCK</td>\n",
       "      <td>0.010986</td>\n",
       "    </tr>\n",
       "    <tr>\n",
       "      <th>4</th>\n",
       "      <td>RICO</td>\n",
       "      <td>0.006545</td>\n",
       "    </tr>\n",
       "  </tbody>\n",
       "</table>\n",
       "</div>"
      ],
      "text/plain": [
       "  brawler  Weighted Betweenness Centrality\n",
       "0  SHELLY                         0.092567\n",
       "1    COLT                         0.031791\n",
       "2    BULL                         0.034128\n",
       "3   BROCK                         0.010986\n",
       "4    RICO                         0.006545"
      ]
     },
     "execution_count": 14,
     "metadata": {},
     "output_type": "execute_result"
    }
   ],
   "source": [
    "# Create a dataframe for analyzing brawlers\n",
    "df_losses = weighted_betweenness_centrality(G_lose)\n",
    "\n",
    "# Preview df_lose\n",
    "df_losses.head()"
   ]
  },
  {
   "cell_type": "markdown",
   "id": "fd640883-97bf-4d8f-84ce-183fed823f97",
   "metadata": {},
   "source": [
    "#### Getting Change in Mean Weighted Betweenness Centrality when Attacked"
   ]
  },
  {
   "cell_type": "code",
   "execution_count": 15,
   "id": "9fa43962-9082-41fe-8d31-9df3de78fa5d",
   "metadata": {
    "execution": {
     "iopub.execute_input": "2025-08-30T07:56:55.074756Z",
     "iopub.status.busy": "2025-08-30T07:56:55.074684Z",
     "iopub.status.idle": "2025-08-30T07:56:57.718405Z",
     "shell.execute_reply": "2025-08-30T07:56:57.718141Z",
     "shell.execute_reply.started": "2025-08-30T07:56:55.074748Z"
    }
   },
   "outputs": [
    {
     "data": {
      "text/html": [
       "<div>\n",
       "<style scoped>\n",
       "    .dataframe tbody tr th:only-of-type {\n",
       "        vertical-align: middle;\n",
       "    }\n",
       "\n",
       "    .dataframe tbody tr th {\n",
       "        vertical-align: top;\n",
       "    }\n",
       "\n",
       "    .dataframe thead th {\n",
       "        text-align: right;\n",
       "    }\n",
       "</style>\n",
       "<table border=\"1\" class=\"dataframe\">\n",
       "  <thead>\n",
       "    <tr style=\"text-align: right;\">\n",
       "      <th></th>\n",
       "      <th>brawler</th>\n",
       "      <th>Weighted Betweenness Centrality</th>\n",
       "      <th>Change in Weighted Betweenness Centrality</th>\n",
       "    </tr>\n",
       "  </thead>\n",
       "  <tbody>\n",
       "    <tr>\n",
       "      <th>0</th>\n",
       "      <td>SHELLY</td>\n",
       "      <td>0.092567</td>\n",
       "      <td>-0.000739</td>\n",
       "    </tr>\n",
       "    <tr>\n",
       "      <th>1</th>\n",
       "      <td>COLT</td>\n",
       "      <td>0.031791</td>\n",
       "      <td>0.000489</td>\n",
       "    </tr>\n",
       "    <tr>\n",
       "      <th>2</th>\n",
       "      <td>BULL</td>\n",
       "      <td>0.034128</td>\n",
       "      <td>-0.000266</td>\n",
       "    </tr>\n",
       "    <tr>\n",
       "      <th>3</th>\n",
       "      <td>BROCK</td>\n",
       "      <td>0.010986</td>\n",
       "      <td>0.000273</td>\n",
       "    </tr>\n",
       "    <tr>\n",
       "      <th>4</th>\n",
       "      <td>RICO</td>\n",
       "      <td>0.006545</td>\n",
       "      <td>0.000171</td>\n",
       "    </tr>\n",
       "  </tbody>\n",
       "</table>\n",
       "</div>"
      ],
      "text/plain": [
       "  brawler  Weighted Betweenness Centrality  \\\n",
       "0  SHELLY                         0.092567   \n",
       "1    COLT                         0.031791   \n",
       "2    BULL                         0.034128   \n",
       "3   BROCK                         0.010986   \n",
       "4    RICO                         0.006545   \n",
       "\n",
       "   Change in Weighted Betweenness Centrality  \n",
       "0                                  -0.000739  \n",
       "1                                   0.000489  \n",
       "2                                  -0.000266  \n",
       "3                                   0.000273  \n",
       "4                                   0.000171  "
      ]
     },
     "execution_count": 15,
     "metadata": {},
     "output_type": "execute_result"
    }
   ],
   "source": [
    "df_losses[\"Change in Weighted Betweenness Centrality\"] = (\n",
    "    df_losses[\"brawler\"].apply(\n",
    "        lambda brawler: delta_mean_betweenness_centrality(G_lose, brawler)\n",
    "    )\n",
    ")\n",
    "\n",
    "df_losses.head()"
   ]
  },
  {
   "cell_type": "code",
   "execution_count": 16,
   "id": "9180dcc2-8630-46d8-951f-f61d995512ee",
   "metadata": {
    "execution": {
     "iopub.execute_input": "2025-08-30T07:56:57.718875Z",
     "iopub.status.busy": "2025-08-30T07:56:57.718792Z",
     "iopub.status.idle": "2025-08-30T07:56:57.721985Z",
     "shell.execute_reply": "2025-08-30T07:56:57.721732Z",
     "shell.execute_reply.started": "2025-08-30T07:56:57.718867Z"
    }
   },
   "outputs": [],
   "source": [
    "df_losses.to_csv(\"../outputs/graph-data/loser-brawler-nodes.csv\", index = False)"
   ]
  },
  {
   "cell_type": "markdown",
   "id": "67ad4592-7f0a-4164-99b3-ab24eb13c360",
   "metadata": {},
   "source": [
    "## Analyzing Graphs"
   ]
  },
  {
   "cell_type": "markdown",
   "id": "d223367e-7da5-400f-8065-9174c1610aeb",
   "metadata": {},
   "source": [
    "### Victory Graph"
   ]
  },
  {
   "cell_type": "markdown",
   "id": "684c6007-1053-498a-9ce6-6ceaa42c1b6b",
   "metadata": {},
   "source": [
    "#### Distribution of Weighted Betweenness Centrality"
   ]
  },
  {
   "cell_type": "code",
   "execution_count": 17,
   "id": "3d7839a1-acdd-4e32-9e92-8d6db029e7f2",
   "metadata": {
    "execution": {
     "iopub.execute_input": "2025-08-30T07:56:57.722366Z",
     "iopub.status.busy": "2025-08-30T07:56:57.722301Z",
     "iopub.status.idle": "2025-08-30T07:56:57.727349Z",
     "shell.execute_reply": "2025-08-30T07:56:57.727150Z",
     "shell.execute_reply.started": "2025-08-30T07:56:57.722359Z"
    }
   },
   "outputs": [
    {
     "name": "stdout",
     "output_type": "stream",
     "text": [
      "Calculating best minimal value for power law fit\n",
      "R-value (Power Law vs. Exponential): 3.1828\n",
      "P-value (Power Law vs. Exponential): 0.1255\n",
      "\n",
      "Conclusion: There is no statistically significant difference between the two models.\n",
      "Further analysis or a different model may be needed.\n"
     ]
    },
    {
     "name": "stderr",
     "output_type": "stream",
     "text": [
      "Values less than or equal to 0 in data. Throwing out 0 or negative values\n"
     ]
    }
   ],
   "source": [
    "# Fit the data to a power law and an exponential distribution.\n",
    "win_powerlaw_fit = powerlaw.Fit(df_wins[\"Weighted Betweenness Centrality\"])\n",
    "\n",
    "# Perform the likelihood ratio test.\n",
    "## This test compares the goodness of fit of the power law and \n",
    "## exponential models.\n",
    "R_win, p_win = win_powerlaw_fit.distribution_compare(\n",
    "    'power_law', 'exponential'\n",
    ")\n",
    "\n",
    "print(f\"R-value (Power Law vs. Exponential): {R_win:.4f}\")\n",
    "print(f\"P-value (Power Law vs. Exponential): {p_win:.4f}\")\n",
    "\n",
    "# The R-value tells us which model is a better fit:\n",
    "# R > 0: Power law is a better fit.\n",
    "# R < 0: Exponential is a better fit.\n",
    "# The p-value tells us if that difference is statistically significant.\n",
    "if R_win > 0 and p_win < 0.05:\n",
    "    print(\n",
    "        \"\\nConclusion: The data is a significantly better fit for a power-law\"\n",
    "        \" distribution.\"\n",
    "    )\n",
    "elif R_win < 0 and p_win < 0.05:\n",
    "    print(\n",
    "        \"\\nConclusion: The data is a significantly better fit for an \"\n",
    "        \"exponential distribution.\"\n",
    "    )\n",
    "else:\n",
    "    print(\n",
    "        \"\\nConclusion: There is no statistically significant difference \"\n",
    "        \"between the two models.\"\n",
    "    )\n",
    "    print(\"Further analysis or a different model may be needed.\")\n"
   ]
  },
  {
   "cell_type": "code",
   "execution_count": 18,
   "id": "b3fba47a-fee9-4dba-abe2-400e2cfb32d4",
   "metadata": {
    "execution": {
     "iopub.execute_input": "2025-08-30T07:56:57.727621Z",
     "iopub.status.busy": "2025-08-30T07:56:57.727560Z",
     "iopub.status.idle": "2025-08-30T07:56:57.789575Z",
     "shell.execute_reply": "2025-08-30T07:56:57.789341Z",
     "shell.execute_reply.started": "2025-08-30T07:56:57.727614Z"
    }
   },
   "outputs": [
    {
     "data": {
      "image/png": "[encoded data removed]",
      "text/plain": [
       "<Figure size 640x480 with 1 Axes>"
      ]
     },
     "metadata": {},
     "output_type": "display_data"
    }
   ],
   "source": [
    "plt.hist(\n",
    "    df_wins[\"Weighted Betweenness Centrality\"], \n",
    "    bins = 50\n",
    ")\n",
    "plt.title(\n",
    "    \"Histogram of Weighted Betweenness\\nCentralities in the Winning Graph\", \n",
    "    fontsize = 20\n",
    ")\n",
    "plt.ylabel(\"Number of Brawlers\", fontsize = 15)\n",
    "plt.xlabel(\"Weighted Betweenness Centrality\", fontsize = 15)\n",
    "plt.show()"
   ]
  },
  {
   "cell_type": "markdown",
   "id": "7042c39a-db95-4b4a-8974-401bbb67772b",
   "metadata": {},
   "source": [
    "#### Average Clustering Coefficients of Nodes"
   ]
  },
  {
   "cell_type": "code",
   "execution_count": 19,
   "id": "ba35ff3e-9042-415a-ab2d-3dce9233680b",
   "metadata": {
    "execution": {
     "iopub.execute_input": "2025-08-30T07:56:57.789919Z",
     "iopub.status.busy": "2025-08-30T07:56:57.789850Z",
     "iopub.status.idle": "2025-08-30T07:56:57.792197Z",
     "shell.execute_reply": "2025-08-30T07:56:57.791996Z",
     "shell.execute_reply.started": "2025-08-30T07:56:57.789911Z"
    }
   },
   "outputs": [
    {
     "name": "stdout",
     "output_type": "stream",
     "text": [
      "Average Clustering Coefficient: 0.13643800227029262\n"
     ]
    }
   ],
   "source": [
    "print(\n",
    "    \"Average Clustering Coefficient:\", \n",
    "    nx.average_clustering(G_win)\n",
    ")"
   ]
  },
  {
   "cell_type": "markdown",
   "id": "fc7f536b-17df-46e6-9316-1e27492ae66f",
   "metadata": {},
   "source": [
    "#### OP Brawlers"
   ]
  },
  {
   "cell_type": "code",
   "execution_count": 20,
   "id": "b643ea19-6cd4-4f88-99dd-7c7f7a5ddb84",
   "metadata": {
    "execution": {
     "iopub.execute_input": "2025-08-30T07:56:57.792460Z",
     "iopub.status.busy": "2025-08-30T07:56:57.792400Z",
     "iopub.status.idle": "2025-08-30T07:56:57.826894Z",
     "shell.execute_reply": "2025-08-30T07:56:57.826635Z",
     "shell.execute_reply.started": "2025-08-30T07:56:57.792453Z"
    }
   },
   "outputs": [
    {
     "data": {
      "image/png": "[encoded data removed]",
      "text/plain": [
       "<Figure size 640x480 with 1 Axes>"
      ]
     },
     "metadata": {},
     "output_type": "display_data"
    }
   ],
   "source": [
    "df_wins.boxplot(column=\"Weighted Betweenness Centrality\")\n",
    "plt.title(\"Presence of Overpowered Brawlers\")\n",
    "plt.ylabel(\"Weighted Betweenness Centrality\")\n",
    "plt.show()"
   ]
  },
  {
   "cell_type": "code",
   "execution_count": 21,
   "id": "6e4ec6a1-6c84-42c3-997a-198fafb923a5",
   "metadata": {
    "execution": {
     "iopub.execute_input": "2025-08-30T07:56:57.829238Z",
     "iopub.status.busy": "2025-08-30T07:56:57.829152Z",
     "iopub.status.idle": "2025-08-30T07:56:57.833610Z",
     "shell.execute_reply": "2025-08-30T07:56:57.833418Z",
     "shell.execute_reply.started": "2025-08-30T07:56:57.829231Z"
    }
   },
   "outputs": [
    {
     "data": {
      "text/html": [
       "<div>\n",
       "<style scoped>\n",
       "    .dataframe tbody tr th:only-of-type {\n",
       "        vertical-align: middle;\n",
       "    }\n",
       "\n",
       "    .dataframe tbody tr th {\n",
       "        vertical-align: top;\n",
       "    }\n",
       "\n",
       "    .dataframe thead th {\n",
       "        text-align: right;\n",
       "    }\n",
       "</style>\n",
       "<table border=\"1\" class=\"dataframe\">\n",
       "  <thead>\n",
       "    <tr style=\"text-align: right;\">\n",
       "      <th></th>\n",
       "      <th>brawler</th>\n",
       "      <th>Weighted Betweenness Centrality</th>\n",
       "      <th>Change in Weighted Betweenness Centrality</th>\n",
       "    </tr>\n",
       "  </thead>\n",
       "  <tbody>\n",
       "    <tr>\n",
       "      <th>69</th>\n",
       "      <td>DOUG</td>\n",
       "      <td>0.244273</td>\n",
       "      <td>0.002220</td>\n",
       "    </tr>\n",
       "    <tr>\n",
       "      <th>72</th>\n",
       "      <td>CHARLIE</td>\n",
       "      <td>0.079009</td>\n",
       "      <td>0.000371</td>\n",
       "    </tr>\n",
       "    <tr>\n",
       "      <th>74</th>\n",
       "      <td>KIT</td>\n",
       "      <td>0.078308</td>\n",
       "      <td>-0.000783</td>\n",
       "    </tr>\n",
       "    <tr>\n",
       "      <th>90</th>\n",
       "      <td>JAE-YONG</td>\n",
       "      <td>0.072698</td>\n",
       "      <td>0.000648</td>\n",
       "    </tr>\n",
       "    <tr>\n",
       "      <th>91</th>\n",
       "      <td>KAZE</td>\n",
       "      <td>0.066854</td>\n",
       "      <td>0.000160</td>\n",
       "    </tr>\n",
       "    <tr>\n",
       "      <th>68</th>\n",
       "      <td>CORDELIUS</td>\n",
       "      <td>0.050608</td>\n",
       "      <td>0.000492</td>\n",
       "    </tr>\n",
       "    <tr>\n",
       "      <th>83</th>\n",
       "      <td>KENJI</td>\n",
       "      <td>0.042543</td>\n",
       "      <td>0.000458</td>\n",
       "    </tr>\n",
       "  </tbody>\n",
       "</table>\n",
       "</div>"
      ],
      "text/plain": [
       "      brawler  Weighted Betweenness Centrality  \\\n",
       "69       DOUG                         0.244273   \n",
       "72    CHARLIE                         0.079009   \n",
       "74        KIT                         0.078308   \n",
       "90   JAE-YONG                         0.072698   \n",
       "91       KAZE                         0.066854   \n",
       "68  CORDELIUS                         0.050608   \n",
       "83      KENJI                         0.042543   \n",
       "\n",
       "    Change in Weighted Betweenness Centrality  \n",
       "69                                   0.002220  \n",
       "72                                   0.000371  \n",
       "74                                  -0.000783  \n",
       "90                                   0.000648  \n",
       "91                                   0.000160  \n",
       "68                                   0.000492  \n",
       "83                                   0.000458  "
      ]
     },
     "execution_count": 21,
     "metadata": {},
     "output_type": "execute_result"
    }
   ],
   "source": [
    "(\n",
    "    extract_outliers(df_wins, \"Weighted Betweenness Centrality\")\n",
    "        .sort_values(\n",
    "            \"Weighted Betweenness Centrality\", \n",
    "            ascending = False\n",
    "        )\n",
    ")# [\"brawler\"].values"
   ]
  },
  {
   "cell_type": "markdown",
   "id": "6774fe5f-3f4e-4d73-9a86-d2e08d780ddb",
   "metadata": {},
   "source": [
    "### Defeat Graph"
   ]
  },
  {
   "cell_type": "markdown",
   "id": "c1ac4c4a-f1d6-4e12-9615-d209debbaf8a",
   "metadata": {},
   "source": [
    "#### Distribution of Weighted Betweenness Centrality"
   ]
  },
  {
   "cell_type": "code",
   "execution_count": 22,
   "id": "085974dc-1095-4d4b-96d3-81114a95e370",
   "metadata": {
    "execution": {
     "iopub.execute_input": "2025-08-30T07:56:57.833887Z",
     "iopub.status.busy": "2025-08-30T07:56:57.833826Z",
     "iopub.status.idle": "2025-08-30T07:56:57.838422Z",
     "shell.execute_reply": "2025-08-30T07:56:57.838236Z",
     "shell.execute_reply.started": "2025-08-30T07:56:57.833880Z"
    }
   },
   "outputs": [
    {
     "name": "stdout",
     "output_type": "stream",
     "text": [
      "Calculating best minimal value for power law fit\n",
      "R-value (Power Law vs. Exponential): 0.0540\n",
      "P-value (Power Law vs. Exponential): 0.9696\n",
      "\n",
      "Conclusion: There is no statistically significant difference between the two models.\n",
      "Further analysis or a different model may be needed.\n"
     ]
    },
    {
     "name": "stderr",
     "output_type": "stream",
     "text": [
      "Values less than or equal to 0 in data. Throwing out 0 or negative values\n"
     ]
    }
   ],
   "source": [
    "# Fit the data to a power law and an exponential distribution.\n",
    "lose_powerlaw_fit = powerlaw.Fit(df_losses[\"Weighted Betweenness Centrality\"])\n",
    "\n",
    "# Perform the likelihood ratio test.\n",
    "## This test compares the goodness of fit of the power law and \n",
    "## exponential models.\n",
    "R_lose, p_lose = lose_powerlaw_fit.distribution_compare(\n",
    "    'power_law', 'exponential'\n",
    ")\n",
    "\n",
    "print(f\"R-value (Power Law vs. Exponential): {R_lose:.4f}\")\n",
    "print(f\"P-value (Power Law vs. Exponential): {p_lose:.4f}\")\n",
    "\n",
    "# The R-value tells us which model is a better fit:\n",
    "# R > 0: Power law is a better fit.\n",
    "# R < 0: Exponential is a better fit.\n",
    "# The p-value tells us if that difference is statistically significant.\n",
    "if R_lose > 0 and p_lose < 0.05:\n",
    "    print(\n",
    "        \"\\nConclusion: The data is a significantly better fit for a power-law\"\n",
    "        \" distribution.\"\n",
    "    )\n",
    "elif R_lose < 0 and p_lose < 0.05:\n",
    "    print(\n",
    "        \"\\nConclusion: The data is a significantly better fit for an \"\n",
    "        \"exponential distribution.\"\n",
    "    )\n",
    "else:\n",
    "    print(\n",
    "        \"\\nConclusion: There is no statistically significant difference \"\n",
    "        \"between the two models.\"\n",
    "    )\n",
    "    print(\"Further analysis or a different model may be needed.\")\n"
   ]
  },
  {
   "cell_type": "code",
   "execution_count": 23,
   "id": "05888295-9acf-4d71-aee6-60c986195e00",
   "metadata": {
    "execution": {
     "iopub.execute_input": "2025-08-30T07:56:57.838774Z",
     "iopub.status.busy": "2025-08-30T07:56:57.838703Z",
     "iopub.status.idle": "2025-08-30T07:56:57.885719Z",
     "shell.execute_reply": "2025-08-30T07:56:57.885474Z",
     "shell.execute_reply.started": "2025-08-30T07:56:57.838767Z"
    }
   },
   "outputs": [
    {
     "data": {
      "image/png": "[encoded data removed]",
      "text/plain": [
       "<Figure size 640x480 with 1 Axes>"
      ]
     },
     "metadata": {},
     "output_type": "display_data"
    }
   ],
   "source": [
    "plt.hist(\n",
    "    df_losses[\"Weighted Betweenness Centrality\"], \n",
    "    bins = 50\n",
    ")\n",
    "plt.title(\n",
    "    \"Histogram of Weighted Betweenness\\nCentralities in the Losing Graph\", \n",
    "    fontsize = 20\n",
    ")\n",
    "plt.ylabel(\"Number of Brawlers\", fontsize = 15)\n",
    "plt.xlabel(\"Weighted Betweenness Centrality\", fontsize = 15)\n",
    "plt.show()"
   ]
  },
  {
   "cell_type": "markdown",
   "id": "99d2a3f6-efb9-4ee4-8abc-2bab37526db4",
   "metadata": {},
   "source": [
    "#### Average Clustering Coefficients of Nodes"
   ]
  },
  {
   "cell_type": "code",
   "execution_count": 24,
   "id": "e4fe6cc1-01eb-43df-91a3-763dfb1ba83e",
   "metadata": {
    "execution": {
     "iopub.execute_input": "2025-08-30T07:56:57.886052Z",
     "iopub.status.busy": "2025-08-30T07:56:57.885980Z",
     "iopub.status.idle": "2025-08-30T07:56:57.888146Z",
     "shell.execute_reply": "2025-08-30T07:56:57.887941Z",
     "shell.execute_reply.started": "2025-08-30T07:56:57.886044Z"
    }
   },
   "outputs": [
    {
     "name": "stdout",
     "output_type": "stream",
     "text": [
      "Average Clustering Coefficient: 0.1813298416519548\n"
     ]
    }
   ],
   "source": [
    "print(\n",
    "    \"Average Clustering Coefficient:\", \n",
    "    nx.average_clustering(G_lose)\n",
    ")"
   ]
  },
  {
   "cell_type": "markdown",
   "id": "597361d2-4b7b-4709-8a65-39e6804ad9b1",
   "metadata": {},
   "source": [
    "#### UP Brawlers"
   ]
  },
  {
   "cell_type": "code",
   "execution_count": 25,
   "id": "e90d3d5a-0df7-4bed-9221-ce2c21a384a9",
   "metadata": {
    "execution": {
     "iopub.execute_input": "2025-08-30T07:56:57.888434Z",
     "iopub.status.busy": "2025-08-30T07:56:57.888366Z",
     "iopub.status.idle": "2025-08-30T07:56:57.916217Z",
     "shell.execute_reply": "2025-08-30T07:56:57.915957Z",
     "shell.execute_reply.started": "2025-08-30T07:56:57.888427Z"
    }
   },
   "outputs": [
    {
     "data": {
      "image/png": "[encoded data removed]",
      "text/plain": [
       "<Figure size 640x480 with 1 Axes>"
      ]
     },
     "metadata": {},
     "output_type": "display_data"
    }
   ],
   "source": [
    "df_losses.boxplot(column=\"Weighted Betweenness Centrality\")\n",
    "plt.title(\"Presence of Underpowered Brawlers\")\n",
    "plt.show()"
   ]
  },
  {
   "cell_type": "code",
   "execution_count": 26,
   "id": "8bc4f663-22bf-4c8f-971d-7cffd9f7243e",
   "metadata": {
    "execution": {
     "iopub.execute_input": "2025-08-30T07:56:57.916639Z",
     "iopub.status.busy": "2025-08-30T07:56:57.916560Z",
     "iopub.status.idle": "2025-08-30T07:56:57.920989Z",
     "shell.execute_reply": "2025-08-30T07:56:57.920792Z",
     "shell.execute_reply.started": "2025-08-30T07:56:57.916631Z"
    }
   },
   "outputs": [
    {
     "data": {
      "text/html": [
       "<div>\n",
       "<style scoped>\n",
       "    .dataframe tbody tr th:only-of-type {\n",
       "        vertical-align: middle;\n",
       "    }\n",
       "\n",
       "    .dataframe tbody tr th {\n",
       "        vertical-align: top;\n",
       "    }\n",
       "\n",
       "    .dataframe thead th {\n",
       "        text-align: right;\n",
       "    }\n",
       "</style>\n",
       "<table border=\"1\" class=\"dataframe\">\n",
       "  <thead>\n",
       "    <tr style=\"text-align: right;\">\n",
       "      <th></th>\n",
       "      <th>brawler</th>\n",
       "      <th>Weighted Betweenness Centrality</th>\n",
       "      <th>Change in Weighted Betweenness Centrality</th>\n",
       "    </tr>\n",
       "  </thead>\n",
       "  <tbody>\n",
       "    <tr>\n",
       "      <th>44</th>\n",
       "      <td>STU</td>\n",
       "      <td>0.127396</td>\n",
       "      <td>0.001198</td>\n",
       "    </tr>\n",
       "    <tr>\n",
       "      <th>16</th>\n",
       "      <td>PAM</td>\n",
       "      <td>0.124591</td>\n",
       "      <td>0.000672</td>\n",
       "    </tr>\n",
       "    <tr>\n",
       "      <th>0</th>\n",
       "      <td>SHELLY</td>\n",
       "      <td>0.092567</td>\n",
       "      <td>-0.000739</td>\n",
       "    </tr>\n",
       "    <tr>\n",
       "      <th>6</th>\n",
       "      <td>BARLEY</td>\n",
       "      <td>0.079710</td>\n",
       "      <td>0.000517</td>\n",
       "    </tr>\n",
       "    <tr>\n",
       "      <th>21</th>\n",
       "      <td>GENE</td>\n",
       "      <td>0.070360</td>\n",
       "      <td>-0.000086</td>\n",
       "    </tr>\n",
       "    <tr>\n",
       "      <th>13</th>\n",
       "      <td>POCO</td>\n",
       "      <td>0.063347</td>\n",
       "      <td>0.000178</td>\n",
       "    </tr>\n",
       "    <tr>\n",
       "      <th>9</th>\n",
       "      <td>DYNAMIKE</td>\n",
       "      <td>0.060542</td>\n",
       "      <td>-0.000646</td>\n",
       "    </tr>\n",
       "    <tr>\n",
       "      <th>10</th>\n",
       "      <td>EL PRIMO</td>\n",
       "      <td>0.053062</td>\n",
       "      <td>0.000633</td>\n",
       "    </tr>\n",
       "    <tr>\n",
       "      <th>41</th>\n",
       "      <td>BYRON</td>\n",
       "      <td>0.047920</td>\n",
       "      <td>0.000286</td>\n",
       "    </tr>\n",
       "    <tr>\n",
       "      <th>8</th>\n",
       "      <td>NITA</td>\n",
       "      <td>0.047452</td>\n",
       "      <td>0.000415</td>\n",
       "    </tr>\n",
       "    <tr>\n",
       "      <th>24</th>\n",
       "      <td>ROSA</td>\n",
       "      <td>0.042543</td>\n",
       "      <td>0.000276</td>\n",
       "    </tr>\n",
       "    <tr>\n",
       "      <th>29</th>\n",
       "      <td>BEA</td>\n",
       "      <td>0.041842</td>\n",
       "      <td>0.000471</td>\n",
       "    </tr>\n",
       "  </tbody>\n",
       "</table>\n",
       "</div>"
      ],
      "text/plain": [
       "     brawler  Weighted Betweenness Centrality  \\\n",
       "44       STU                         0.127396   \n",
       "16       PAM                         0.124591   \n",
       "0     SHELLY                         0.092567   \n",
       "6     BARLEY                         0.079710   \n",
       "21      GENE                         0.070360   \n",
       "13      POCO                         0.063347   \n",
       "9   DYNAMIKE                         0.060542   \n",
       "10  EL PRIMO                         0.053062   \n",
       "41     BYRON                         0.047920   \n",
       "8       NITA                         0.047452   \n",
       "24      ROSA                         0.042543   \n",
       "29       BEA                         0.041842   \n",
       "\n",
       "    Change in Weighted Betweenness Centrality  \n",
       "44                                   0.001198  \n",
       "16                                   0.000672  \n",
       "0                                   -0.000739  \n",
       "6                                    0.000517  \n",
       "21                                  -0.000086  \n",
       "13                                   0.000178  \n",
       "9                                   -0.000646  \n",
       "10                                   0.000633  \n",
       "41                                   0.000286  \n",
       "8                                    0.000415  \n",
       "24                                   0.000276  \n",
       "29                                   0.000471  "
      ]
     },
     "execution_count": 26,
     "metadata": {},
     "output_type": "execute_result"
    }
   ],
   "source": [
    "(\n",
    "    extract_outliers(df_losses, \"Weighted Betweenness Centrality\")\n",
    "        .sort_values(\n",
    "            \"Weighted Betweenness Centrality\", \n",
    "            ascending = False\n",
    "        )\n",
    ")"
   ]
  },
  {
   "cell_type": "markdown",
   "id": "80452fc5-3925-4962-9777-78fb64942087",
   "metadata": {},
   "source": [
    "### Combining Boxplots for Finding the Presence of OP and UP Brawlers"
   ]
  },
  {
   "cell_type": "code",
   "execution_count": 36,
   "id": "32d479e0-ec74-405b-987b-baddc3ef04ec",
   "metadata": {
    "execution": {
     "iopub.execute_input": "2025-08-30T08:01:18.645225Z",
     "iopub.status.busy": "2025-08-30T08:01:18.643777Z",
     "iopub.status.idle": "2025-08-30T08:01:18.752900Z",
     "shell.execute_reply": "2025-08-30T08:01:18.752595Z",
     "shell.execute_reply.started": "2025-08-30T08:01:18.645168Z"
    }
   },
   "outputs": [
    {
     "data": {
      "image/png": "[encoded data removed]",
      "text/plain": [
       "<Figure size 1000x600 with 2 Axes>"
      ]
     },
     "metadata": {},
     "output_type": "display_data"
    }
   ],
   "source": [
    "import matplotlib.pyplot as plt\n",
    "\n",
    "# Create one single figure and two axes (subplots) that will hold our boxplots\n",
    "fig, axs = plt.subplots(1, 2, figsize=(10, 6)) # 1 row, 2 columns\n",
    "\n",
    "# Create the first boxplot on the first axis (axs[0])\n",
    "df_wins.boxplot(\n",
    "    column=\"Weighted Betweenness Centrality\", ax=axs[0], fontsize=15\n",
    ")\n",
    "axs[0].set_title(\"Winning Network\", fontsize=15) # Changed title\n",
    "axs[0].set_ylabel(\"Weighted Betweenness Centrality\", fontsize=15)\n",
    "axs[0].set_xticklabels(['']) # Remove the default 'Weighted Betweenness Centrality' x-label\n",
    "\n",
    "# Create the second boxplot on the second axis (axs[1])\n",
    "df_losses.boxplot(\n",
    "    column=\"Weighted Betweenness Centrality\", ax=axs[1], fontsize=15\n",
    ")\n",
    "axs[1].set_title(\"Losing Network\", fontsize=15) # Changed title\n",
    "axs[1].set_xticklabels(['']) # Remove the default 'Weighted Betweenness Centrality' x-label\n",
    "\n",
    "# Set a common title for the entire figure\n",
    "fig.suptitle('Distribution of Weighted Betweenness Centrality', fontsize=20) # Improved title\n",
    "\n",
    "# Automatically adjust the layout to prevent overlapping elements\n",
    "plt.tight_layout()\n",
    "\n",
    "# Save the combined figure for your paper\n",
    "# plt.savefig('figures/centrality_boxplots.png', dpi=300, bbox_inches='tight')\n",
    "plt.show()"
   ]
  },
  {
   "cell_type": "markdown",
   "id": "ef1facf1-6e0e-487b-9c38-f9ee74012fa3",
   "metadata": {},
   "source": [
    "## Evaluating Impact of Attacks"
   ]
  },
  {
   "cell_type": "markdown",
   "id": "845dce16-8250-42dd-bee7-c3ca883f9e6c",
   "metadata": {},
   "source": [
    "### Victory Graph"
   ]
  },
  {
   "cell_type": "code",
   "execution_count": 28,
   "id": "8bc7cefb-929e-48c6-b867-e95a18d993e8",
   "metadata": {
    "execution": {
     "iopub.execute_input": "2025-08-30T07:56:57.988173Z",
     "iopub.status.busy": "2025-08-30T07:56:57.988099Z",
     "iopub.status.idle": "2025-08-30T07:56:58.015238Z",
     "shell.execute_reply": "2025-08-30T07:56:58.015004Z",
     "shell.execute_reply.started": "2025-08-30T07:56:57.988164Z"
    }
   },
   "outputs": [
    {
     "data": {
      "image/png": "[encoded data removed]",
      "text/plain": [
       "<Figure size 640x480 with 1 Axes>"
      ]
     },
     "metadata": {},
     "output_type": "display_data"
    }
   ],
   "source": [
    "df_wins.boxplot(column=\"Change in Weighted Betweenness Centrality\")\n",
    "plt.title(\"Impact of Brawlers Nerfs\")\n",
    "plt.show()"
   ]
  },
  {
   "cell_type": "code",
   "execution_count": 29,
   "id": "a4611447-b1fe-4c1d-9cf0-910bd25266f2",
   "metadata": {
    "execution": {
     "iopub.execute_input": "2025-08-30T07:56:58.015632Z",
     "iopub.status.busy": "2025-08-30T07:56:58.015552Z",
     "iopub.status.idle": "2025-08-30T07:56:58.020127Z",
     "shell.execute_reply": "2025-08-30T07:56:58.019892Z",
     "shell.execute_reply.started": "2025-08-30T07:56:58.015624Z"
    }
   },
   "outputs": [
    {
     "data": {
      "text/html": [
       "<div>\n",
       "<style scoped>\n",
       "    .dataframe tbody tr th:only-of-type {\n",
       "        vertical-align: middle;\n",
       "    }\n",
       "\n",
       "    .dataframe tbody tr th {\n",
       "        vertical-align: top;\n",
       "    }\n",
       "\n",
       "    .dataframe thead th {\n",
       "        text-align: right;\n",
       "    }\n",
       "</style>\n",
       "<table border=\"1\" class=\"dataframe\">\n",
       "  <thead>\n",
       "    <tr style=\"text-align: right;\">\n",
       "      <th></th>\n",
       "      <th>brawler</th>\n",
       "      <th>Weighted Betweenness Centrality</th>\n",
       "      <th>Change in Weighted Betweenness Centrality</th>\n",
       "    </tr>\n",
       "  </thead>\n",
       "  <tbody>\n",
       "    <tr>\n",
       "      <th>69</th>\n",
       "      <td>DOUG</td>\n",
       "      <td>0.244273</td>\n",
       "      <td>0.002220</td>\n",
       "    </tr>\n",
       "    <tr>\n",
       "      <th>90</th>\n",
       "      <td>JAE-YONG</td>\n",
       "      <td>0.072698</td>\n",
       "      <td>0.000648</td>\n",
       "    </tr>\n",
       "    <tr>\n",
       "      <th>70</th>\n",
       "      <td>PEARL</td>\n",
       "      <td>0.034362</td>\n",
       "      <td>-0.000492</td>\n",
       "    </tr>\n",
       "    <tr>\n",
       "      <th>78</th>\n",
       "      <td>DRACO</td>\n",
       "      <td>0.022440</td>\n",
       "      <td>-0.000503</td>\n",
       "    </tr>\n",
       "    <tr>\n",
       "      <th>74</th>\n",
       "      <td>KIT</td>\n",
       "      <td>0.078308</td>\n",
       "      <td>-0.000783</td>\n",
       "    </tr>\n",
       "  </tbody>\n",
       "</table>\n",
       "</div>"
      ],
      "text/plain": [
       "     brawler  Weighted Betweenness Centrality  \\\n",
       "69      DOUG                         0.244273   \n",
       "90  JAE-YONG                         0.072698   \n",
       "70     PEARL                         0.034362   \n",
       "78     DRACO                         0.022440   \n",
       "74       KIT                         0.078308   \n",
       "\n",
       "    Change in Weighted Betweenness Centrality  \n",
       "69                                   0.002220  \n",
       "90                                   0.000648  \n",
       "70                                  -0.000492  \n",
       "78                                  -0.000503  \n",
       "74                                  -0.000783  "
      ]
     },
     "execution_count": 29,
     "metadata": {},
     "output_type": "execute_result"
    }
   ],
   "source": [
    "(\n",
    "    extract_outliers(df_wins, \"Change in Weighted Betweenness Centrality\")\n",
    "        .sort_values(\n",
    "            \"Change in Weighted Betweenness Centrality\", \n",
    "            ascending = False\n",
    "        )\n",
    ")"
   ]
  },
  {
   "cell_type": "markdown",
   "id": "1f068bf9-682b-4082-9dfe-bda4b01367c9",
   "metadata": {},
   "source": [
    "### Defeat Graph"
   ]
  },
  {
   "cell_type": "code",
   "execution_count": 30,
   "id": "fac5b269-fea5-43df-ae1b-01d03dd78e0c",
   "metadata": {
    "execution": {
     "iopub.execute_input": "2025-08-30T07:56:58.020464Z",
     "iopub.status.busy": "2025-08-30T07:56:58.020398Z",
     "iopub.status.idle": "2025-08-30T07:56:58.053298Z",
     "shell.execute_reply": "2025-08-30T07:56:58.053028Z",
     "shell.execute_reply.started": "2025-08-30T07:56:58.020457Z"
    }
   },
   "outputs": [
    {
     "data": {
      "image/png": "[encoded data removed]",
      "text/plain": [
       "<Figure size 640x480 with 1 Axes>"
      ]
     },
     "metadata": {},
     "output_type": "display_data"
    }
   ],
   "source": [
    "df_losses.boxplot(column=\"Change in Weighted Betweenness Centrality\")\n",
    "plt.title(\"Impact of Brawlers Nerfs\")\n",
    "plt.show()"
   ]
  },
  {
   "cell_type": "code",
   "execution_count": 31,
   "id": "41342489-e14b-4f2a-8a46-184d09ecf6b0",
   "metadata": {
    "execution": {
     "iopub.execute_input": "2025-08-30T07:56:58.053671Z",
     "iopub.status.busy": "2025-08-30T07:56:58.053595Z",
     "iopub.status.idle": "2025-08-30T07:56:58.058115Z",
     "shell.execute_reply": "2025-08-30T07:56:58.057878Z",
     "shell.execute_reply.started": "2025-08-30T07:56:58.053662Z"
    }
   },
   "outputs": [
    {
     "data": {
      "text/html": [
       "<div>\n",
       "<style scoped>\n",
       "    .dataframe tbody tr th:only-of-type {\n",
       "        vertical-align: middle;\n",
       "    }\n",
       "\n",
       "    .dataframe tbody tr th {\n",
       "        vertical-align: top;\n",
       "    }\n",
       "\n",
       "    .dataframe thead th {\n",
       "        text-align: right;\n",
       "    }\n",
       "</style>\n",
       "<table border=\"1\" class=\"dataframe\">\n",
       "  <thead>\n",
       "    <tr style=\"text-align: right;\">\n",
       "      <th></th>\n",
       "      <th>brawler</th>\n",
       "      <th>Weighted Betweenness Centrality</th>\n",
       "      <th>Change in Weighted Betweenness Centrality</th>\n",
       "    </tr>\n",
       "  </thead>\n",
       "  <tbody>\n",
       "    <tr>\n",
       "      <th>44</th>\n",
       "      <td>STU</td>\n",
       "      <td>0.127396</td>\n",
       "      <td>0.001198</td>\n",
       "    </tr>\n",
       "    <tr>\n",
       "      <th>16</th>\n",
       "      <td>PAM</td>\n",
       "      <td>0.124591</td>\n",
       "      <td>0.000672</td>\n",
       "    </tr>\n",
       "    <tr>\n",
       "      <th>22</th>\n",
       "      <td>TICK</td>\n",
       "      <td>0.033427</td>\n",
       "      <td>-0.000341</td>\n",
       "    </tr>\n",
       "    <tr>\n",
       "      <th>45</th>\n",
       "      <td>BELLE</td>\n",
       "      <td>0.031323</td>\n",
       "      <td>-0.000515</td>\n",
       "    </tr>\n",
       "    <tr>\n",
       "      <th>39</th>\n",
       "      <td>AMBER</td>\n",
       "      <td>0.023375</td>\n",
       "      <td>-0.000533</td>\n",
       "    </tr>\n",
       "    <tr>\n",
       "      <th>82</th>\n",
       "      <td>MOE</td>\n",
       "      <td>0.021038</td>\n",
       "      <td>-0.000556</td>\n",
       "    </tr>\n",
       "    <tr>\n",
       "      <th>61</th>\n",
       "      <td>CHESTER</td>\n",
       "      <td>0.018467</td>\n",
       "      <td>-0.000592</td>\n",
       "    </tr>\n",
       "    <tr>\n",
       "      <th>9</th>\n",
       "      <td>DYNAMIKE</td>\n",
       "      <td>0.060542</td>\n",
       "      <td>-0.000646</td>\n",
       "    </tr>\n",
       "    <tr>\n",
       "      <th>0</th>\n",
       "      <td>SHELLY</td>\n",
       "      <td>0.092567</td>\n",
       "      <td>-0.000739</td>\n",
       "    </tr>\n",
       "  </tbody>\n",
       "</table>\n",
       "</div>"
      ],
      "text/plain": [
       "     brawler  Weighted Betweenness Centrality  \\\n",
       "44       STU                         0.127396   \n",
       "16       PAM                         0.124591   \n",
       "22      TICK                         0.033427   \n",
       "45     BELLE                         0.031323   \n",
       "39     AMBER                         0.023375   \n",
       "82       MOE                         0.021038   \n",
       "61   CHESTER                         0.018467   \n",
       "9   DYNAMIKE                         0.060542   \n",
       "0     SHELLY                         0.092567   \n",
       "\n",
       "    Change in Weighted Betweenness Centrality  \n",
       "44                                   0.001198  \n",
       "16                                   0.000672  \n",
       "22                                  -0.000341  \n",
       "45                                  -0.000515  \n",
       "39                                  -0.000533  \n",
       "82                                  -0.000556  \n",
       "61                                  -0.000592  \n",
       "9                                   -0.000646  \n",
       "0                                   -0.000739  "
      ]
     },
     "execution_count": 31,
     "metadata": {},
     "output_type": "execute_result"
    }
   ],
   "source": [
    "(\n",
    "    extract_outliers(df_losses, \"Change in Weighted Betweenness Centrality\")\n",
    "        .sort_values(\n",
    "            \"Change in Weighted Betweenness Centrality\", \n",
    "            ascending = False\n",
    "        )\n",
    ")"
   ]
  }
 ],
 "metadata": {
  "kernelspec": {
   "display_name": "Brawl Stars",
   "language": "python",
   "name": "brawl-stars"
  },
  "language_info": {
   "codemirror_mode": {
    "name": "ipython",
    "version": 3
   },
   "file_extension": ".py",
   "mimetype": "text/x-python",
   "name": "python",
   "nbconvert_exporter": "python",
   "pygments_lexer": "ipython3",
   "version": "3.10.18"
  }
 },
 "nbformat": 4,
 "nbformat_minor": 5
}
