{
 "cells": [
  {
   "cell_type": "markdown",
   "id": "a8076ffc-0431-49de-a5e5-1a07240d4b88",
   "metadata": {},
   "source": [
    "# Looking for Needed Balance Changes\n",
    "\n",
    "### Purpose\n",
    "This notebook was created to find OP and UP brawlers based on betweenness centrality."
   ]
  },
  {
   "cell_type": "markdown",
   "id": "b27e7792-37f0-47ab-921b-99d1118ce7e8",
   "metadata": {},
   "source": [
    "## Importing Libraries"
   ]
  },
  {
   "cell_type": "code",
   "execution_count": 1,
   "id": "f5f1003b-5e66-4254-a7c3-29b8e8d09202",
   "metadata": {
    "execution": {
     "iopub.execute_input": "2025-08-27T03:56:00.718191Z",
     "iopub.status.busy": "2025-08-27T03:56:00.717970Z",
     "iopub.status.idle": "2025-08-27T03:56:02.344706Z",
     "shell.execute_reply": "2025-08-27T03:56:02.344488Z",
     "shell.execute_reply.started": "2025-08-27T03:56:00.718172Z"
    }
   },
   "outputs": [],
   "source": [
    "import matplotlib.pyplot as plt\n",
    "import networkx as nx\n",
    "import numpy as np\n",
    "import pandas as pd\n",
    "import powerlaw\n",
    "from scipy.stats import skew"
   ]
  },
  {
   "cell_type": "markdown",
   "id": "1a7bc064-6b00-445f-b967-f40759f7cb37",
   "metadata": {},
   "source": [
    "## Downloading Data"
   ]
  },
  {
   "cell_type": "markdown",
   "id": "188375a5-1665-4cec-aaab-d1f54007901c",
   "metadata": {},
   "source": [
    "### Brawler Nodes"
   ]
  },
  {
   "cell_type": "code",
   "execution_count": 2,
   "id": "ca2bce70-3112-4645-9bc6-3a4ec7e53fb3",
   "metadata": {
    "execution": {
     "iopub.execute_input": "2025-08-27T03:56:02.345107Z",
     "iopub.status.busy": "2025-08-27T03:56:02.344982Z",
     "iopub.status.idle": "2025-08-27T03:56:02.353563Z",
     "shell.execute_reply": "2025-08-27T03:56:02.353389Z",
     "shell.execute_reply.started": "2025-08-27T03:56:02.345099Z"
    }
   },
   "outputs": [
    {
     "data": {
      "text/html": [
       "<div>\n",
       "<style scoped>\n",
       "    .dataframe tbody tr th:only-of-type {\n",
       "        vertical-align: middle;\n",
       "    }\n",
       "\n",
       "    .dataframe tbody tr th {\n",
       "        vertical-align: top;\n",
       "    }\n",
       "\n",
       "    .dataframe thead th {\n",
       "        text-align: right;\n",
       "    }\n",
       "</style>\n",
       "<table border=\"1\" class=\"dataframe\">\n",
       "  <thead>\n",
       "    <tr style=\"text-align: right;\">\n",
       "      <th></th>\n",
       "      <th>Id</th>\n",
       "      <th>Label</th>\n",
       "    </tr>\n",
       "  </thead>\n",
       "  <tbody>\n",
       "    <tr>\n",
       "      <th>0</th>\n",
       "      <td>SHELLY</td>\n",
       "      <td>SHELLY</td>\n",
       "    </tr>\n",
       "    <tr>\n",
       "      <th>1</th>\n",
       "      <td>COLT</td>\n",
       "      <td>COLT</td>\n",
       "    </tr>\n",
       "    <tr>\n",
       "      <th>2</th>\n",
       "      <td>BULL</td>\n",
       "      <td>BULL</td>\n",
       "    </tr>\n",
       "    <tr>\n",
       "      <th>3</th>\n",
       "      <td>BROCK</td>\n",
       "      <td>BROCK</td>\n",
       "    </tr>\n",
       "    <tr>\n",
       "      <th>4</th>\n",
       "      <td>RICO</td>\n",
       "      <td>RICO</td>\n",
       "    </tr>\n",
       "  </tbody>\n",
       "</table>\n",
       "</div>"
      ],
      "text/plain": [
       "       Id   Label\n",
       "0  SHELLY  SHELLY\n",
       "1    COLT    COLT\n",
       "2    BULL    BULL\n",
       "3   BROCK   BROCK\n",
       "4    RICO    RICO"
      ]
     },
     "execution_count": 2,
     "metadata": {},
     "output_type": "execute_result"
    }
   ],
   "source": [
    "df_brawlers = pd.read_csv(\"../outputs/graph-data/brawlers.csv\")\n",
    "df_brawlers.head()"
   ]
  },
  {
   "cell_type": "markdown",
   "id": "0aa4503d-a5cb-40df-ad57-6b9abec16c60",
   "metadata": {},
   "source": [
    "## Utility Functions"
   ]
  },
  {
   "cell_type": "markdown",
   "id": "c6b44a7b-848e-44d0-a062-be7dcbf3a3b3",
   "metadata": {},
   "source": [
    "### Computing Weighted Betweenness Centrality"
   ]
  },
  {
   "cell_type": "markdown",
   "id": "7bce9b76-c4f8-4d6d-9676-86885b9f275f",
   "metadata": {},
   "source": [
    "### Attacking Node"
   ]
  },
  {
   "cell_type": "code",
   "execution_count": 4,
   "id": "70dad188-ff79-400c-b1c0-4fb29429f40d",
   "metadata": {
    "execution": {
     "iopub.execute_input": "2025-08-27T03:56:02.355918Z",
     "iopub.status.busy": "2025-08-27T03:56:02.355851Z",
     "iopub.status.idle": "2025-08-27T03:56:02.357460Z",
     "shell.execute_reply": "2025-08-27T03:56:02.357270Z",
     "shell.execute_reply.started": "2025-08-27T03:56:02.355911Z"
    }
   },
   "outputs": [],
   "source": [
    "def attack(G: nx.Graph, id_of_node_to_attack: str) -> nx.Graph:\n",
    "    \"\"\"\n",
    "    Get the graph after a node is attacked.\n",
    "\n",
    "    Args:\n",
    "        G (nx.Graph): NetworkX graph.\n",
    "        id_of_node_to_attack (str): ID of node to attack.\n",
    "    Returns\n",
    "        G_attacked (nx.Graph): Graph without attacked node.\n",
    "    \"\"\"\n",
    "    G_attacked = G.copy()\n",
    "    G_attacked.remove_node(id_of_node_to_attack)\n",
    "    return G_attacked"
   ]
  },
  {
   "cell_type": "markdown",
   "id": "5d4ea808-9728-4a62-b558-6f34757b04bf",
   "metadata": {},
   "source": [
    "### Getting Change in Mean Weighted Betweenness Centrality when Attacked"
   ]
  },
  {
   "cell_type": "code",
   "execution_count": 5,
   "id": "0b640572-ab83-4ad7-9180-619ad4b50193",
   "metadata": {
    "execution": {
     "iopub.execute_input": "2025-08-27T03:56:02.357784Z",
     "iopub.status.busy": "2025-08-27T03:56:02.357725Z",
     "iopub.status.idle": "2025-08-27T03:56:02.359579Z",
     "shell.execute_reply": "2025-08-27T03:56:02.359400Z",
     "shell.execute_reply.started": "2025-08-27T03:56:02.357778Z"
    }
   },
   "outputs": [],
   "source": [
    "def delta_mean_betweenness_centrality(\n",
    "    G: nx.graph, id_of_node_to_attack: str\n",
    ") -> float:\n",
    "    \"\"\"\n",
    "    Get the change in mean betweenness centrality of a graph after \n",
    "    attacking a node.\n",
    "\n",
    "    Args:\n",
    "        G (nx.Graph): NetworkX graph.\n",
    "        id_of_node_to_attack (str): ID of node to attack.\n",
    "    Returns\n",
    "        change (float): Change in betweenness centrality.\n",
    "    \"\"\"\n",
    "    # Get initial mean betweenness centrality (mbc)\n",
    "    bc_initial = weighted_betweenness_centrality(G)\n",
    "    mbc_initial = bc_initial[\"Weighted Betweenness Centrality\"].mean()\n",
    "\n",
    "    # Get mean betweenness centrality after attack\n",
    "    G_after_attack = attack(G, id_of_node_to_attack)\n",
    "    bc_after_attack = weighted_betweenness_centrality(G_after_attack)\n",
    "    mbc_after_attack = bc_after_attack[\n",
    "        \"Weighted Betweenness Centrality\"\n",
    "    ].mean()\n",
    "\n",
    "    # Get change in betweenness centrality\n",
    "    change = mbc_after_attack - mbc_initial\n",
    "    return change"
   ]
  },
  {
   "cell_type": "markdown",
   "id": "a9f20d6f-85e0-4145-a6e1-832fd7b7cb4d",
   "metadata": {},
   "source": [
    "### Getting Outliers"
   ]
  },
  {
   "cell_type": "code",
   "execution_count": 6,
   "id": "2cb6f722-a824-4eaa-85e5-c779223187bd",
   "metadata": {
    "execution": {
     "iopub.execute_input": "2025-08-27T03:56:02.360759Z",
     "iopub.status.busy": "2025-08-27T03:56:02.360701Z",
     "iopub.status.idle": "2025-08-27T03:56:02.362555Z",
     "shell.execute_reply": "2025-08-27T03:56:02.362388Z",
     "shell.execute_reply.started": "2025-08-27T03:56:02.360752Z"
    }
   },
   "outputs": [],
   "source": [
    "def extract_outliers(df: pd.DataFrame, col_name: str):\n",
    "    \"\"\"\n",
    "    Get the outliers in a pandas DataFrame based on a column.\n",
    "\n",
    "    Args:\n",
    "        df (pd.DataFrame): Pandas DataFrame that contains the data.\n",
    "        col_name (str): Name of the column that will determine outliers.\n",
    "    Returns:\n",
    "        df_outliers (pd.DataFrame): Pandas DataFrame with outliers.\n",
    "    \"\"\"\n",
    "    # Describe the dataframe\n",
    "    df_describe = df.describe()\n",
    "\n",
    "    # Compute iqr\n",
    "    iqr = df_describe[col_name][\"75%\"] - df_describe[col_name][\"25%\"]\n",
    "\n",
    "    # Get range of inliers\n",
    "    max_inlier_val = df_describe[col_name][\"75%\"] + (1.5 * iqr)\n",
    "    min_inlier_val = df_describe[col_name][\"25%\"] - (1.5 * iqr)\n",
    "\n",
    "    # Get outliers\n",
    "    df_outliers = df[\n",
    "        (df[col_name] < min_inlier_val) |\n",
    "        (df[col_name] > max_inlier_val)\n",
    "    ]\n",
    "    return df_outliers"
   ]
  },
  {
   "cell_type": "markdown",
   "id": "8ac714f7-20d4-4229-b05c-ada45c7f0d5f",
   "metadata": {},
   "source": [
    "## Creating Graphs"
   ]
  },
  {
   "cell_type": "markdown",
   "id": "e85a1c58-1b42-4d60-b97c-367253b5fbd2",
   "metadata": {},
   "source": [
    "### Victory Graph"
   ]
  },
  {
   "cell_type": "markdown",
   "id": "49011cc7-0ca4-47f2-8872-ee843109e714",
   "metadata": {},
   "source": [
    "#### Getting Victory Graph Edges"
   ]
  },
  {
   "cell_type": "code",
   "execution_count": 7,
   "id": "40a690cc-bca8-401d-92a0-ca5fcb6c2bad",
   "metadata": {
    "execution": {
     "iopub.execute_input": "2025-08-27T03:56:02.362803Z",
     "iopub.status.busy": "2025-08-27T03:56:02.362743Z",
     "iopub.status.idle": "2025-08-27T03:56:02.366302Z",
     "shell.execute_reply": "2025-08-27T03:56:02.364807Z",
     "shell.execute_reply.started": "2025-08-27T03:56:02.362796Z"
    }
   },
   "outputs": [],
   "source": [
    "df_win_edges = pd.read_csv(\n",
    "    \"../outputs/graph-data/edges/winning-edges-beginners.csv\"\n",
    ")"
   ]
  },
  {
   "cell_type": "markdown",
   "id": "26bed66c-9a4b-4316-a274-fb892c9380e7",
   "metadata": {},
   "source": [
    "#### Creating NetworkX Graph"
   ]
  },
  {
   "cell_type": "code",
   "execution_count": 8,
   "id": "f2dcf7d2-e294-49b0-8d63-d71cfb37e62d",
   "metadata": {
    "execution": {
     "iopub.execute_input": "2025-08-27T03:56:02.366978Z",
     "iopub.status.busy": "2025-08-27T03:56:02.366794Z",
     "iopub.status.idle": "2025-08-27T03:56:02.373919Z",
     "shell.execute_reply": "2025-08-27T03:56:02.373631Z",
     "shell.execute_reply.started": "2025-08-27T03:56:02.366968Z"
    }
   },
   "outputs": [],
   "source": [
    "G_win = nx.Graph() # Initialize graph\n",
    "\n",
    "# Adding brawler nodes\n",
    "for brawler in df_brawlers[\"Id\"]:\n",
    "    G_win.add_node(brawler)\n",
    "\n",
    "# Add weighted edges to the victory graph\n",
    "for index, row in df_win_edges.iterrows():\n",
    "    G_win.add_edge(row['Source'], row['Target'], weight=row['Weight'])"
   ]
  },
  {
   "cell_type": "markdown",
   "id": "52df0cb8-983e-469c-97c5-3ad49e607632",
   "metadata": {},
   "source": [
    "#### Getting Weighted Betweenness Centrality of Brawlers"
   ]
  },
  {
   "cell_type": "code",
   "execution_count": 9,
   "id": "a2655047-a68f-471e-a973-818e1300b13f",
   "metadata": {
    "execution": {
     "iopub.execute_input": "2025-08-27T03:56:02.374322Z",
     "iopub.status.busy": "2025-08-27T03:56:02.374250Z",
     "iopub.status.idle": "2025-08-27T03:56:02.394796Z",
     "shell.execute_reply": "2025-08-27T03:56:02.394457Z",
     "shell.execute_reply.started": "2025-08-27T03:56:02.374314Z"
    }
   },
   "outputs": [
    {
     "data": {
      "text/html": [
       "<div>\n",
       "<style scoped>\n",
       "    .dataframe tbody tr th:only-of-type {\n",
       "        vertical-align: middle;\n",
       "    }\n",
       "\n",
       "    .dataframe tbody tr th {\n",
       "        vertical-align: top;\n",
       "    }\n",
       "\n",
       "    .dataframe thead th {\n",
       "        text-align: right;\n",
       "    }\n",
       "</style>\n",
       "<table border=\"1\" class=\"dataframe\">\n",
       "  <thead>\n",
       "    <tr style=\"text-align: right;\">\n",
       "      <th></th>\n",
       "      <th>brawler</th>\n",
       "      <th>Weighted Betweenness Centrality</th>\n",
       "    </tr>\n",
       "  </thead>\n",
       "  <tbody>\n",
       "    <tr>\n",
       "      <th>0</th>\n",
       "      <td>SHELLY</td>\n",
       "      <td>0.0</td>\n",
       "    </tr>\n",
       "    <tr>\n",
       "      <th>1</th>\n",
       "      <td>COLT</td>\n",
       "      <td>0.0</td>\n",
       "    </tr>\n",
       "    <tr>\n",
       "      <th>2</th>\n",
       "      <td>BULL</td>\n",
       "      <td>1.0</td>\n",
       "    </tr>\n",
       "    <tr>\n",
       "      <th>3</th>\n",
       "      <td>BROCK</td>\n",
       "      <td>3.0</td>\n",
       "    </tr>\n",
       "    <tr>\n",
       "      <th>4</th>\n",
       "      <td>RICO</td>\n",
       "      <td>49.0</td>\n",
       "    </tr>\n",
       "  </tbody>\n",
       "</table>\n",
       "</div>"
      ],
      "text/plain": [
       "  brawler  Weighted Betweenness Centrality\n",
       "0  SHELLY                              0.0\n",
       "1    COLT                              0.0\n",
       "2    BULL                              1.0\n",
       "3   BROCK                              3.0\n",
       "4    RICO                             49.0"
      ]
     },
     "execution_count": 9,
     "metadata": {},
     "output_type": "execute_result"
    }
   ],
   "source": [
    "# Create a dataframe for analyzing brawlers\n",
    "df_wins = weighted_betweenness_centrality(G_win)\n",
    "\n",
    "# Preview df_wins\n",
    "df_wins.head()"
   ]
  },
  {
   "cell_type": "markdown",
   "id": "86a7a6c4-61b4-4aba-b8de-fc20cd249448",
   "metadata": {},
   "source": [
    "#### Getting Change in Mean Weighted Betweenness Centrality when Attacked"
   ]
  },
  {
   "cell_type": "code",
   "execution_count": 10,
   "id": "dedba830-53e2-44e9-ac0d-aacc6bd958e7",
   "metadata": {
    "execution": {
     "iopub.execute_input": "2025-08-27T03:56:02.395139Z",
     "iopub.status.busy": "2025-08-27T03:56:02.395073Z",
     "iopub.status.idle": "2025-08-27T03:56:05.527117Z",
     "shell.execute_reply": "2025-08-27T03:56:05.526846Z",
     "shell.execute_reply.started": "2025-08-27T03:56:02.395131Z"
    }
   },
   "outputs": [
    {
     "data": {
      "text/html": [
       "<div>\n",
       "<style scoped>\n",
       "    .dataframe tbody tr th:only-of-type {\n",
       "        vertical-align: middle;\n",
       "    }\n",
       "\n",
       "    .dataframe tbody tr th {\n",
       "        vertical-align: top;\n",
       "    }\n",
       "\n",
       "    .dataframe thead th {\n",
       "        text-align: right;\n",
       "    }\n",
       "</style>\n",
       "<table border=\"1\" class=\"dataframe\">\n",
       "  <thead>\n",
       "    <tr style=\"text-align: right;\">\n",
       "      <th></th>\n",
       "      <th>brawler</th>\n",
       "      <th>Weighted Betweenness Centrality</th>\n",
       "      <th>Change in Weighted Betweenness Centrality</th>\n",
       "    </tr>\n",
       "  </thead>\n",
       "  <tbody>\n",
       "    <tr>\n",
       "      <th>0</th>\n",
       "      <td>SHELLY</td>\n",
       "      <td>0.0</td>\n",
       "      <td>-1.554335</td>\n",
       "    </tr>\n",
       "    <tr>\n",
       "      <th>1</th>\n",
       "      <td>COLT</td>\n",
       "      <td>0.0</td>\n",
       "      <td>-1.887669</td>\n",
       "    </tr>\n",
       "    <tr>\n",
       "      <th>2</th>\n",
       "      <td>BULL</td>\n",
       "      <td>1.0</td>\n",
       "      <td>-0.726378</td>\n",
       "    </tr>\n",
       "    <tr>\n",
       "      <th>3</th>\n",
       "      <td>BROCK</td>\n",
       "      <td>3.0</td>\n",
       "      <td>-0.941432</td>\n",
       "    </tr>\n",
       "    <tr>\n",
       "      <th>4</th>\n",
       "      <td>RICO</td>\n",
       "      <td>49.0</td>\n",
       "      <td>0.037062</td>\n",
       "    </tr>\n",
       "  </tbody>\n",
       "</table>\n",
       "</div>"
      ],
      "text/plain": [
       "  brawler  Weighted Betweenness Centrality  \\\n",
       "0  SHELLY                              0.0   \n",
       "1    COLT                              0.0   \n",
       "2    BULL                              1.0   \n",
       "3   BROCK                              3.0   \n",
       "4    RICO                             49.0   \n",
       "\n",
       "   Change in Weighted Betweenness Centrality  \n",
       "0                                  -1.554335  \n",
       "1                                  -1.887669  \n",
       "2                                  -0.726378  \n",
       "3                                  -0.941432  \n",
       "4                                   0.037062  "
      ]
     },
     "execution_count": 10,
     "metadata": {},
     "output_type": "execute_result"
    }
   ],
   "source": [
    "df_wins[\"Change in Weighted Betweenness Centrality\"] = (\n",
    "    df_wins[\"brawler\"].apply(\n",
    "        lambda brawler: delta_mean_betweenness_centrality(G_win, brawler)\n",
    "    )\n",
    ")\n",
    "\n",
    "df_wins.head()"
   ]
  },
  {
   "cell_type": "code",
   "execution_count": 11,
   "id": "982562ad-789b-4a18-8ce0-4fe6a3038d72",
   "metadata": {
    "execution": {
     "iopub.execute_input": "2025-08-27T03:56:05.527524Z",
     "iopub.status.busy": "2025-08-27T03:56:05.527453Z",
     "iopub.status.idle": "2025-08-27T03:56:05.531502Z",
     "shell.execute_reply": "2025-08-27T03:56:05.531319Z",
     "shell.execute_reply.started": "2025-08-27T03:56:05.527515Z"
    }
   },
   "outputs": [],
   "source": [
    "df_wins.to_csv(\"../outputs/graph-data/winner-brawler-nodes.csv\", index = False)"
   ]
  },
  {
   "cell_type": "markdown",
   "id": "e61757d8-a07d-4f8c-8742-5026e8a9b185",
   "metadata": {},
   "source": [
    "### Defeat Graph"
   ]
  },
  {
   "cell_type": "markdown",
   "id": "d306f87e-985f-40b0-92b9-4eb1e26bf8b2",
   "metadata": {},
   "source": [
    "#### Getting Defeat Graph Edges"
   ]
  },
  {
   "cell_type": "code",
   "execution_count": 12,
   "id": "f5b78b8a-652a-4acd-83b3-e246421ad391",
   "metadata": {
    "execution": {
     "iopub.execute_input": "2025-08-27T03:56:05.531893Z",
     "iopub.status.busy": "2025-08-27T03:56:05.531827Z",
     "iopub.status.idle": "2025-08-27T03:56:05.535295Z",
     "shell.execute_reply": "2025-08-27T03:56:05.535116Z",
     "shell.execute_reply.started": "2025-08-27T03:56:05.531885Z"
    }
   },
   "outputs": [
    {
     "data": {
      "text/html": [
       "<div>\n",
       "<style scoped>\n",
       "    .dataframe tbody tr th:only-of-type {\n",
       "        vertical-align: middle;\n",
       "    }\n",
       "\n",
       "    .dataframe tbody tr th {\n",
       "        vertical-align: top;\n",
       "    }\n",
       "\n",
       "    .dataframe thead th {\n",
       "        text-align: right;\n",
       "    }\n",
       "</style>\n",
       "<table border=\"1\" class=\"dataframe\">\n",
       "  <thead>\n",
       "    <tr style=\"text-align: right;\">\n",
       "      <th></th>\n",
       "      <th>Source</th>\n",
       "      <th>Target</th>\n",
       "      <th>Type</th>\n",
       "      <th>Weight</th>\n",
       "      <th>probability</th>\n",
       "    </tr>\n",
       "  </thead>\n",
       "  <tbody>\n",
       "    <tr>\n",
       "      <th>0</th>\n",
       "      <td>8-BIT</td>\n",
       "      <td>BEA</td>\n",
       "      <td>Undirected</td>\n",
       "      <td>1.521749</td>\n",
       "      <td>0.657143</td>\n",
       "    </tr>\n",
       "    <tr>\n",
       "      <th>1</th>\n",
       "      <td>8-BIT</td>\n",
       "      <td>BYRON</td>\n",
       "      <td>Undirected</td>\n",
       "      <td>1.388899</td>\n",
       "      <td>0.720000</td>\n",
       "    </tr>\n",
       "    <tr>\n",
       "      <th>2</th>\n",
       "      <td>8-BIT</td>\n",
       "      <td>MAX</td>\n",
       "      <td>Undirected</td>\n",
       "      <td>1.384625</td>\n",
       "      <td>0.722222</td>\n",
       "    </tr>\n",
       "    <tr>\n",
       "      <th>3</th>\n",
       "      <td>8-BIT</td>\n",
       "      <td>ROSA</td>\n",
       "      <td>Undirected</td>\n",
       "      <td>1.384625</td>\n",
       "      <td>0.722222</td>\n",
       "    </tr>\n",
       "    <tr>\n",
       "      <th>4</th>\n",
       "      <td>8-BIT</td>\n",
       "      <td>RUFFS</td>\n",
       "      <td>Undirected</td>\n",
       "      <td>1.000010</td>\n",
       "      <td>1.000000</td>\n",
       "    </tr>\n",
       "  </tbody>\n",
       "</table>\n",
       "</div>"
      ],
      "text/plain": [
       "  Source Target        Type    Weight  probability\n",
       "0  8-BIT    BEA  Undirected  1.521749     0.657143\n",
       "1  8-BIT  BYRON  Undirected  1.388899     0.720000\n",
       "2  8-BIT    MAX  Undirected  1.384625     0.722222\n",
       "3  8-BIT   ROSA  Undirected  1.384625     0.722222\n",
       "4  8-BIT  RUFFS  Undirected  1.000010     1.000000"
      ]
     },
     "execution_count": 12,
     "metadata": {},
     "output_type": "execute_result"
    }
   ],
   "source": [
    "df_lose_edges = pd.read_csv(\n",
    "    \"../outputs/graph-data/edges/losing-edges-beginners.csv\"\n",
    ")\n",
    "df_lose_edges.head()"
   ]
  },
  {
   "cell_type": "markdown",
   "id": "5f28b354-9e80-4704-864f-9e6bfa2daedc",
   "metadata": {},
   "source": [
    "#### Creating NetworkX Graph"
   ]
  },
  {
   "cell_type": "code",
   "execution_count": 13,
   "id": "a5ee5f2f-e0df-41e2-ac33-d2df0b0a613e",
   "metadata": {
    "execution": {
     "iopub.execute_input": "2025-08-27T03:56:05.535587Z",
     "iopub.status.busy": "2025-08-27T03:56:05.535530Z",
     "iopub.status.idle": "2025-08-27T03:56:05.540288Z",
     "shell.execute_reply": "2025-08-27T03:56:05.540087Z",
     "shell.execute_reply.started": "2025-08-27T03:56:05.535581Z"
    }
   },
   "outputs": [],
   "source": [
    "G_lose = nx.Graph() # Initialize graph\n",
    "\n",
    "# Adding brawler nodes\n",
    "for brawler in df_brawlers[\"Id\"]:\n",
    "    G_lose.add_node(brawler)\n",
    "\n",
    "# Add weighted edges to the victory graph\n",
    "for index, row in df_lose_edges.iterrows():\n",
    "    G_lose.add_edge(row['Source'], row['Target'], weight=row['Weight'])"
   ]
  },
  {
   "cell_type": "markdown",
   "id": "27a1563e-29e0-49ea-b588-cc9cd3e90428",
   "metadata": {},
   "source": [
    "#### Getting Weighted Betweenness Centrality of Brawlers"
   ]
  },
  {
   "cell_type": "code",
   "execution_count": 14,
   "id": "d1c3d39a-8df4-471e-8906-ed48f30028bd",
   "metadata": {
    "execution": {
     "iopub.execute_input": "2025-08-27T03:56:05.540560Z",
     "iopub.status.busy": "2025-08-27T03:56:05.540503Z",
     "iopub.status.idle": "2025-08-27T03:56:05.556732Z",
     "shell.execute_reply": "2025-08-27T03:56:05.556521Z",
     "shell.execute_reply.started": "2025-08-27T03:56:05.540553Z"
    }
   },
   "outputs": [
    {
     "data": {
      "text/html": [
       "<div>\n",
       "<style scoped>\n",
       "    .dataframe tbody tr th:only-of-type {\n",
       "        vertical-align: middle;\n",
       "    }\n",
       "\n",
       "    .dataframe tbody tr th {\n",
       "        vertical-align: top;\n",
       "    }\n",
       "\n",
       "    .dataframe thead th {\n",
       "        text-align: right;\n",
       "    }\n",
       "</style>\n",
       "<table border=\"1\" class=\"dataframe\">\n",
       "  <thead>\n",
       "    <tr style=\"text-align: right;\">\n",
       "      <th></th>\n",
       "      <th>brawler</th>\n",
       "      <th>Weighted Betweenness Centrality</th>\n",
       "    </tr>\n",
       "  </thead>\n",
       "  <tbody>\n",
       "    <tr>\n",
       "      <th>0</th>\n",
       "      <td>SHELLY</td>\n",
       "      <td>396.0</td>\n",
       "    </tr>\n",
       "    <tr>\n",
       "      <th>1</th>\n",
       "      <td>COLT</td>\n",
       "      <td>136.0</td>\n",
       "    </tr>\n",
       "    <tr>\n",
       "      <th>2</th>\n",
       "      <td>BULL</td>\n",
       "      <td>146.0</td>\n",
       "    </tr>\n",
       "    <tr>\n",
       "      <th>3</th>\n",
       "      <td>BROCK</td>\n",
       "      <td>47.0</td>\n",
       "    </tr>\n",
       "    <tr>\n",
       "      <th>4</th>\n",
       "      <td>RICO</td>\n",
       "      <td>28.0</td>\n",
       "    </tr>\n",
       "  </tbody>\n",
       "</table>\n",
       "</div>"
      ],
      "text/plain": [
       "  brawler  Weighted Betweenness Centrality\n",
       "0  SHELLY                            396.0\n",
       "1    COLT                            136.0\n",
       "2    BULL                            146.0\n",
       "3   BROCK                             47.0\n",
       "4    RICO                             28.0"
      ]
     },
     "execution_count": 14,
     "metadata": {},
     "output_type": "execute_result"
    }
   ],
   "source": [
    "# Create a dataframe for analyzing brawlers\n",
    "df_losses = weighted_betweenness_centrality(G_lose)\n",
    "\n",
    "# Preview df_lose\n",
    "df_losses.head()"
   ]
  },
  {
   "cell_type": "markdown",
   "id": "fd640883-97bf-4d8f-84ce-183fed823f97",
   "metadata": {},
   "source": [
    "#### Getting Change in Mean Weighted Betweenness Centrality when Attacked"
   ]
  },
  {
   "cell_type": "code",
   "execution_count": 15,
   "id": "9fa43962-9082-41fe-8d31-9df3de78fa5d",
   "metadata": {
    "execution": {
     "iopub.execute_input": "2025-08-27T03:56:05.557083Z",
     "iopub.status.busy": "2025-08-27T03:56:05.557018Z",
     "iopub.status.idle": "2025-08-27T03:56:08.236977Z",
     "shell.execute_reply": "2025-08-27T03:56:08.236718Z",
     "shell.execute_reply.started": "2025-08-27T03:56:05.557076Z"
    }
   },
   "outputs": [
    {
     "data": {
      "text/html": [
       "<div>\n",
       "<style scoped>\n",
       "    .dataframe tbody tr th:only-of-type {\n",
       "        vertical-align: middle;\n",
       "    }\n",
       "\n",
       "    .dataframe tbody tr th {\n",
       "        vertical-align: top;\n",
       "    }\n",
       "\n",
       "    .dataframe thead th {\n",
       "        text-align: right;\n",
       "    }\n",
       "</style>\n",
       "<table border=\"1\" class=\"dataframe\">\n",
       "  <thead>\n",
       "    <tr style=\"text-align: right;\">\n",
       "      <th></th>\n",
       "      <th>brawler</th>\n",
       "      <th>Weighted Betweenness Centrality</th>\n",
       "      <th>Change in Weighted Betweenness Centrality</th>\n",
       "    </tr>\n",
       "  </thead>\n",
       "  <tbody>\n",
       "    <tr>\n",
       "      <th>0</th>\n",
       "      <td>SHELLY</td>\n",
       "      <td>396.0</td>\n",
       "      <td>-4.399908</td>\n",
       "    </tr>\n",
       "    <tr>\n",
       "      <th>1</th>\n",
       "      <td>COLT</td>\n",
       "      <td>136.0</td>\n",
       "      <td>0.739876</td>\n",
       "    </tr>\n",
       "    <tr>\n",
       "      <th>2</th>\n",
       "      <td>BULL</td>\n",
       "      <td>146.0</td>\n",
       "      <td>-2.421414</td>\n",
       "    </tr>\n",
       "    <tr>\n",
       "      <th>3</th>\n",
       "      <td>BROCK</td>\n",
       "      <td>47.0</td>\n",
       "      <td>-0.163349</td>\n",
       "    </tr>\n",
       "    <tr>\n",
       "      <th>4</th>\n",
       "      <td>RICO</td>\n",
       "      <td>28.0</td>\n",
       "      <td>-0.593457</td>\n",
       "    </tr>\n",
       "  </tbody>\n",
       "</table>\n",
       "</div>"
      ],
      "text/plain": [
       "  brawler  Weighted Betweenness Centrality  \\\n",
       "0  SHELLY                            396.0   \n",
       "1    COLT                            136.0   \n",
       "2    BULL                            146.0   \n",
       "3   BROCK                             47.0   \n",
       "4    RICO                             28.0   \n",
       "\n",
       "   Change in Weighted Betweenness Centrality  \n",
       "0                                  -4.399908  \n",
       "1                                   0.739876  \n",
       "2                                  -2.421414  \n",
       "3                                  -0.163349  \n",
       "4                                  -0.593457  "
      ]
     },
     "execution_count": 15,
     "metadata": {},
     "output_type": "execute_result"
    }
   ],
   "source": [
    "df_losses[\"Change in Weighted Betweenness Centrality\"] = (\n",
    "    df_losses[\"brawler\"].apply(\n",
    "        lambda brawler: delta_mean_betweenness_centrality(G_lose, brawler)\n",
    "    )\n",
    ")\n",
    "\n",
    "df_losses.head()"
   ]
  },
  {
   "cell_type": "code",
   "execution_count": 16,
   "id": "9180dcc2-8630-46d8-951f-f61d995512ee",
   "metadata": {
    "execution": {
     "iopub.execute_input": "2025-08-27T03:56:08.237336Z",
     "iopub.status.busy": "2025-08-27T03:56:08.237265Z",
     "iopub.status.idle": "2025-08-27T03:56:08.239416Z",
     "shell.execute_reply": "2025-08-27T03:56:08.239215Z",
     "shell.execute_reply.started": "2025-08-27T03:56:08.237327Z"
    }
   },
   "outputs": [],
   "source": [
    "df_losses.to_csv(\"../outputs/graph-data/loser-brawler-nodes.csv\", index = False)"
   ]
  },
  {
   "cell_type": "markdown",
   "id": "67ad4592-7f0a-4164-99b3-ab24eb13c360",
   "metadata": {},
   "source": [
    "## Analyzing Graphs"
   ]
  },
  {
   "cell_type": "markdown",
   "id": "d223367e-7da5-400f-8065-9174c1610aeb",
   "metadata": {},
   "source": [
    "### Victory Graph"
   ]
  },
  {
   "cell_type": "markdown",
   "id": "684c6007-1053-498a-9ce6-6ceaa42c1b6b",
   "metadata": {},
   "source": [
    "#### Distribution of Weighted Betweenness Centrality"
   ]
  },
  {
   "cell_type": "code",
   "execution_count": 17,
   "id": "3d7839a1-acdd-4e32-9e92-8d6db029e7f2",
   "metadata": {
    "execution": {
     "iopub.execute_input": "2025-08-27T03:56:08.239738Z",
     "iopub.status.busy": "2025-08-27T03:56:08.239677Z",
     "iopub.status.idle": "2025-08-27T03:56:08.245647Z",
     "shell.execute_reply": "2025-08-27T03:56:08.245415Z",
     "shell.execute_reply.started": "2025-08-27T03:56:08.239730Z"
    }
   },
   "outputs": [
    {
     "name": "stdout",
     "output_type": "stream",
     "text": [
      "Calculating best minimal value for power law fit\n",
      "R-value (Power Law vs. Exponential): 3.1830\n",
      "P-value (Power Law vs. Exponential): 0.1227\n",
      "\n",
      "Conclusion: There is no statistically significant difference between the two models.\n",
      "Further analysis or a different model may be needed.\n"
     ]
    },
    {
     "name": "stderr",
     "output_type": "stream",
     "text": [
      "Values less than or equal to 0 in data. Throwing out 0 or negative values\n"
     ]
    }
   ],
   "source": [
    "# Fit the data to a power law and an exponential distribution.\n",
    "win_powerlaw_fit = powerlaw.Fit(df_wins[\"Weighted Betweenness Centrality\"])\n",
    "\n",
    "# Perform the likelihood ratio test.\n",
    "## This test compares the goodness of fit of the power law and \n",
    "## exponential models.\n",
    "R_win, p_win = win_powerlaw_fit.distribution_compare(\n",
    "    'power_law', 'exponential'\n",
    ")\n",
    "\n",
    "print(f\"R-value (Power Law vs. Exponential): {R_win:.4f}\")\n",
    "print(f\"P-value (Power Law vs. Exponential): {p_win:.4f}\")\n",
    "\n",
    "# The R-value tells us which model is a better fit:\n",
    "# R > 0: Power law is a better fit.\n",
    "# R < 0: Exponential is a better fit.\n",
    "# The p-value tells us if that difference is statistically significant.\n",
    "if R_win > 0 and p_win < 0.05:\n",
    "    print(\n",
    "        \"\\nConclusion: The data is a significantly better fit for a power-law\"\n",
    "        \" distribution.\"\n",
    "    )\n",
    "elif R_win < 0 and p_win < 0.05:\n",
    "    print(\n",
    "        \"\\nConclusion: The data is a significantly better fit for an \"\n",
    "        \"exponential distribution.\"\n",
    "    )\n",
    "else:\n",
    "    print(\n",
    "        \"\\nConclusion: There is no statistically significant difference \"\n",
    "        \"between the two models.\"\n",
    "    )\n",
    "    print(\"Further analysis or a different model may be needed.\")\n"
   ]
  },
  {
   "cell_type": "code",
   "execution_count": 18,
   "id": "b3fba47a-fee9-4dba-abe2-400e2cfb32d4",
   "metadata": {
    "execution": {
     "iopub.execute_input": "2025-08-27T03:56:08.246069Z",
     "iopub.status.busy": "2025-08-27T03:56:08.245998Z",
     "iopub.status.idle": "2025-08-27T03:56:08.320974Z",
     "shell.execute_reply": "2025-08-27T03:56:08.320770Z",
     "shell.execute_reply.started": "2025-08-27T03:56:08.246060Z"
    }
   },
   "outputs": [
    {
     "data": {
      "image/png": "[encoded data removed]",
      "text/plain": [
       "<Figure size 640x480 with 1 Axes>"
      ]
     },
     "metadata": {},
     "output_type": "display_data"
    }
   ],
   "source": [
    "plt.hist(\n",
    "    df_wins[\"Weighted Betweenness Centrality\"], \n",
    "    bins = 50\n",
    ")\n",
    "plt.title(\n",
    "    \"Histogram of Weighted Betweenness\\nCentralities in the Winner Graph\", \n",
    "    fontsize = 20\n",
    ")\n",
    "plt.ylabel(\"Number of Brawlers\", fontsize = 15)\n",
    "plt.xlabel(\"Weighted Betweenness Centrality\", fontsize = 15)\n",
    "plt.show()"
   ]
  },
  {
   "cell_type": "markdown",
   "id": "7042c39a-db95-4b4a-8974-401bbb67772b",
   "metadata": {},
   "source": [
    "#### Average Clustering Coefficients of Nodes"
   ]
  },
  {
   "cell_type": "code",
   "execution_count": 19,
   "id": "ba35ff3e-9042-415a-ab2d-3dce9233680b",
   "metadata": {
    "execution": {
     "iopub.execute_input": "2025-08-27T03:56:08.321372Z",
     "iopub.status.busy": "2025-08-27T03:56:08.321302Z",
     "iopub.status.idle": "2025-08-27T03:56:08.323646Z",
     "shell.execute_reply": "2025-08-27T03:56:08.323441Z",
     "shell.execute_reply.started": "2025-08-27T03:56:08.321365Z"
    }
   },
   "outputs": [
    {
     "name": "stdout",
     "output_type": "stream",
     "text": [
      "Average Clustering Coefficient: 0.13643800227029262\n"
     ]
    }
   ],
   "source": [
    "print(\n",
    "    \"Average Clustering Coefficient:\", \n",
    "    nx.average_clustering(G_win)\n",
    ")"
   ]
  },
  {
   "cell_type": "markdown",
   "id": "fc7f536b-17df-46e6-9316-1e27492ae66f",
   "metadata": {},
   "source": [
    "#### OP Brawlers"
   ]
  },
  {
   "cell_type": "code",
   "execution_count": 20,
   "id": "b643ea19-6cd4-4f88-99dd-7c7f7a5ddb84",
   "metadata": {
    "execution": {
     "iopub.execute_input": "2025-08-27T03:56:08.324014Z",
     "iopub.status.busy": "2025-08-27T03:56:08.323948Z",
     "iopub.status.idle": "2025-08-27T03:56:08.359954Z",
     "shell.execute_reply": "2025-08-27T03:56:08.359736Z",
     "shell.execute_reply.started": "2025-08-27T03:56:08.324007Z"
    }
   },
   "outputs": [
    {
     "data": {
      "image/png": "[encoded data removed]",
      "text/plain": [
       "<Figure size 640x480 with 1 Axes>"
      ]
     },
     "metadata": {},
     "output_type": "display_data"
    }
   ],
   "source": [
    "df_wins.boxplot(column=\"Weighted Betweenness Centrality\")\n",
    "plt.title(\"Presence of Overpowered Brawlers\")\n",
    "plt.ylabel(\"Weighted Betweenness Centrality\")\n",
    "plt.show()"
   ]
  },
  {
   "cell_type": "code",
   "execution_count": 21,
   "id": "6e4ec6a1-6c84-42c3-997a-198fafb923a5",
   "metadata": {
    "execution": {
     "iopub.execute_input": "2025-08-27T03:56:08.361956Z",
     "iopub.status.busy": "2025-08-27T03:56:08.361878Z",
     "iopub.status.idle": "2025-08-27T03:56:08.367982Z",
     "shell.execute_reply": "2025-08-27T03:56:08.367697Z",
     "shell.execute_reply.started": "2025-08-27T03:56:08.361948Z"
    }
   },
   "outputs": [
    {
     "data": {
      "text/html": [
       "<div>\n",
       "<style scoped>\n",
       "    .dataframe tbody tr th:only-of-type {\n",
       "        vertical-align: middle;\n",
       "    }\n",
       "\n",
       "    .dataframe tbody tr th {\n",
       "        vertical-align: top;\n",
       "    }\n",
       "\n",
       "    .dataframe thead th {\n",
       "        text-align: right;\n",
       "    }\n",
       "</style>\n",
       "<table border=\"1\" class=\"dataframe\">\n",
       "  <thead>\n",
       "    <tr style=\"text-align: right;\">\n",
       "      <th></th>\n",
       "      <th>brawler</th>\n",
       "      <th>Weighted Betweenness Centrality</th>\n",
       "      <th>Change in Weighted Betweenness Centrality</th>\n",
       "    </tr>\n",
       "  </thead>\n",
       "  <tbody>\n",
       "    <tr>\n",
       "      <th>69</th>\n",
       "      <td>DOUG</td>\n",
       "      <td>1045.0</td>\n",
       "      <td>7.929536</td>\n",
       "    </tr>\n",
       "    <tr>\n",
       "      <th>72</th>\n",
       "      <td>CHARLIE</td>\n",
       "      <td>338.0</td>\n",
       "      <td>0.187600</td>\n",
       "    </tr>\n",
       "    <tr>\n",
       "      <th>74</th>\n",
       "      <td>KIT</td>\n",
       "      <td>335.0</td>\n",
       "      <td>-4.640357</td>\n",
       "    </tr>\n",
       "    <tr>\n",
       "      <th>90</th>\n",
       "      <td>JAE-YONG</td>\n",
       "      <td>311.0</td>\n",
       "      <td>1.348890</td>\n",
       "    </tr>\n",
       "    <tr>\n",
       "      <th>91</th>\n",
       "      <td>KAZE</td>\n",
       "      <td>286.0</td>\n",
       "      <td>-0.694120</td>\n",
       "    </tr>\n",
       "    <tr>\n",
       "      <th>68</th>\n",
       "      <td>CORDELIUS</td>\n",
       "      <td>216.5</td>\n",
       "      <td>0.692976</td>\n",
       "    </tr>\n",
       "    <tr>\n",
       "      <th>83</th>\n",
       "      <td>KENJI</td>\n",
       "      <td>182.0</td>\n",
       "      <td>0.553191</td>\n",
       "    </tr>\n",
       "  </tbody>\n",
       "</table>\n",
       "</div>"
      ],
      "text/plain": [
       "      brawler  Weighted Betweenness Centrality  \\\n",
       "69       DOUG                           1045.0   \n",
       "72    CHARLIE                            338.0   \n",
       "74        KIT                            335.0   \n",
       "90   JAE-YONG                            311.0   \n",
       "91       KAZE                            286.0   \n",
       "68  CORDELIUS                            216.5   \n",
       "83      KENJI                            182.0   \n",
       "\n",
       "    Change in Weighted Betweenness Centrality  \n",
       "69                                   7.929536  \n",
       "72                                   0.187600  \n",
       "74                                  -4.640357  \n",
       "90                                   1.348890  \n",
       "91                                  -0.694120  \n",
       "68                                   0.692976  \n",
       "83                                   0.553191  "
      ]
     },
     "execution_count": 21,
     "metadata": {},
     "output_type": "execute_result"
    }
   ],
   "source": [
    "(\n",
    "    extract_outliers(df_wins, \"Weighted Betweenness Centrality\")\n",
    "        .sort_values(\n",
    "            \"Weighted Betweenness Centrality\", \n",
    "            ascending = False\n",
    "        )\n",
    ")# [\"brawler\"].values"
   ]
  },
  {
   "cell_type": "markdown",
   "id": "6774fe5f-3f4e-4d73-9a86-d2e08d780ddb",
   "metadata": {},
   "source": [
    "### Defeat Graph"
   ]
  },
  {
   "cell_type": "markdown",
   "id": "c1ac4c4a-f1d6-4e12-9615-d209debbaf8a",
   "metadata": {},
   "source": [
    "#### Distribution of Weighted Betweenness Centrality"
   ]
  },
  {
   "cell_type": "code",
   "execution_count": 22,
   "id": "085974dc-1095-4d4b-96d3-81114a95e370",
   "metadata": {
    "execution": {
     "iopub.execute_input": "2025-08-27T03:56:08.368353Z",
     "iopub.status.busy": "2025-08-27T03:56:08.368280Z",
     "iopub.status.idle": "2025-08-27T03:56:08.373302Z",
     "shell.execute_reply": "2025-08-27T03:56:08.373048Z",
     "shell.execute_reply.started": "2025-08-27T03:56:08.368345Z"
    }
   },
   "outputs": [
    {
     "name": "stdout",
     "output_type": "stream",
     "text": [
      "Calculating best minimal value for power law fit\n",
      "R-value (Power Law vs. Exponential): 0.0540\n",
      "P-value (Power Law vs. Exponential): 0.9696\n",
      "\n",
      "Conclusion: There is no statistically significant difference between the two models.\n",
      "Further analysis or a different model may be needed.\n"
     ]
    },
    {
     "name": "stderr",
     "output_type": "stream",
     "text": [
      "Values less than or equal to 0 in data. Throwing out 0 or negative values\n"
     ]
    }
   ],
   "source": [
    "# Fit the data to a power law and an exponential distribution.\n",
    "lose_powerlaw_fit = powerlaw.Fit(df_losses[\"Weighted Betweenness Centrality\"])\n",
    "\n",
    "# Perform the likelihood ratio test.\n",
    "## This test compares the goodness of fit of the power law and \n",
    "## exponential models.\n",
    "R_lose, p_lose = lose_powerlaw_fit.distribution_compare(\n",
    "    'power_law', 'exponential'\n",
    ")\n",
    "\n",
    "print(f\"R-value (Power Law vs. Exponential): {R_lose:.4f}\")\n",
    "print(f\"P-value (Power Law vs. Exponential): {p_lose:.4f}\")\n",
    "\n",
    "# The R-value tells us which model is a better fit:\n",
    "# R > 0: Power law is a better fit.\n",
    "# R < 0: Exponential is a better fit.\n",
    "# The p-value tells us if that difference is statistically significant.\n",
    "if R_lose > 0 and p_lose < 0.05:\n",
    "    print(\n",
    "        \"\\nConclusion: The data is a significantly better fit for a power-law\"\n",
    "        \" distribution.\"\n",
    "    )\n",
    "elif R_lose < 0 and p_lose < 0.05:\n",
    "    print(\n",
    "        \"\\nConclusion: The data is a significantly better fit for an \"\n",
    "        \"exponential distribution.\"\n",
    "    )\n",
    "else:\n",
    "    print(\n",
    "        \"\\nConclusion: There is no statistically significant difference \"\n",
    "        \"between the two models.\"\n",
    "    )\n",
    "    print(\"Further analysis or a different model may be needed.\")\n"
   ]
  },
  {
   "cell_type": "code",
   "execution_count": 23,
   "id": "05888295-9acf-4d71-aee6-60c986195e00",
   "metadata": {
    "execution": {
     "iopub.execute_input": "2025-08-27T03:56:08.373717Z",
     "iopub.status.busy": "2025-08-27T03:56:08.373648Z",
     "iopub.status.idle": "2025-08-27T03:56:08.420224Z",
     "shell.execute_reply": "2025-08-27T03:56:08.419982Z",
     "shell.execute_reply.started": "2025-08-27T03:56:08.373709Z"
    }
   },
   "outputs": [
    {
     "data": {
      "image/png": "[encoded data removed]",
      "text/plain": [
       "<Figure size 640x480 with 1 Axes>"
      ]
     },
     "metadata": {},
     "output_type": "display_data"
    }
   ],
   "source": [
    "plt.hist(\n",
    "    df_losses[\"Weighted Betweenness Centrality\"], \n",
    "    bins = 50\n",
    ")\n",
    "plt.title(\n",
    "    \"Histogram of Weighted Betweenness\\nCentralities in the Loser Graph\", \n",
    "    fontsize = 20\n",
    ")\n",
    "plt.ylabel(\"Number of Brawlers\", fontsize = 15)\n",
    "plt.xlabel(\"Weighted Betweenness Centrality\", fontsize = 15)\n",
    "plt.show()"
   ]
  },
  {
   "cell_type": "markdown",
   "id": "99d2a3f6-efb9-4ee4-8abc-2bab37526db4",
   "metadata": {},
   "source": [
    "#### Average Clustering Coefficients of Nodes"
   ]
  },
  {
   "cell_type": "code",
   "execution_count": 24,
   "id": "e4fe6cc1-01eb-43df-91a3-763dfb1ba83e",
   "metadata": {
    "execution": {
     "iopub.execute_input": "2025-08-27T03:56:08.420638Z",
     "iopub.status.busy": "2025-08-27T03:56:08.420564Z",
     "iopub.status.idle": "2025-08-27T03:56:08.422716Z",
     "shell.execute_reply": "2025-08-27T03:56:08.422517Z",
     "shell.execute_reply.started": "2025-08-27T03:56:08.420629Z"
    }
   },
   "outputs": [
    {
     "name": "stdout",
     "output_type": "stream",
     "text": [
      "Average Clustering Coefficient: 0.1813298416519548\n"
     ]
    }
   ],
   "source": [
    "print(\n",
    "    \"Average Clustering Coefficient:\", \n",
    "    nx.average_clustering(G_lose)\n",
    ")"
   ]
  },
  {
   "cell_type": "markdown",
   "id": "597361d2-4b7b-4709-8a65-39e6804ad9b1",
   "metadata": {},
   "source": [
    "#### UP Brawlers"
   ]
  },
  {
   "cell_type": "code",
   "execution_count": 25,
   "id": "e90d3d5a-0df7-4bed-9221-ce2c21a384a9",
   "metadata": {
    "execution": {
     "iopub.execute_input": "2025-08-27T03:56:08.423011Z",
     "iopub.status.busy": "2025-08-27T03:56:08.422946Z",
     "iopub.status.idle": "2025-08-27T03:56:08.452301Z",
     "shell.execute_reply": "2025-08-27T03:56:08.452051Z",
     "shell.execute_reply.started": "2025-08-27T03:56:08.423004Z"
    }
   },
   "outputs": [
    {
     "data": {
      "image/png": "[encoded data removed]",
      "text/plain": [
       "<Figure size 640x480 with 1 Axes>"
      ]
     },
     "metadata": {},
     "output_type": "display_data"
    }
   ],
   "source": [
    "df_losses.boxplot(column=\"Weighted Betweenness Centrality\")\n",
    "plt.title(\"Presence of Underpowered Brawlers\")\n",
    "plt.show()"
   ]
  },
  {
   "cell_type": "code",
   "execution_count": 26,
   "id": "8bc4f663-22bf-4c8f-971d-7cffd9f7243e",
   "metadata": {
    "execution": {
     "iopub.execute_input": "2025-08-27T03:56:08.452763Z",
     "iopub.status.busy": "2025-08-27T03:56:08.452676Z",
     "iopub.status.idle": "2025-08-27T03:56:08.457842Z",
     "shell.execute_reply": "2025-08-27T03:56:08.457583Z",
     "shell.execute_reply.started": "2025-08-27T03:56:08.452753Z"
    }
   },
   "outputs": [
    {
     "data": {
      "text/html": [
       "<div>\n",
       "<style scoped>\n",
       "    .dataframe tbody tr th:only-of-type {\n",
       "        vertical-align: middle;\n",
       "    }\n",
       "\n",
       "    .dataframe tbody tr th {\n",
       "        vertical-align: top;\n",
       "    }\n",
       "\n",
       "    .dataframe thead th {\n",
       "        text-align: right;\n",
       "    }\n",
       "</style>\n",
       "<table border=\"1\" class=\"dataframe\">\n",
       "  <thead>\n",
       "    <tr style=\"text-align: right;\">\n",
       "      <th></th>\n",
       "      <th>brawler</th>\n",
       "      <th>Weighted Betweenness Centrality</th>\n",
       "      <th>Change in Weighted Betweenness Centrality</th>\n",
       "    </tr>\n",
       "  </thead>\n",
       "  <tbody>\n",
       "    <tr>\n",
       "      <th>44</th>\n",
       "      <td>STU</td>\n",
       "      <td>545.0</td>\n",
       "      <td>3.707618</td>\n",
       "    </tr>\n",
       "    <tr>\n",
       "      <th>16</th>\n",
       "      <td>PAM</td>\n",
       "      <td>533.0</td>\n",
       "      <td>1.503317</td>\n",
       "    </tr>\n",
       "    <tr>\n",
       "      <th>0</th>\n",
       "      <td>SHELLY</td>\n",
       "      <td>396.0</td>\n",
       "      <td>-4.399908</td>\n",
       "    </tr>\n",
       "    <tr>\n",
       "      <th>6</th>\n",
       "      <td>BARLEY</td>\n",
       "      <td>341.0</td>\n",
       "      <td>0.858156</td>\n",
       "    </tr>\n",
       "    <tr>\n",
       "      <th>21</th>\n",
       "      <td>GENE</td>\n",
       "      <td>301.0</td>\n",
       "      <td>-1.668726</td>\n",
       "    </tr>\n",
       "    <tr>\n",
       "      <th>13</th>\n",
       "      <td>POCO</td>\n",
       "      <td>271.0</td>\n",
       "      <td>-0.561199</td>\n",
       "    </tr>\n",
       "    <tr>\n",
       "      <th>9</th>\n",
       "      <td>DYNAMIKE</td>\n",
       "      <td>259.0</td>\n",
       "      <td>-4.012812</td>\n",
       "    </tr>\n",
       "    <tr>\n",
       "      <th>10</th>\n",
       "      <td>EL PRIMO</td>\n",
       "      <td>227.0</td>\n",
       "      <td>1.342027</td>\n",
       "    </tr>\n",
       "    <tr>\n",
       "      <th>41</th>\n",
       "      <td>BYRON</td>\n",
       "      <td>205.0</td>\n",
       "      <td>-0.109586</td>\n",
       "    </tr>\n",
       "    <tr>\n",
       "      <th>8</th>\n",
       "      <td>NITA</td>\n",
       "      <td>203.0</td>\n",
       "      <td>0.428049</td>\n",
       "    </tr>\n",
       "    <tr>\n",
       "      <th>24</th>\n",
       "      <td>ROSA</td>\n",
       "      <td>182.0</td>\n",
       "      <td>-0.152597</td>\n",
       "    </tr>\n",
       "    <tr>\n",
       "      <th>29</th>\n",
       "      <td>BEA</td>\n",
       "      <td>179.0</td>\n",
       "      <td>0.664608</td>\n",
       "    </tr>\n",
       "  </tbody>\n",
       "</table>\n",
       "</div>"
      ],
      "text/plain": [
       "     brawler  Weighted Betweenness Centrality  \\\n",
       "44       STU                            545.0   \n",
       "16       PAM                            533.0   \n",
       "0     SHELLY                            396.0   \n",
       "6     BARLEY                            341.0   \n",
       "21      GENE                            301.0   \n",
       "13      POCO                            271.0   \n",
       "9   DYNAMIKE                            259.0   \n",
       "10  EL PRIMO                            227.0   \n",
       "41     BYRON                            205.0   \n",
       "8       NITA                            203.0   \n",
       "24      ROSA                            182.0   \n",
       "29       BEA                            179.0   \n",
       "\n",
       "    Change in Weighted Betweenness Centrality  \n",
       "44                                   3.707618  \n",
       "16                                   1.503317  \n",
       "0                                   -4.399908  \n",
       "6                                    0.858156  \n",
       "21                                  -1.668726  \n",
       "13                                  -0.561199  \n",
       "9                                   -4.012812  \n",
       "10                                   1.342027  \n",
       "41                                  -0.109586  \n",
       "8                                    0.428049  \n",
       "24                                  -0.152597  \n",
       "29                                   0.664608  "
      ]
     },
     "execution_count": 26,
     "metadata": {},
     "output_type": "execute_result"
    }
   ],
   "source": [
    "(\n",
    "    extract_outliers(df_losses, \"Weighted Betweenness Centrality\")\n",
    "        .sort_values(\n",
    "            \"Weighted Betweenness Centrality\", \n",
    "            ascending = False\n",
    "        )\n",
    ")"
   ]
  },
  {
   "cell_type": "markdown",
   "id": "ef1facf1-6e0e-487b-9c38-f9ee74012fa3",
   "metadata": {},
   "source": [
    "## Evaluating Impact of Attacks"
   ]
  },
  {
   "cell_type": "markdown",
   "id": "845dce16-8250-42dd-bee7-c3ca883f9e6c",
   "metadata": {},
   "source": [
    "### Victory Graph"
   ]
  },
  {
   "cell_type": "code",
   "execution_count": 27,
   "id": "8bc7cefb-929e-48c6-b867-e95a18d993e8",
   "metadata": {
    "execution": {
     "iopub.execute_input": "2025-08-27T03:56:08.458186Z",
     "iopub.status.busy": "2025-08-27T03:56:08.458119Z",
     "iopub.status.idle": "2025-08-27T03:56:08.487401Z",
     "shell.execute_reply": "2025-08-27T03:56:08.487164Z",
     "shell.execute_reply.started": "2025-08-27T03:56:08.458178Z"
    }
   },
   "outputs": [
    {
     "data": {
      "image/png": "[encoded data removed]",
      "text/plain": [
       "<Figure size 640x480 with 1 Axes>"
      ]
     },
     "metadata": {},
     "output_type": "display_data"
    }
   ],
   "source": [
    "df_wins.boxplot(column=\"Change in Weighted Betweenness Centrality\")\n",
    "plt.title(\"Impact of Brawlers Nerfs\")\n",
    "plt.show()"
   ]
  },
  {
   "cell_type": "code",
   "execution_count": 28,
   "id": "a4611447-b1fe-4c1d-9cf0-910bd25266f2",
   "metadata": {
    "execution": {
     "iopub.execute_input": "2025-08-27T03:56:08.487896Z",
     "iopub.status.busy": "2025-08-27T03:56:08.487821Z",
     "iopub.status.idle": "2025-08-27T03:56:08.492687Z",
     "shell.execute_reply": "2025-08-27T03:56:08.492456Z",
     "shell.execute_reply.started": "2025-08-27T03:56:08.487887Z"
    }
   },
   "outputs": [
    {
     "data": {
      "text/html": [
       "<div>\n",
       "<style scoped>\n",
       "    .dataframe tbody tr th:only-of-type {\n",
       "        vertical-align: middle;\n",
       "    }\n",
       "\n",
       "    .dataframe tbody tr th {\n",
       "        vertical-align: top;\n",
       "    }\n",
       "\n",
       "    .dataframe thead th {\n",
       "        text-align: right;\n",
       "    }\n",
       "</style>\n",
       "<table border=\"1\" class=\"dataframe\">\n",
       "  <thead>\n",
       "    <tr style=\"text-align: right;\">\n",
       "      <th></th>\n",
       "      <th>brawler</th>\n",
       "      <th>Weighted Betweenness Centrality</th>\n",
       "      <th>Change in Weighted Betweenness Centrality</th>\n",
       "    </tr>\n",
       "  </thead>\n",
       "  <tbody>\n",
       "    <tr>\n",
       "      <th>69</th>\n",
       "      <td>DOUG</td>\n",
       "      <td>1045.0</td>\n",
       "      <td>7.929536</td>\n",
       "    </tr>\n",
       "    <tr>\n",
       "      <th>90</th>\n",
       "      <td>JAE-YONG</td>\n",
       "      <td>311.0</td>\n",
       "      <td>1.348890</td>\n",
       "    </tr>\n",
       "    <tr>\n",
       "      <th>70</th>\n",
       "      <td>PEARL</td>\n",
       "      <td>147.0</td>\n",
       "      <td>-3.425303</td>\n",
       "    </tr>\n",
       "    <tr>\n",
       "      <th>78</th>\n",
       "      <td>DRACO</td>\n",
       "      <td>96.0</td>\n",
       "      <td>-3.468314</td>\n",
       "    </tr>\n",
       "    <tr>\n",
       "      <th>74</th>\n",
       "      <td>KIT</td>\n",
       "      <td>335.0</td>\n",
       "      <td>-4.640357</td>\n",
       "    </tr>\n",
       "  </tbody>\n",
       "</table>\n",
       "</div>"
      ],
      "text/plain": [
       "     brawler  Weighted Betweenness Centrality  \\\n",
       "69      DOUG                           1045.0   \n",
       "90  JAE-YONG                            311.0   \n",
       "70     PEARL                            147.0   \n",
       "78     DRACO                             96.0   \n",
       "74       KIT                            335.0   \n",
       "\n",
       "    Change in Weighted Betweenness Centrality  \n",
       "69                                   7.929536  \n",
       "90                                   1.348890  \n",
       "70                                  -3.425303  \n",
       "78                                  -3.468314  \n",
       "74                                  -4.640357  "
      ]
     },
     "execution_count": 28,
     "metadata": {},
     "output_type": "execute_result"
    }
   ],
   "source": [
    "(\n",
    "    extract_outliers(df_wins, \"Change in Weighted Betweenness Centrality\")\n",
    "        .sort_values(\n",
    "            \"Change in Weighted Betweenness Centrality\", \n",
    "            ascending = False\n",
    "        )\n",
    ")"
   ]
  },
  {
   "cell_type": "markdown",
   "id": "1f068bf9-682b-4082-9dfe-bda4b01367c9",
   "metadata": {},
   "source": [
    "### Defeat Graph"
   ]
  },
  {
   "cell_type": "code",
   "execution_count": 29,
   "id": "fac5b269-fea5-43df-ae1b-01d03dd78e0c",
   "metadata": {
    "execution": {
     "iopub.execute_input": "2025-08-27T03:56:08.493018Z",
     "iopub.status.busy": "2025-08-27T03:56:08.492949Z",
     "iopub.status.idle": "2025-08-27T03:56:08.524939Z",
     "shell.execute_reply": "2025-08-27T03:56:08.524536Z",
     "shell.execute_reply.started": "2025-08-27T03:56:08.493009Z"
    }
   },
   "outputs": [
    {
     "data": {
      "image/png": "[encoded data removed]",
      "text/plain": [
       "<Figure size 640x480 with 1 Axes>"
      ]
     },
     "metadata": {},
     "output_type": "display_data"
    }
   ],
   "source": [
    "df_losses.boxplot(column=\"Change in Weighted Betweenness Centrality\")\n",
    "plt.title(\"Impact of Brawlers Nerfs\")\n",
    "plt.show()"
   ]
  },
  {
   "cell_type": "code",
   "execution_count": 30,
   "id": "41342489-e14b-4f2a-8a46-184d09ecf6b0",
   "metadata": {
    "execution": {
     "iopub.execute_input": "2025-08-27T03:56:08.525329Z",
     "iopub.status.busy": "2025-08-27T03:56:08.525254Z",
     "iopub.status.idle": "2025-08-27T03:56:08.532149Z",
     "shell.execute_reply": "2025-08-27T03:56:08.531868Z",
     "shell.execute_reply.started": "2025-08-27T03:56:08.525321Z"
    }
   },
   "outputs": [
    {
     "data": {
      "text/html": [
       "<div>\n",
       "<style scoped>\n",
       "    .dataframe tbody tr th:only-of-type {\n",
       "        vertical-align: middle;\n",
       "    }\n",
       "\n",
       "    .dataframe tbody tr th {\n",
       "        vertical-align: top;\n",
       "    }\n",
       "\n",
       "    .dataframe thead th {\n",
       "        text-align: right;\n",
       "    }\n",
       "</style>\n",
       "<table border=\"1\" class=\"dataframe\">\n",
       "  <thead>\n",
       "    <tr style=\"text-align: right;\">\n",
       "      <th></th>\n",
       "      <th>brawler</th>\n",
       "      <th>Weighted Betweenness Centrality</th>\n",
       "      <th>Change in Weighted Betweenness Centrality</th>\n",
       "    </tr>\n",
       "  </thead>\n",
       "  <tbody>\n",
       "    <tr>\n",
       "      <th>44</th>\n",
       "      <td>STU</td>\n",
       "      <td>545.0</td>\n",
       "      <td>3.707618</td>\n",
       "    </tr>\n",
       "    <tr>\n",
       "      <th>16</th>\n",
       "      <td>PAM</td>\n",
       "      <td>533.0</td>\n",
       "      <td>1.503317</td>\n",
       "    </tr>\n",
       "    <tr>\n",
       "      <th>22</th>\n",
       "      <td>TICK</td>\n",
       "      <td>143.0</td>\n",
       "      <td>-2.733242</td>\n",
       "    </tr>\n",
       "    <tr>\n",
       "      <th>45</th>\n",
       "      <td>BELLE</td>\n",
       "      <td>134.0</td>\n",
       "      <td>-3.464425</td>\n",
       "    </tr>\n",
       "    <tr>\n",
       "      <th>39</th>\n",
       "      <td>AMBER</td>\n",
       "      <td>100.0</td>\n",
       "      <td>-3.539693</td>\n",
       "    </tr>\n",
       "    <tr>\n",
       "      <th>82</th>\n",
       "      <td>MOE</td>\n",
       "      <td>90.0</td>\n",
       "      <td>-3.636468</td>\n",
       "    </tr>\n",
       "    <tr>\n",
       "      <th>61</th>\n",
       "      <td>CHESTER</td>\n",
       "      <td>79.0</td>\n",
       "      <td>-3.787005</td>\n",
       "    </tr>\n",
       "    <tr>\n",
       "      <th>9</th>\n",
       "      <td>DYNAMIKE</td>\n",
       "      <td>259.0</td>\n",
       "      <td>-4.012812</td>\n",
       "    </tr>\n",
       "    <tr>\n",
       "      <th>0</th>\n",
       "      <td>SHELLY</td>\n",
       "      <td>396.0</td>\n",
       "      <td>-4.399908</td>\n",
       "    </tr>\n",
       "  </tbody>\n",
       "</table>\n",
       "</div>"
      ],
      "text/plain": [
       "     brawler  Weighted Betweenness Centrality  \\\n",
       "44       STU                            545.0   \n",
       "16       PAM                            533.0   \n",
       "22      TICK                            143.0   \n",
       "45     BELLE                            134.0   \n",
       "39     AMBER                            100.0   \n",
       "82       MOE                             90.0   \n",
       "61   CHESTER                             79.0   \n",
       "9   DYNAMIKE                            259.0   \n",
       "0     SHELLY                            396.0   \n",
       "\n",
       "    Change in Weighted Betweenness Centrality  \n",
       "44                                   3.707618  \n",
       "16                                   1.503317  \n",
       "22                                  -2.733242  \n",
       "45                                  -3.464425  \n",
       "39                                  -3.539693  \n",
       "82                                  -3.636468  \n",
       "61                                  -3.787005  \n",
       "9                                   -4.012812  \n",
       "0                                   -4.399908  "
      ]
     },
     "execution_count": 30,
     "metadata": {},
     "output_type": "execute_result"
    }
   ],
   "source": [
    "(\n",
    "    extract_outliers(df_losses, \"Change in Weighted Betweenness Centrality\")\n",
    "        .sort_values(\n",
    "            \"Change in Weighted Betweenness Centrality\", \n",
    "            ascending = False\n",
    "        )\n",
    ")"
   ]
  }
 ],
 "metadata": {
  "kernelspec": {
   "display_name": "Brawl Stars",
   "language": "python",
   "name": "brawl-stars"
  },
  "language_info": {
   "codemirror_mode": {
    "name": "ipython",
    "version": 3
   },
   "file_extension": ".py",
   "mimetype": "text/x-python",
   "name": "python",
   "nbconvert_exporter": "python",
   "pygments_lexer": "ipython3",
   "version": "3.10.18"
  }
 },
 "nbformat": 4,
 "nbformat_minor": 5
}
