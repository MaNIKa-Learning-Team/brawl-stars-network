{
 "cells": [
  {
   "cell_type": "markdown",
   "id": "1d0852a8-6461-40a1-83e3-36c33533b02c",
   "metadata": {},
   "source": [
    "# Business Problem\n",
    "\n",
    "### Purpose\n",
    "This notebook is for getting data and graphs for establishing the business problem of Brawl Stars."
   ]
  },
  {
   "cell_type": "markdown",
   "id": "99bfd630-e91d-48a9-b5ee-655a435118d0",
   "metadata": {},
   "source": [
    "## Importing Libraries"
   ]
  },
  {
   "cell_type": "code",
   "execution_count": 1,
   "id": "d7ef4d91-345f-43e9-a906-e6b60f66de23",
   "metadata": {
    "execution": {
     "iopub.execute_input": "2025-08-14T09:23:20.725648Z",
     "iopub.status.busy": "2025-08-14T09:23:20.725473Z",
     "iopub.status.idle": "2025-08-14T09:23:21.458157Z",
     "shell.execute_reply": "2025-08-14T09:23:21.457847Z",
     "shell.execute_reply.started": "2025-08-14T09:23:20.725634Z"
    }
   },
   "outputs": [],
   "source": [
    "import pandas as pd\n",
    "import matplotlib.pyplot as plt"
   ]
  },
  {
   "cell_type": "markdown",
   "id": "c3145a32-2bcc-4247-aa41-b3b6c4a59c9c",
   "metadata": {},
   "source": [
    "## Downloading Files"
   ]
  },
  {
   "cell_type": "code",
   "execution_count": 2,
   "id": "9d144509-11d8-4811-b2ad-da6b8757fcf9",
   "metadata": {
    "execution": {
     "iopub.execute_input": "2025-08-14T09:23:21.458616Z",
     "iopub.status.busy": "2025-08-14T09:23:21.458516Z",
     "iopub.status.idle": "2025-08-14T09:23:21.465713Z",
     "shell.execute_reply": "2025-08-14T09:23:21.465467Z",
     "shell.execute_reply.started": "2025-08-14T09:23:21.458607Z"
    }
   },
   "outputs": [],
   "source": [
    "df_downloads = pd.read_csv(\"../data/monthly-downloads.csv\")\n",
    "df_revenue = pd.read_csv(\"../data/global-brawl-stars-iap-revenue.csv\")"
   ]
  },
  {
   "cell_type": "markdown",
   "id": "4c856036-bf77-42c0-b176-618b8a5b3fb5",
   "metadata": {},
   "source": [
    "### Combining Download and Revenue Data"
   ]
  },
  {
   "cell_type": "code",
   "execution_count": 3,
   "id": "d4149bf3-6fad-4062-b030-a80e2075a7aa",
   "metadata": {
    "execution": {
     "iopub.execute_input": "2025-08-14T09:23:21.466108Z",
     "iopub.status.busy": "2025-08-14T09:23:21.466055Z",
     "iopub.status.idle": "2025-08-14T09:23:21.468750Z",
     "shell.execute_reply": "2025-08-14T09:23:21.468553Z",
     "shell.execute_reply.started": "2025-08-14T09:23:21.466101Z"
    }
   },
   "outputs": [],
   "source": [
    "df = df_downloads.copy()\n",
    "df[\"revenue_in_million_usd\"] = df_revenue[\"revenue_in_million_usd\"]"
   ]
  },
  {
   "cell_type": "markdown",
   "id": "6e8265dc-2bb9-478c-b00c-d7fd84edd3d6",
   "metadata": {},
   "source": [
    "### Formatting Month Data"
   ]
  },
  {
   "cell_type": "code",
   "execution_count": 4,
   "id": "48a66cd9-896c-4f1b-ba43-fc26a6af2122",
   "metadata": {
    "execution": {
     "iopub.execute_input": "2025-08-14T09:23:21.469439Z",
     "iopub.status.busy": "2025-08-14T09:23:21.469121Z",
     "iopub.status.idle": "2025-08-14T09:23:21.472839Z",
     "shell.execute_reply": "2025-08-14T09:23:21.472645Z",
     "shell.execute_reply.started": "2025-08-14T09:23:21.469412Z"
    }
   },
   "outputs": [],
   "source": [
    "df[\"month\"] = pd.to_datetime(df[\"month\"], format=\"%Y-%m\")"
   ]
  },
  {
   "cell_type": "code",
   "execution_count": 5,
   "id": "d9b5f13f-8fd7-4634-a912-f5903105473e",
   "metadata": {
    "execution": {
     "iopub.execute_input": "2025-08-14T09:23:21.473225Z",
     "iopub.status.busy": "2025-08-14T09:23:21.473156Z",
     "iopub.status.idle": "2025-08-14T09:23:21.477964Z",
     "shell.execute_reply": "2025-08-14T09:23:21.477807Z",
     "shell.execute_reply.started": "2025-08-14T09:23:21.473218Z"
    }
   },
   "outputs": [
    {
     "data": {
      "text/html": [
       "<div>\n",
       "<style scoped>\n",
       "    .dataframe tbody tr th:only-of-type {\n",
       "        vertical-align: middle;\n",
       "    }\n",
       "\n",
       "    .dataframe tbody tr th {\n",
       "        vertical-align: top;\n",
       "    }\n",
       "\n",
       "    .dataframe thead th {\n",
       "        text-align: right;\n",
       "    }\n",
       "</style>\n",
       "<table border=\"1\" class=\"dataframe\">\n",
       "  <thead>\n",
       "    <tr style=\"text-align: right;\">\n",
       "      <th></th>\n",
       "      <th>month</th>\n",
       "      <th>download_in_millions</th>\n",
       "      <th>revenue_in_million_usd</th>\n",
       "    </tr>\n",
       "  </thead>\n",
       "  <tbody>\n",
       "    <tr>\n",
       "      <th>0</th>\n",
       "      <td>2018-12-01</td>\n",
       "      <td>30.84</td>\n",
       "      <td>28.21</td>\n",
       "    </tr>\n",
       "    <tr>\n",
       "      <th>1</th>\n",
       "      <td>2019-01-01</td>\n",
       "      <td>19.55</td>\n",
       "      <td>40.02</td>\n",
       "    </tr>\n",
       "    <tr>\n",
       "      <th>2</th>\n",
       "      <td>2019-02-01</td>\n",
       "      <td>12.90</td>\n",
       "      <td>35.61</td>\n",
       "    </tr>\n",
       "    <tr>\n",
       "      <th>3</th>\n",
       "      <td>2019-03-01</td>\n",
       "      <td>9.92</td>\n",
       "      <td>33.82</td>\n",
       "    </tr>\n",
       "    <tr>\n",
       "      <th>4</th>\n",
       "      <td>2019-04-01</td>\n",
       "      <td>7.37</td>\n",
       "      <td>26.66</td>\n",
       "    </tr>\n",
       "  </tbody>\n",
       "</table>\n",
       "</div>"
      ],
      "text/plain": [
       "       month  download_in_millions  revenue_in_million_usd\n",
       "0 2018-12-01                 30.84                   28.21\n",
       "1 2019-01-01                 19.55                   40.02\n",
       "2 2019-02-01                 12.90                   35.61\n",
       "3 2019-03-01                  9.92                   33.82\n",
       "4 2019-04-01                  7.37                   26.66"
      ]
     },
     "execution_count": 5,
     "metadata": {},
     "output_type": "execute_result"
    }
   ],
   "source": [
    "df.head()"
   ]
  },
  {
   "cell_type": "markdown",
   "id": "5b95fed6-35ca-4996-88d9-1ee51abd5e31",
   "metadata": {},
   "source": [
    "## Declining in Revenue\n",
    "Brawl Stars grew so big that it was the 4th Supercell game to reach $1 billion in lifetime revenue. However, monthly revenue has declined with monthly downloads."
   ]
  },
  {
   "cell_type": "code",
   "execution_count": 6,
   "id": "bb030411-3213-44cc-9e72-eab98cf5905e",
   "metadata": {
    "execution": {
     "iopub.execute_input": "2025-08-14T09:23:21.478937Z",
     "iopub.status.busy": "2025-08-14T09:23:21.478862Z",
     "iopub.status.idle": "2025-08-14T09:23:21.480160Z",
     "shell.execute_reply": "2025-08-14T09:23:21.479981Z",
     "shell.execute_reply.started": "2025-08-14T09:23:21.478931Z"
    }
   },
   "outputs": [],
   "source": [
    "# Insert your code here"
   ]
  },
  {
   "cell_type": "markdown",
   "id": "c7a3419b-5390-4aed-84ab-3a208562ab55",
   "metadata": {},
   "source": [
    "### Correlation between Downloads and Revenue\n",
    "It is important to increase downloads to increase revenue."
   ]
  },
  {
   "cell_type": "code",
   "execution_count": 14,
   "id": "5d4df1f5-2317-4bcf-a876-40b7a9071aa7",
   "metadata": {
    "execution": {
     "iopub.execute_input": "2025-08-14T09:26:32.127042Z",
     "iopub.status.busy": "2025-08-14T09:26:32.123557Z",
     "iopub.status.idle": "2025-08-14T09:26:32.139155Z",
     "shell.execute_reply": "2025-08-14T09:26:32.138482Z",
     "shell.execute_reply.started": "2025-08-14T09:26:32.126991Z"
    }
   },
   "outputs": [
    {
     "data": {
      "text/html": [
       "<div>\n",
       "<style scoped>\n",
       "    .dataframe tbody tr th:only-of-type {\n",
       "        vertical-align: middle;\n",
       "    }\n",
       "\n",
       "    .dataframe tbody tr th {\n",
       "        vertical-align: top;\n",
       "    }\n",
       "\n",
       "    .dataframe thead th {\n",
       "        text-align: right;\n",
       "    }\n",
       "</style>\n",
       "<table border=\"1\" class=\"dataframe\">\n",
       "  <thead>\n",
       "    <tr style=\"text-align: right;\">\n",
       "      <th></th>\n",
       "      <th>download_in_millions</th>\n",
       "      <th>revenue_in_million_usd</th>\n",
       "    </tr>\n",
       "  </thead>\n",
       "  <tbody>\n",
       "    <tr>\n",
       "      <th>download_in_millions</th>\n",
       "      <td>1.000000</td>\n",
       "      <td>0.733133</td>\n",
       "    </tr>\n",
       "    <tr>\n",
       "      <th>revenue_in_million_usd</th>\n",
       "      <td>0.733133</td>\n",
       "      <td>1.000000</td>\n",
       "    </tr>\n",
       "  </tbody>\n",
       "</table>\n",
       "</div>"
      ],
      "text/plain": [
       "                        download_in_millions  revenue_in_million_usd\n",
       "download_in_millions                1.000000                0.733133\n",
       "revenue_in_million_usd              0.733133                1.000000"
      ]
     },
     "execution_count": 14,
     "metadata": {},
     "output_type": "execute_result"
    }
   ],
   "source": [
    "df_since_2020 = df[df[\"month\"] >= pd.to_datetime(\"January 1, 2020\")]\n",
    "df_since_2020[[\"download_in_millions\", \"revenue_in_million_usd\"]].corr()"
   ]
  },
  {
   "cell_type": "markdown",
   "id": "792f5784-3e1f-42da-b0be-5fe1df0ef5cd",
   "metadata": {},
   "source": [
    "## Saving Data into a File"
   ]
  },
  {
   "cell_type": "code",
   "execution_count": 7,
   "id": "98fb5ff8-5cad-452d-8589-df7c18829302",
   "metadata": {
    "execution": {
     "iopub.execute_input": "2025-08-14T09:23:21.480449Z",
     "iopub.status.busy": "2025-08-14T09:23:21.480398Z",
     "iopub.status.idle": "2025-08-14T09:23:21.484787Z",
     "shell.execute_reply": "2025-08-14T09:23:21.484582Z",
     "shell.execute_reply.started": "2025-08-14T09:23:21.480443Z"
    }
   },
   "outputs": [],
   "source": [
    "df.to_csv(\"../outputs/cleaned-data/monthly-data.csv\", index = False)"
   ]
  }
 ],
 "metadata": {
  "kernelspec": {
   "display_name": "Python 3 (ipykernel)",
   "language": "python",
   "name": "python3"
  },
  "language_info": {
   "codemirror_mode": {
    "name": "ipython",
    "version": 3
   },
   "file_extension": ".py",
   "mimetype": "text/x-python",
   "name": "python",
   "nbconvert_exporter": "python",
   "pygments_lexer": "ipython3",
   "version": "3.12.9"
  }
 },
 "nbformat": 4,
 "nbformat_minor": 5
}
